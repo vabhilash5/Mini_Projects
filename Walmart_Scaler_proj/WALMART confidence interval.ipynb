{
 "cells": [
  {
   "cell_type": "code",
   "execution_count": 1,
   "id": "3cc81fa0",
   "metadata": {},
   "outputs": [],
   "source": [
    "import numpy as np\n",
    "import pandas as pd\n",
    "import matplotlib.pyplot as plt\n",
    "import seaborn as sns\n",
    "from scipy import stats"
   ]
  },
  {
   "cell_type": "code",
   "execution_count": 2,
   "id": "c567ab37",
   "metadata": {},
   "outputs": [],
   "source": [
    "walmart_data = pd.read_csv('walmart_data.csv')"
   ]
  },
  {
   "cell_type": "code",
   "execution_count": 3,
   "id": "278c422b",
   "metadata": {
    "scrolled": true
   },
   "outputs": [
    {
     "data": {
      "text/html": [
       "<div>\n",
       "<style scoped>\n",
       "    .dataframe tbody tr th:only-of-type {\n",
       "        vertical-align: middle;\n",
       "    }\n",
       "\n",
       "    .dataframe tbody tr th {\n",
       "        vertical-align: top;\n",
       "    }\n",
       "\n",
       "    .dataframe thead th {\n",
       "        text-align: right;\n",
       "    }\n",
       "</style>\n",
       "<table border=\"1\" class=\"dataframe\">\n",
       "  <thead>\n",
       "    <tr style=\"text-align: right;\">\n",
       "      <th></th>\n",
       "      <th>User_ID</th>\n",
       "      <th>Product_ID</th>\n",
       "      <th>Gender</th>\n",
       "      <th>Age</th>\n",
       "      <th>Occupation</th>\n",
       "      <th>City_Category</th>\n",
       "      <th>Stay_In_Current_City_Years</th>\n",
       "      <th>Marital_Status</th>\n",
       "      <th>Product_Category</th>\n",
       "      <th>Purchase</th>\n",
       "    </tr>\n",
       "  </thead>\n",
       "  <tbody>\n",
       "    <tr>\n",
       "      <th>0</th>\n",
       "      <td>1000001</td>\n",
       "      <td>P00069042</td>\n",
       "      <td>F</td>\n",
       "      <td>0-17</td>\n",
       "      <td>10</td>\n",
       "      <td>A</td>\n",
       "      <td>2</td>\n",
       "      <td>0</td>\n",
       "      <td>3</td>\n",
       "      <td>8370</td>\n",
       "    </tr>\n",
       "    <tr>\n",
       "      <th>1</th>\n",
       "      <td>1000001</td>\n",
       "      <td>P00248942</td>\n",
       "      <td>F</td>\n",
       "      <td>0-17</td>\n",
       "      <td>10</td>\n",
       "      <td>A</td>\n",
       "      <td>2</td>\n",
       "      <td>0</td>\n",
       "      <td>1</td>\n",
       "      <td>15200</td>\n",
       "    </tr>\n",
       "    <tr>\n",
       "      <th>2</th>\n",
       "      <td>1000001</td>\n",
       "      <td>P00087842</td>\n",
       "      <td>F</td>\n",
       "      <td>0-17</td>\n",
       "      <td>10</td>\n",
       "      <td>A</td>\n",
       "      <td>2</td>\n",
       "      <td>0</td>\n",
       "      <td>12</td>\n",
       "      <td>1422</td>\n",
       "    </tr>\n",
       "    <tr>\n",
       "      <th>3</th>\n",
       "      <td>1000001</td>\n",
       "      <td>P00085442</td>\n",
       "      <td>F</td>\n",
       "      <td>0-17</td>\n",
       "      <td>10</td>\n",
       "      <td>A</td>\n",
       "      <td>2</td>\n",
       "      <td>0</td>\n",
       "      <td>12</td>\n",
       "      <td>1057</td>\n",
       "    </tr>\n",
       "    <tr>\n",
       "      <th>4</th>\n",
       "      <td>1000002</td>\n",
       "      <td>P00285442</td>\n",
       "      <td>M</td>\n",
       "      <td>55+</td>\n",
       "      <td>16</td>\n",
       "      <td>C</td>\n",
       "      <td>4+</td>\n",
       "      <td>0</td>\n",
       "      <td>8</td>\n",
       "      <td>7969</td>\n",
       "    </tr>\n",
       "  </tbody>\n",
       "</table>\n",
       "</div>"
      ],
      "text/plain": [
       "   User_ID Product_ID Gender   Age  Occupation City_Category  \\\n",
       "0  1000001  P00069042      F  0-17          10             A   \n",
       "1  1000001  P00248942      F  0-17          10             A   \n",
       "2  1000001  P00087842      F  0-17          10             A   \n",
       "3  1000001  P00085442      F  0-17          10             A   \n",
       "4  1000002  P00285442      M   55+          16             C   \n",
       "\n",
       "  Stay_In_Current_City_Years  Marital_Status  Product_Category  Purchase  \n",
       "0                          2               0                 3      8370  \n",
       "1                          2               0                 1     15200  \n",
       "2                          2               0                12      1422  \n",
       "3                          2               0                12      1057  \n",
       "4                         4+               0                 8      7969  "
      ]
     },
     "execution_count": 3,
     "metadata": {},
     "output_type": "execute_result"
    }
   ],
   "source": [
    "walmart_data.head()"
   ]
  },
  {
   "cell_type": "code",
   "execution_count": 4,
   "id": "983c9c78",
   "metadata": {},
   "outputs": [
    {
     "data": {
      "text/plain": [
       "(550068, 10)"
      ]
     },
     "execution_count": 4,
     "metadata": {},
     "output_type": "execute_result"
    }
   ],
   "source": [
    "walmart_data.shape"
   ]
  },
  {
   "cell_type": "code",
   "execution_count": 5,
   "id": "ece039d7",
   "metadata": {},
   "outputs": [
    {
     "name": "stdout",
     "output_type": "stream",
     "text": [
      "<class 'pandas.core.frame.DataFrame'>\n",
      "RangeIndex: 550068 entries, 0 to 550067\n",
      "Data columns (total 10 columns):\n",
      " #   Column                      Non-Null Count   Dtype \n",
      "---  ------                      --------------   ----- \n",
      " 0   User_ID                     550068 non-null  int64 \n",
      " 1   Product_ID                  550068 non-null  object\n",
      " 2   Gender                      550068 non-null  object\n",
      " 3   Age                         550068 non-null  object\n",
      " 4   Occupation                  550068 non-null  int64 \n",
      " 5   City_Category               550068 non-null  object\n",
      " 6   Stay_In_Current_City_Years  550068 non-null  object\n",
      " 7   Marital_Status              550068 non-null  int64 \n",
      " 8   Product_Category            550068 non-null  int64 \n",
      " 9   Purchase                    550068 non-null  int64 \n",
      "dtypes: int64(5), object(5)\n",
      "memory usage: 42.0+ MB\n"
     ]
    }
   ],
   "source": [
    "walmart_data.info()"
   ]
  },
  {
   "cell_type": "markdown",
   "id": "4ba089c3",
   "metadata": {},
   "source": [
    "- There are no null values in the given data"
   ]
  },
  {
   "cell_type": "code",
   "execution_count": 6,
   "id": "908bfd25",
   "metadata": {},
   "outputs": [
    {
     "data": {
      "text/html": [
       "<div>\n",
       "<style scoped>\n",
       "    .dataframe tbody tr th:only-of-type {\n",
       "        vertical-align: middle;\n",
       "    }\n",
       "\n",
       "    .dataframe tbody tr th {\n",
       "        vertical-align: top;\n",
       "    }\n",
       "\n",
       "    .dataframe thead th {\n",
       "        text-align: right;\n",
       "    }\n",
       "</style>\n",
       "<table border=\"1\" class=\"dataframe\">\n",
       "  <thead>\n",
       "    <tr style=\"text-align: right;\">\n",
       "      <th></th>\n",
       "      <th>User_ID</th>\n",
       "      <th>Occupation</th>\n",
       "      <th>Marital_Status</th>\n",
       "      <th>Product_Category</th>\n",
       "      <th>Purchase</th>\n",
       "    </tr>\n",
       "  </thead>\n",
       "  <tbody>\n",
       "    <tr>\n",
       "      <th>count</th>\n",
       "      <td>5.500680e+05</td>\n",
       "      <td>550068.000000</td>\n",
       "      <td>550068.000000</td>\n",
       "      <td>550068.000000</td>\n",
       "      <td>550068.000000</td>\n",
       "    </tr>\n",
       "    <tr>\n",
       "      <th>mean</th>\n",
       "      <td>1.003029e+06</td>\n",
       "      <td>8.076707</td>\n",
       "      <td>0.409653</td>\n",
       "      <td>5.404270</td>\n",
       "      <td>9263.968713</td>\n",
       "    </tr>\n",
       "    <tr>\n",
       "      <th>std</th>\n",
       "      <td>1.727592e+03</td>\n",
       "      <td>6.522660</td>\n",
       "      <td>0.491770</td>\n",
       "      <td>3.936211</td>\n",
       "      <td>5023.065394</td>\n",
       "    </tr>\n",
       "    <tr>\n",
       "      <th>min</th>\n",
       "      <td>1.000001e+06</td>\n",
       "      <td>0.000000</td>\n",
       "      <td>0.000000</td>\n",
       "      <td>1.000000</td>\n",
       "      <td>12.000000</td>\n",
       "    </tr>\n",
       "    <tr>\n",
       "      <th>25%</th>\n",
       "      <td>1.001516e+06</td>\n",
       "      <td>2.000000</td>\n",
       "      <td>0.000000</td>\n",
       "      <td>1.000000</td>\n",
       "      <td>5823.000000</td>\n",
       "    </tr>\n",
       "    <tr>\n",
       "      <th>50%</th>\n",
       "      <td>1.003077e+06</td>\n",
       "      <td>7.000000</td>\n",
       "      <td>0.000000</td>\n",
       "      <td>5.000000</td>\n",
       "      <td>8047.000000</td>\n",
       "    </tr>\n",
       "    <tr>\n",
       "      <th>75%</th>\n",
       "      <td>1.004478e+06</td>\n",
       "      <td>14.000000</td>\n",
       "      <td>1.000000</td>\n",
       "      <td>8.000000</td>\n",
       "      <td>12054.000000</td>\n",
       "    </tr>\n",
       "    <tr>\n",
       "      <th>max</th>\n",
       "      <td>1.006040e+06</td>\n",
       "      <td>20.000000</td>\n",
       "      <td>1.000000</td>\n",
       "      <td>20.000000</td>\n",
       "      <td>23961.000000</td>\n",
       "    </tr>\n",
       "  </tbody>\n",
       "</table>\n",
       "</div>"
      ],
      "text/plain": [
       "            User_ID     Occupation  Marital_Status  Product_Category  \\\n",
       "count  5.500680e+05  550068.000000   550068.000000     550068.000000   \n",
       "mean   1.003029e+06       8.076707        0.409653          5.404270   \n",
       "std    1.727592e+03       6.522660        0.491770          3.936211   \n",
       "min    1.000001e+06       0.000000        0.000000          1.000000   \n",
       "25%    1.001516e+06       2.000000        0.000000          1.000000   \n",
       "50%    1.003077e+06       7.000000        0.000000          5.000000   \n",
       "75%    1.004478e+06      14.000000        1.000000          8.000000   \n",
       "max    1.006040e+06      20.000000        1.000000         20.000000   \n",
       "\n",
       "            Purchase  \n",
       "count  550068.000000  \n",
       "mean     9263.968713  \n",
       "std      5023.065394  \n",
       "min        12.000000  \n",
       "25%      5823.000000  \n",
       "50%      8047.000000  \n",
       "75%     12054.000000  \n",
       "max     23961.000000  "
      ]
     },
     "execution_count": 6,
     "metadata": {},
     "output_type": "execute_result"
    }
   ],
   "source": [
    "walmart_data.describe()"
   ]
  },
  {
   "cell_type": "code",
   "execution_count": 7,
   "id": "87bc0fe2",
   "metadata": {},
   "outputs": [
    {
     "data": {
      "text/html": [
       "<div>\n",
       "<style scoped>\n",
       "    .dataframe tbody tr th:only-of-type {\n",
       "        vertical-align: middle;\n",
       "    }\n",
       "\n",
       "    .dataframe tbody tr th {\n",
       "        vertical-align: top;\n",
       "    }\n",
       "\n",
       "    .dataframe thead th {\n",
       "        text-align: right;\n",
       "    }\n",
       "</style>\n",
       "<table border=\"1\" class=\"dataframe\">\n",
       "  <thead>\n",
       "    <tr style=\"text-align: right;\">\n",
       "      <th></th>\n",
       "      <th>Product_ID</th>\n",
       "      <th>Gender</th>\n",
       "      <th>Age</th>\n",
       "      <th>City_Category</th>\n",
       "      <th>Stay_In_Current_City_Years</th>\n",
       "    </tr>\n",
       "  </thead>\n",
       "  <tbody>\n",
       "    <tr>\n",
       "      <th>count</th>\n",
       "      <td>550068</td>\n",
       "      <td>550068</td>\n",
       "      <td>550068</td>\n",
       "      <td>550068</td>\n",
       "      <td>550068</td>\n",
       "    </tr>\n",
       "    <tr>\n",
       "      <th>unique</th>\n",
       "      <td>3631</td>\n",
       "      <td>2</td>\n",
       "      <td>7</td>\n",
       "      <td>3</td>\n",
       "      <td>5</td>\n",
       "    </tr>\n",
       "    <tr>\n",
       "      <th>top</th>\n",
       "      <td>P00265242</td>\n",
       "      <td>M</td>\n",
       "      <td>26-35</td>\n",
       "      <td>B</td>\n",
       "      <td>1</td>\n",
       "    </tr>\n",
       "    <tr>\n",
       "      <th>freq</th>\n",
       "      <td>1880</td>\n",
       "      <td>414259</td>\n",
       "      <td>219587</td>\n",
       "      <td>231173</td>\n",
       "      <td>193821</td>\n",
       "    </tr>\n",
       "  </tbody>\n",
       "</table>\n",
       "</div>"
      ],
      "text/plain": [
       "       Product_ID  Gender     Age City_Category Stay_In_Current_City_Years\n",
       "count      550068  550068  550068        550068                     550068\n",
       "unique       3631       2       7             3                          5\n",
       "top     P00265242       M   26-35             B                          1\n",
       "freq         1880  414259  219587        231173                     193821"
      ]
     },
     "execution_count": 7,
     "metadata": {},
     "output_type": "execute_result"
    }
   ],
   "source": [
    "walmart_data.describe(include='object')"
   ]
  },
  {
   "cell_type": "code",
   "execution_count": 8,
   "id": "7ec9fb4e",
   "metadata": {},
   "outputs": [
    {
     "data": {
      "text/plain": [
       "<AxesSubplot:xlabel='Purchase'>"
      ]
     },
     "execution_count": 8,
     "metadata": {},
     "output_type": "execute_result"
    },
    {
     "data": {
      "image/png": "[encoded data removed]",
      "text/plain": [
       "<Figure size 432x288 with 1 Axes>"
      ]
     },
     "metadata": {
      "needs_background": "light"
     },
     "output_type": "display_data"
    }
   ],
   "source": [
    "sns.boxplot(data=walmart_data,x='Purchase')"
   ]
  },
  {
   "cell_type": "code",
   "execution_count": 9,
   "id": "c1dc866e",
   "metadata": {
    "scrolled": true
   },
   "outputs": [
    {
     "data": {
      "text/plain": [
       "<AxesSubplot:xlabel='Purchase'>"
      ]
     },
     "execution_count": 9,
     "metadata": {},
     "output_type": "execute_result"
    },
    {
     "data": {
      "image/png": "[encoded data removed]",
      "text/plain": [
       "<Figure size 432x288 with 1 Axes>"
      ]
     },
     "metadata": {
      "needs_background": "light"
     },
     "output_type": "display_data"
    }
   ],
   "source": [
    "sns.boxplot(data=walmart_data[walmart_data['Purchase']>21000],x='Purchase')"
   ]
  },
  {
   "cell_type": "markdown",
   "id": "ae2aed8b",
   "metadata": {},
   "source": [
    "- There are Products with price greater than 20000, so they are not outliers."
   ]
  },
  {
   "cell_type": "markdown",
   "id": "e9ce1be8",
   "metadata": {},
   "source": [
    "Lets group the data with users"
   ]
  },
  {
   "cell_type": "code",
   "execution_count": 10,
   "id": "7dc5b76f",
   "metadata": {},
   "outputs": [],
   "source": [
    "A=pd.DataFrame(walmart_data.groupby(['User_ID','Gender','Age','Occupation','City_Category','Stay_In_Current_City_Years','Marital_Status'])['Purchase'].sum()).reset_index()\n",
    "A.rename(columns={'Purchase':'Total_Purchase'},inplace=True)\n",
    "\n",
    "#sum of all purchases by each user"
   ]
  },
  {
   "cell_type": "code",
   "execution_count": 11,
   "id": "438c62f9",
   "metadata": {},
   "outputs": [],
   "source": [
    "B=pd.DataFrame(walmart_data.groupby(['User_ID','Gender','Age','Occupation','City_Category','Stay_In_Current_City_Years','Marital_Status'])['Product_ID'].nunique()).reset_index()\n",
    "B.rename(columns={'Product_ID':'No.of Products'},inplace=True)\n",
    "\n",
    "#Number of products bought by each user"
   ]
  },
  {
   "cell_type": "code",
   "execution_count": 12,
   "id": "4c61c68c",
   "metadata": {
    "scrolled": true
   },
   "outputs": [
    {
     "data": {
      "image/png": "[encoded data removed]",
      "text/plain": [
       "<Figure size 432x288 with 1 Axes>"
      ]
     },
     "metadata": {},
     "output_type": "display_data"
    }
   ],
   "source": [
    "plt.pie(A['Gender'].value_counts(),autopct='%.2f',labels=A['Gender'].value_counts().index)\n",
    "plt.show()"
   ]
  },
  {
   "cell_type": "code",
   "execution_count": 13,
   "id": "40cb9eb6",
   "metadata": {
    "scrolled": true
   },
   "outputs": [
    {
     "data": {
      "image/png": "[encoded data removed]",
      "text/plain": [
       "<Figure size 432x288 with 1 Axes>"
      ]
     },
     "metadata": {},
     "output_type": "display_data"
    }
   ],
   "source": [
    "plt.pie(A['Marital_Status'].value_counts(),autopct='%.2f',labels=A['Marital_Status'].value_counts().index)\n",
    "plt.show()"
   ]
  },
  {
   "cell_type": "code",
   "execution_count": 14,
   "id": "1cb19d3f",
   "metadata": {
    "scrolled": true
   },
   "outputs": [
    {
     "data": {
      "image/png": "[encoded data removed]",
      "text/plain": [
       "<Figure size 432x288 with 1 Axes>"
      ]
     },
     "metadata": {},
     "output_type": "display_data"
    }
   ],
   "source": [
    "plt.pie(A['City_Category'].value_counts(),autopct='%.2f',labels=A['City_Category'].value_counts().index)\n",
    "plt.show()"
   ]
  },
  {
   "cell_type": "code",
   "execution_count": 15,
   "id": "65fa6ccc",
   "metadata": {},
   "outputs": [
    {
     "data": {
      "text/plain": [
       "<AxesSubplot:xlabel='Product_Category', ylabel='count'>"
      ]
     },
     "execution_count": 15,
     "metadata": {},
     "output_type": "execute_result"
    },
    {
     "data": {
      "image/png": "[encoded data removed]",
      "text/plain": [
       "<Figure size 432x288 with 1 Axes>"
      ]
     },
     "metadata": {
      "needs_background": "light"
     },
     "output_type": "display_data"
    }
   ],
   "source": [
    "sns.countplot(data=walmart_data,x='Product_Category')"
   ]
  },
  {
   "cell_type": "code",
   "execution_count": 16,
   "id": "59933cce",
   "metadata": {},
   "outputs": [
    {
     "data": {
      "text/plain": [
       "5891"
      ]
     },
     "execution_count": 16,
     "metadata": {},
     "output_type": "execute_result"
    }
   ],
   "source": [
    "walmart_data['User_ID'].nunique()"
   ]
  },
  {
   "cell_type": "code",
   "execution_count": 17,
   "id": "b6eed2bc",
   "metadata": {},
   "outputs": [
    {
     "data": {
      "text/plain": [
       "<AxesSubplot:xlabel='City_Category', ylabel='Total_Purchase'>"
      ]
     },
     "execution_count": 17,
     "metadata": {},
     "output_type": "execute_result"
    },
    {
     "data": {
      "image/png": "[encoded data removed]",
      "text/plain": [
       "<Figure size 432x288 with 1 Axes>"
      ]
     },
     "metadata": {
      "needs_background": "light"
     },
     "output_type": "display_data"
    }
   ],
   "source": [
    "sns.barplot(data=A,x='City_Category',y='Total_Purchase',estimator=np.median)"
   ]
  },
  {
   "cell_type": "code",
   "execution_count": 18,
   "id": "20946021",
   "metadata": {
    "scrolled": false
   },
   "outputs": [
    {
     "data": {
      "text/plain": [
       "<AxesSubplot:xlabel='City_Category', ylabel='Total_Purchase'>"
      ]
     },
     "execution_count": 18,
     "metadata": {},
     "output_type": "execute_result"
    },
    {
     "data": {
      "image/png": "[encoded data removed]",
      "text/plain": [
       "<Figure size 432x288 with 1 Axes>"
      ]
     },
     "metadata": {
      "needs_background": "light"
     },
     "output_type": "display_data"
    }
   ],
   "source": [
    "sns.boxplot(data=A,x='City_Category',y='Total_Purchase')"
   ]
  },
  {
   "cell_type": "markdown",
   "id": "6d14929f",
   "metadata": {},
   "source": [
    "- A city is having more expenses per user than B, C cities."
   ]
  },
  {
   "cell_type": "code",
   "execution_count": 44,
   "id": "f704ea63",
   "metadata": {
    "scrolled": true
   },
   "outputs": [
    {
     "data": {
      "text/plain": [
       "<AxesSubplot:xlabel='Stay_In_Current_City_Years', ylabel='Total_Purchase'>"
      ]
     },
     "execution_count": 44,
     "metadata": {},
     "output_type": "execute_result"
    },
    {
     "data": {
      "image/png": "[encoded data removed]",
      "text/plain": [
       "<Figure size 432x288 with 1 Axes>"
      ]
     },
     "metadata": {
      "needs_background": "light"
     },
     "output_type": "display_data"
    }
   ],
   "source": [
    "sns.boxplot(data=A,x='Stay_In_Current_City_Years',y='Total_Purchase')"
   ]
  },
  {
   "cell_type": "code",
   "execution_count": 45,
   "id": "d1318be4",
   "metadata": {
    "scrolled": true
   },
   "outputs": [
    {
     "data": {
      "text/plain": [
       "<AxesSubplot:xlabel='Stay_In_Current_City_Years', ylabel='Total_Purchase'>"
      ]
     },
     "execution_count": 45,
     "metadata": {},
     "output_type": "execute_result"
    },
    {
     "data": {
      "image/png": "[encoded data removed]",
      "text/plain": [
       "<Figure size 432x288 with 1 Axes>"
      ]
     },
     "metadata": {
      "needs_background": "light"
     },
     "output_type": "display_data"
    }
   ],
   "source": [
    "sns.barplot(data=A,x='Stay_In_Current_City_Years',y='Total_Purchase',estimator=np.median)"
   ]
  },
  {
   "cell_type": "markdown",
   "id": "61439b2d",
   "metadata": {},
   "source": [
    "- There is no much difference in expenses with respect to Stay_In_Current_City_Years"
   ]
  },
  {
   "cell_type": "code",
   "execution_count": 19,
   "id": "824c26ce",
   "metadata": {},
   "outputs": [],
   "source": [
    "users=pd.DataFrame(walmart_data[['User_ID','Gender']].groupby(['User_ID','Gender']).nunique())\n",
    "users.reset_index([0,1],inplace=True)\n",
    "b=users[users['Gender']=='M'].sample(n=sum(users['Gender']=='F'))\n",
    "fifty=pd.concat([users[users['Gender']=='F'],b])"
   ]
  },
  {
   "cell_type": "code",
   "execution_count": 20,
   "id": "5b32548d",
   "metadata": {},
   "outputs": [],
   "source": [
    "data_gen = pd.merge(walmart_data, fifty)[walmart_data.columns]"
   ]
  },
  {
   "cell_type": "markdown",
   "id": "1a8d74ed",
   "metadata": {},
   "source": [
    "- creating data with same proportion of male and female users to visualize any more probability in choosing product category with gender or marital or age"
   ]
  },
  {
   "cell_type": "code",
   "execution_count": 21,
   "id": "f62f008c",
   "metadata": {
    "scrolled": true
   },
   "outputs": [
    {
     "data": {
      "text/plain": [
       "<AxesSubplot:xlabel='Product_Category', ylabel='count'>"
      ]
     },
     "execution_count": 21,
     "metadata": {},
     "output_type": "execute_result"
    },
    {
     "data": {
      "image/png": "[encoded data removed]",
      "text/plain": [
       "<Figure size 432x288 with 1 Axes>"
      ]
     },
     "metadata": {
      "needs_background": "light"
     },
     "output_type": "display_data"
    }
   ],
   "source": [
    "sns.countplot(data=data_gen,x='Product_Category',hue='Gender')"
   ]
  },
  {
   "cell_type": "markdown",
   "id": "4a7b5557",
   "metadata": {},
   "source": [
    "- Product category 1 is purchased more by male"
   ]
  },
  {
   "cell_type": "markdown",
   "id": "12cea110",
   "metadata": {},
   "source": [
    "- product category 8 is purchased slightly more by female"
   ]
  },
  {
   "cell_type": "code",
   "execution_count": 22,
   "id": "2744ac51",
   "metadata": {
    "scrolled": true
   },
   "outputs": [
    {
     "data": {
      "text/plain": [
       "<AxesSubplot:xlabel='Product_Category', ylabel='count'>"
      ]
     },
     "execution_count": 22,
     "metadata": {},
     "output_type": "execute_result"
    },
    {
     "data": {
      "image/png": "[encoded data removed]",
      "text/plain": [
       "<Figure size 432x288 with 1 Axes>"
      ]
     },
     "metadata": {
      "needs_background": "light"
     },
     "output_type": "display_data"
    }
   ],
   "source": [
    "sns.countplot(data=data_gen,x='Product_Category',hue='Marital_Status')"
   ]
  },
  {
   "cell_type": "code",
   "execution_count": 23,
   "id": "4c5f7842",
   "metadata": {
    "scrolled": false
   },
   "outputs": [
    {
     "data": {
      "text/plain": [
       "<AxesSubplot:xlabel='Product_Category', ylabel='count'>"
      ]
     },
     "execution_count": 23,
     "metadata": {},
     "output_type": "execute_result"
    },
    {
     "data": {
      "image/png": "[encoded data removed]",
      "text/plain": [
       "<Figure size 720x432 with 1 Axes>"
      ]
     },
     "metadata": {
      "needs_background": "light"
     },
     "output_type": "display_data"
    }
   ],
   "source": [
    "plt.figure(figsize=(10,6))\n",
    "sns.countplot(data=data_gen,x='Product_Category',hue='Age')"
   ]
  },
  {
   "cell_type": "markdown",
   "id": "cc8d43f0",
   "metadata": {},
   "source": [
    "- Not much difference with age to any product category"
   ]
  },
  {
   "cell_type": "code",
   "execution_count": 24,
   "id": "ff6c9a4f",
   "metadata": {
    "scrolled": false
   },
   "outputs": [
    {
     "data": {
      "text/plain": [
       "<AxesSubplot:xlabel='Product_Category', ylabel='Purchase'>"
      ]
     },
     "execution_count": 24,
     "metadata": {},
     "output_type": "execute_result"
    },
    {
     "data": {
      "image/png": "[encoded data removed]",
      "text/plain": [
       "<Figure size 432x288 with 1 Axes>"
      ]
     },
     "metadata": {
      "needs_background": "light"
     },
     "output_type": "display_data"
    }
   ],
   "source": [
    "plt.grid()\n",
    "sns.boxplot(data=walmart_data,x='Product_Category',y='Purchase')\n"
   ]
  },
  {
   "cell_type": "markdown",
   "id": "8f718f6b",
   "metadata": {},
   "source": [
    "- There are reasonably many products out of the range but we cannot consider them as outliers"
   ]
  },
  {
   "cell_type": "markdown",
   "id": "e5670db3",
   "metadata": {},
   "source": [
    "### Confidence Interval and CLT"
   ]
  },
  {
   "cell_type": "markdown",
   "id": "5598ab39",
   "metadata": {},
   "source": [
    "#### Male vs Female "
   ]
  },
  {
   "cell_type": "markdown",
   "id": "2765b8d0",
   "metadata": {},
   "source": [
    "90%"
   ]
  },
  {
   "cell_type": "code",
   "execution_count": 25,
   "id": "22aac72d",
   "metadata": {
    "scrolled": true
   },
   "outputs": [
    {
     "name": "stdout",
     "output_type": "stream",
     "text": [
      "Confidence interval of male total purchase  [901971.65821302 949016.9036213 ]\n",
      "Central limit of male total purchase  [901119.6348061577, 949819.0269822447]\n"
     ]
    }
   ],
   "source": [
    "values=np.array([np.random.choice(A[A['Gender']=='M']['Total_Purchase'],size=len(A[A['Gender']=='M']['Total_Purchase']),replace=True).mean() for i in range(1000)]) \n",
    "print('Confidence interval of male total purchase ',np.percentile(values,[100*(1-0.90)/2,100*(1-(1-0.9)/2)])) \n",
    "\n",
    "m=values.mean()\n",
    "s=values.std()\n",
    "clt=[m-1.645*s,m+1.645*s]\n",
    "print('Central limit of male total purchase ',clt)"
   ]
  },
  {
   "cell_type": "code",
   "execution_count": 26,
   "id": "a9fdbbe1",
   "metadata": {},
   "outputs": [
    {
     "name": "stdout",
     "output_type": "stream",
     "text": [
      "Confidence interval of female total purchase  [675051.09518307 751740.14063625]\n",
      "Central limit of female total purchase  [680168.6579296949, 744885.7436117217]\n"
     ]
    }
   ],
   "source": [
    "values=np.array([np.random.choice(A[A['Gender']=='F']['Total_Purchase'],size=len(A[A['Gender']=='F']['Total_Purchase']),replace=True).mean() for i in range(1000)]) \n",
    "print('Confidence interval of female total purchase ',np.percentile(values,[100*(1-0.95)/2,100*(1-(1-0.95)/2)])) \n",
    "\n",
    "m=values.mean()\n",
    "s=values.std()\n",
    "clt=[m-1.645*s,m+1.645*s]\n",
    "print('Central limit of female total purchase ',clt)"
   ]
  },
  {
   "cell_type": "markdown",
   "id": "c1bfd03b",
   "metadata": {},
   "source": [
    "- Female mean is less than Male mean of purchase"
   ]
  },
  {
   "cell_type": "markdown",
   "id": "e24a4a0c",
   "metadata": {},
   "source": [
    "- We can conclude that Male purchase more and there is no overlapping in intervals."
   ]
  },
  {
   "cell_type": "markdown",
   "id": "5bcb9491",
   "metadata": {},
   "source": [
    "95%"
   ]
  },
  {
   "cell_type": "code",
   "execution_count": 27,
   "id": "d3ec6df5",
   "metadata": {},
   "outputs": [
    {
     "name": "stdout",
     "output_type": "stream",
     "text": [
      "Confidence interval of male total purchase  [896387.67166864 956534.49822485]\n",
      "Central limit of male total purchase  [895087.8274350985, 955329.176390227]\n"
     ]
    }
   ],
   "source": [
    "values=np.array([np.random.choice(A[A['Gender']=='M']['Total_Purchase'],size=len(A[A['Gender']=='M']['Total_Purchase']),replace=True).mean() for i in range(1000)]) \n",
    "print('Confidence interval of male total purchase ',np.percentile(values,[100*(1-0.95)/2,100*(1-(1-0.95)/2)])) \n",
    "\n",
    "m=values.mean()\n",
    "s=values.std()\n",
    "clt=[m-1.96*s,m+1.96*s]\n",
    "print('Central limit of male total purchase ',clt)"
   ]
  },
  {
   "cell_type": "code",
   "execution_count": 28,
   "id": "2c0e169e",
   "metadata": {},
   "outputs": [
    {
     "name": "stdout",
     "output_type": "stream",
     "text": [
      "Confidence interval of female total purchase  [672372.8340036  751067.24602341]\n",
      "Central limit of female total purchase  [672911.3325581824, 750308.6352089247]\n"
     ]
    }
   ],
   "source": [
    "values=np.array([np.random.choice(A[A['Gender']=='F']['Total_Purchase'],size=len(A[A['Gender']=='F']['Total_Purchase']),replace=True).mean() for i in range(1000)]) \n",
    "print('Confidence interval of female total purchase ',np.percentile(values,[100*(1-0.95)/2,100*(1-(1-0.95)/2)])) \n",
    "\n",
    "m=values.mean()\n",
    "s=values.std()\n",
    "clt=[m-1.96*s,m+1.96*s]\n",
    "print('Central limit of female total purchase ',clt)"
   ]
  },
  {
   "cell_type": "markdown",
   "id": "f3264ea1",
   "metadata": {},
   "source": [
    "99%"
   ]
  },
  {
   "cell_type": "code",
   "execution_count": 29,
   "id": "d8299fd3",
   "metadata": {},
   "outputs": [
    {
     "name": "stdout",
     "output_type": "stream",
     "text": [
      "Confidence interval of male total purchase  [887098.98822012 962630.99757515]\n",
      "Central limit of male total purchase  [887205.7452087209, 963718.0364594448]\n"
     ]
    }
   ],
   "source": [
    "values=np.array([np.random.choice(A[A['Gender']=='M']['Total_Purchase'],size=len(A[A['Gender']=='M']['Total_Purchase']),replace=True).mean() for i in range(1000)]) \n",
    "print('Confidence interval of male total purchase ',np.percentile(values,[100*(1-0.99)/2,100*(1-(1-0.99)/2)])) \n",
    "\n",
    "m=values.mean()\n",
    "s=values.std()\n",
    "clt=[m-2.576*s,m+2.576*s]\n",
    "print('Central limit of male total purchase ',clt)"
   ]
  },
  {
   "cell_type": "code",
   "execution_count": 30,
   "id": "64a49b19",
   "metadata": {},
   "outputs": [
    {
     "name": "stdout",
     "output_type": "stream",
     "text": [
      "Confidence interval of female total purchase  [659392.21262305 759208.61794418]\n",
      "Central limit of female total purchase  [662189.3276626193, 761714.0453397816]\n"
     ]
    }
   ],
   "source": [
    "values=np.array([np.random.choice(A[A['Gender']=='F']['Total_Purchase'],size=len(A[A['Gender']=='F']['Total_Purchase']),replace=True).mean() for i in range(1000)]) \n",
    "print('Confidence interval of female total purchase ',np.percentile(values,[100*(1-0.99)/2,100*(1-(1-0.99)/2)])) \n",
    "\n",
    "m=values.mean()\n",
    "s=values.std()\n",
    "clt=[m-2.576*s,m+2.576*s]\n",
    "print('Central limit of female total purchase ',clt)"
   ]
  },
  {
   "cell_type": "markdown",
   "id": "cbdd0008",
   "metadata": {},
   "source": [
    "#### Married vs Unmarried"
   ]
  },
  {
   "cell_type": "markdown",
   "id": "23f66eb8",
   "metadata": {},
   "source": [
    "90%"
   ]
  },
  {
   "cell_type": "code",
   "execution_count": 31,
   "id": "bfc33570",
   "metadata": {
    "scrolled": true
   },
   "outputs": [
    {
     "name": "stdout",
     "output_type": "stream",
     "text": [
      "Confidence interval of Unmarried total purchase  [854543.49891718 908032.17038338]\n",
      "Central limit of Unmarried total purchase  [854788.718739602, 907653.5823736554]\n"
     ]
    }
   ],
   "source": [
    "values=np.array([np.random.choice(A[A['Marital_Status']==0]['Total_Purchase'],size=len(A[A['Marital_Status']==0]['Total_Purchase']),replace=True).mean() for i in range(1000)]) \n",
    "print('Confidence interval of Unmarried total purchase ',np.percentile(values,[100*(1-0.9)/2,100*(1-(1-0.9)/2)])) \n",
    "\n",
    "m=values.mean()\n",
    "s=values.std()\n",
    "clt=[m-1.645*s,m+1.645*s]\n",
    "print('Central limit of Unmarried total purchase ',clt)"
   ]
  },
  {
   "cell_type": "code",
   "execution_count": 32,
   "id": "d949d7a0",
   "metadata": {
    "scrolled": true
   },
   "outputs": [
    {
     "name": "stdout",
     "output_type": "stream",
     "text": [
      "Confidence interval of married total purchase  [813422.06234842 875384.27605093]\n",
      "Central limit of married total purchase  [813469.7392588297, 874642.9669165947]\n"
     ]
    }
   ],
   "source": [
    "values=np.array([np.random.choice(A[A['Marital_Status']==1]['Total_Purchase'],size=len(A[A['Marital_Status']==1]['Total_Purchase']),replace=True).mean() for i in range(1000)]) \n",
    "print('Confidence interval of married total purchase ',np.percentile(values,[100*(1-0.9)/2,100*(1-(1-0.9)/2)])) \n",
    "\n",
    "m=values.mean()\n",
    "s=values.std()\n",
    "clt=[m-1.645*s,m+1.645*s]\n",
    "print('Central limit of married total purchase ',clt)"
   ]
  },
  {
   "cell_type": "markdown",
   "id": "550acc18",
   "metadata": {},
   "source": [
    "- Unmarried users expenses are more compared to married"
   ]
  },
  {
   "cell_type": "markdown",
   "id": "9289093e",
   "metadata": {},
   "source": [
    "- There is overlapping of intervals for unmarried and married users."
   ]
  },
  {
   "cell_type": "markdown",
   "id": "600edc04",
   "metadata": {},
   "source": [
    "95%"
   ]
  },
  {
   "cell_type": "code",
   "execution_count": 33,
   "id": "0563f2a7",
   "metadata": {},
   "outputs": [
    {
     "name": "stdout",
     "output_type": "stream",
     "text": [
      "Confidence interval of Unmarried total purchase  [848416.44871964 911101.63833772]\n",
      "Central limit of Unmarried total purchase  [849021.2371542691, 912450.3895159094]\n"
     ]
    }
   ],
   "source": [
    "values=np.array([np.random.choice(A[A['Marital_Status']==0]['Total_Purchase'],size=len(A[A['Marital_Status']==0]['Total_Purchase']),replace=True).mean() for i in range(1000)]) \n",
    "print('Confidence interval of Unmarried total purchase ',np.percentile(values,[100*(1-0.95)/2,100*(1-(1-0.95)/2)])) \n",
    "\n",
    "m=values.mean()\n",
    "s=values.std()\n",
    "clt=[m-1.96*s,m+1.96*s]\n",
    "print('Central limit of Unmarried total purchase ',clt)"
   ]
  },
  {
   "cell_type": "code",
   "execution_count": 34,
   "id": "acd9d254",
   "metadata": {},
   "outputs": [
    {
     "name": "stdout",
     "output_type": "stream",
     "text": [
      "Confidence interval of married total purchase  [807007.03719685 881073.00994341]\n",
      "Central limit of married total purchase  [805997.9056611797, 879305.5689273409]\n"
     ]
    }
   ],
   "source": [
    "values=np.array([np.random.choice(A[A['Marital_Status']==1]['Total_Purchase'],size=len(A[A['Marital_Status']==1]['Total_Purchase']),replace=True).mean() for i in range(1000)]) \n",
    "print('Confidence interval of married total purchase ',np.percentile(values,[100*(1-0.95)/2,100*(1-(1-0.95)/2)])) \n",
    "\n",
    "m=values.mean()\n",
    "s=values.std()\n",
    "clt=[m-1.96*s,m+1.96*s]\n",
    "print('Central limit of married total purchase ',clt)"
   ]
  },
  {
   "cell_type": "markdown",
   "id": "e952cd8a",
   "metadata": {},
   "source": [
    "99%"
   ]
  },
  {
   "cell_type": "code",
   "execution_count": 35,
   "id": "497e3fab",
   "metadata": {},
   "outputs": [
    {
     "name": "stdout",
     "output_type": "stream",
     "text": [
      "Confidence interval of Unmarried total purchase  [841451.19091601 922998.19936348]\n",
      "Central limit of Unmarried total purchase  [838551.3232096685, 921932.8335102613]\n"
     ]
    }
   ],
   "source": [
    "values=np.array([np.random.choice(A[A['Marital_Status']==0]['Total_Purchase'],size=len(A[A['Marital_Status']==0]['Total_Purchase']),replace=True).mean() for i in range(1000)]) \n",
    "print('Confidence interval of Unmarried total purchase ',np.percentile(values,[100*(1-0.99)/2,100*(1-(1-0.99)/2)])) \n",
    "\n",
    "m=values.mean()\n",
    "s=values.std()\n",
    "clt=[m-2.576*s,m+2.576*s]\n",
    "print('Central limit of Unmarried total purchase ',clt)"
   ]
  },
  {
   "cell_type": "code",
   "execution_count": 36,
   "id": "51695b35",
   "metadata": {},
   "outputs": [
    {
     "name": "stdout",
     "output_type": "stream",
     "text": [
      "Confidence interval of married total purchase  [795488.62008286 893993.22547494]\n",
      "Central limit of married total purchase  [795031.2430336766, 892189.4927310767]\n"
     ]
    }
   ],
   "source": [
    "values=np.array([np.random.choice(A[A['Marital_Status']==1]['Total_Purchase'],size=len(A[A['Marital_Status']==1]['Total_Purchase']),replace=True).mean() for i in range(1000)]) \n",
    "print('Confidence interval of married total purchase ',np.percentile(values,[100*(1-0.99)/2,100*(1-(1-0.99)/2)])) \n",
    "\n",
    "m=values.mean()\n",
    "s=values.std()\n",
    "clt=[m-2.576*s,m+2.576*s]\n",
    "print('Central limit of married total purchase ',clt)"
   ]
  },
  {
   "cell_type": "markdown",
   "id": "97eaa153",
   "metadata": {},
   "source": [
    "#### By Age"
   ]
  },
  {
   "cell_type": "code",
   "execution_count": 37,
   "id": "14b2f63b",
   "metadata": {},
   "outputs": [
    {
     "name": "stdout",
     "output_type": "stream",
     "text": [
      "Confidence interval of Age 0-17 total purchase  [536917.56169725 716724.15642202]\n",
      "Central limit of Age 0-17 total purchase  [529123.5966098601, 711014.7243442681]\n"
     ]
    }
   ],
   "source": [
    "values=np.array([np.random.choice(A[A['Age']=='0-17']['Total_Purchase'],size=len(A[A['Age']=='0-17']['Total_Purchase']),replace=True).mean() for i in range(1000)]) \n",
    "print('Confidence interval of Age 0-17 total purchase ',np.percentile(values,[100*(1-0.95)/2,100*(1-(1-0.95)/2)])) \n",
    "\n",
    "m=values.mean()\n",
    "s=values.std()\n",
    "clt=[m-1.96*s,m+1.96*s]\n",
    "print('Central limit of Age 0-17 total purchase ',clt)"
   ]
  },
  {
   "cell_type": "code",
   "execution_count": 38,
   "id": "88178ef8",
   "metadata": {},
   "outputs": [
    {
     "name": "stdout",
     "output_type": "stream",
     "text": [
      "Confidence interval of Age 18-25 total purchase  [804788.5666043 907333.8695276]\n",
      "Central limit of Age 18-25 total purchase  [803875.2920436998, 908250.2889441395]\n"
     ]
    }
   ],
   "source": [
    "values=np.array([np.random.choice(A[A['Age']=='18-25']['Total_Purchase'],size=len(A[A['Age']=='18-25']['Total_Purchase']),replace=True).mean() for i in range(1000)]) \n",
    "print('Confidence interval of Age 18-25 total purchase ',np.percentile(values,[100*(1-0.95)/2,100*(1-(1-0.95)/2)])) \n",
    "\n",
    "m=values.mean()\n",
    "s=values.std()\n",
    "clt=[m-1.96*s,m+1.96*s]\n",
    "print('Central limit of Age 18-25 total purchase ',clt)"
   ]
  },
  {
   "cell_type": "code",
   "execution_count": 39,
   "id": "9d53b9e2",
   "metadata": {},
   "outputs": [
    {
     "name": "stdout",
     "output_type": "stream",
     "text": [
      "Confidence interval of Age 26-35 total purchase  [ 947618.1325621  1036206.60071846]\n",
      "Central limit of Age 26-35 total purchase  [945528.2721505108, 1034887.7048158798]\n"
     ]
    }
   ],
   "source": [
    "values=np.array([np.random.choice(A[A['Age']=='26-35']['Total_Purchase'],size=len(A[A['Age']=='26-35']['Total_Purchase']),replace=True).mean() for i in range(1000)]) \n",
    "print('Confidence interval of Age 26-35 total purchase ',np.percentile(values,[100*(1-0.95)/2,100*(1-(1-0.95)/2)])) \n",
    "\n",
    "m=values.mean()\n",
    "s=values.std()\n",
    "clt=[m-1.96*s,m+1.96*s]\n",
    "print('Central limit of Age 26-35 total purchase ',clt)"
   ]
  },
  {
   "cell_type": "code",
   "execution_count": 40,
   "id": "9240bbfa",
   "metadata": {},
   "outputs": [
    {
     "name": "stdout",
     "output_type": "stream",
     "text": [
      "Confidence interval of Age 36-45 total purchase  [822213.19558698 937598.21343188]\n",
      "Central limit of Age 36-45 total purchase  [824582.5476063185, 936300.7636636042]\n"
     ]
    }
   ],
   "source": [
    "values=np.array([np.random.choice(A[A['Age']=='36-45']['Total_Purchase'],size=len(A[A['Age']=='36-45']['Total_Purchase']),replace=True).mean() for i in range(1000)]) \n",
    "print('Confidence interval of Age 36-45 total purchase ',np.percentile(values,[100*(1-0.95)/2,100*(1-(1-0.95)/2)])) \n",
    "\n",
    "m=values.mean()\n",
    "s=values.std()\n",
    "clt=[m-1.96*s,m+1.96*s]\n",
    "print('Central limit of Age 36-45 total purchase ',clt)"
   ]
  },
  {
   "cell_type": "code",
   "execution_count": 41,
   "id": "e7298cb9",
   "metadata": {},
   "outputs": [
    {
     "name": "stdout",
     "output_type": "stream",
     "text": [
      "Confidence interval of Age 46-50 total purchase  [716578.31694915 870797.97721281]\n",
      "Central limit of Age 46-50 total purchase  [713448.9574009744, 867404.0395971427]\n"
     ]
    }
   ],
   "source": [
    "values=np.array([np.random.choice(A[A['Age']=='46-50']['Total_Purchase'],size=len(A[A['Age']=='46-50']['Total_Purchase']),replace=True).mean() for i in range(1000)]) \n",
    "print('Confidence interval of Age 46-50 total purchase ',np.percentile(values,[100*(1-0.95)/2,100*(1-(1-0.95)/2)])) \n",
    "\n",
    "m=values.mean()\n",
    "s=values.std()\n",
    "clt=[m-1.96*s,m+1.96*s]\n",
    "print('Central limit of Age 46-50 total purchase ',clt)"
   ]
  },
  {
   "cell_type": "code",
   "execution_count": 42,
   "id": "dba56309",
   "metadata": {},
   "outputs": [
    {
     "name": "stdout",
     "output_type": "stream",
     "text": [
      "Confidence interval of Age 51-55 total purchase  [695591.41055094 830980.4799896 ]\n",
      "Central limit of Age 51-55 total purchase  [694156.3716591604, 830098.1103574717]\n"
     ]
    }
   ],
   "source": [
    "values=np.array([np.random.choice(A[A['Age']=='51-55']['Total_Purchase'],size=len(A[A['Age']=='51-55']['Total_Purchase']),replace=True).mean() for i in range(1000)]) \n",
    "print('Confidence interval of Age 51-55 total purchase ',np.percentile(values,[100*(1-0.95)/2,100*(1-(1-0.95)/2)])) \n",
    "\n",
    "m=values.mean()\n",
    "s=values.std()\n",
    "clt=[m-1.96*s,m+1.96*s]\n",
    "print('Central limit of Age 51-55 total purchase ',clt)"
   ]
  },
  {
   "cell_type": "code",
   "execution_count": 43,
   "id": "6ec139de",
   "metadata": {},
   "outputs": [
    {
     "name": "stdout",
     "output_type": "stream",
     "text": [
      "Confidence interval of Age 55+ total purchase  [474964.77137097 598878.52573925]\n",
      "Central limit of Age 55+ total purchase  [477040.0236867421, 603165.2496358384]\n"
     ]
    }
   ],
   "source": [
    "values=np.array([np.random.choice(A[A['Age']=='55+']['Total_Purchase'],size=len(A[A['Age']=='55+']['Total_Purchase']),replace=True).mean() for i in range(1000)]) \n",
    "print('Confidence interval of Age 55+ total purchase ',np.percentile(values,[100*(1-0.95)/2,100*(1-(1-0.95)/2)])) \n",
    "\n",
    "m=values.mean()\n",
    "s=values.std()\n",
    "clt=[m-1.96*s,m+1.96*s]\n",
    "print('Central limit of Age 55+ total purchase ',clt)"
   ]
  },
  {
   "cell_type": "markdown",
   "id": "34bcbda4",
   "metadata": {},
   "source": [
    "- Highest mean of expenses of users in Age 26-35."
   ]
  },
  {
   "cell_type": "code",
   "execution_count": null,
   "id": "1965475f",
   "metadata": {},
   "outputs": [],
   "source": []
  }
 ],
 "metadata": {
  "kernelspec": {
   "display_name": "Python 3 (ipykernel)",
   "language": "python",
   "name": "python3"
  },
  "language_info": {
   "codemirror_mode": {
    "name": "ipython",
    "version": 3
   },
   "file_extension": ".py",
   "mimetype": "text/x-python",
   "name": "python",
   "nbconvert_exporter": "python",
   "pygments_lexer": "ipython3",
   "version": "3.9.7"
  }
 },
 "nbformat": 4,
 "nbformat_minor": 5
}
