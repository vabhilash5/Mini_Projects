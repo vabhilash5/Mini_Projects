{
 "cells": [
  {
   "cell_type": "code",
   "execution_count": 1,
   "id": "2622022d",
   "metadata": {},
   "outputs": [],
   "source": [
    "#importing required libraries\n",
    "import numpy as np\n",
    "import pandas as pd\n",
    "import matplotlib.pyplot as plt\n",
    "import seaborn as sns"
   ]
  },
  {
   "cell_type": "code",
   "execution_count": 2,
   "id": "f9499007",
   "metadata": {},
   "outputs": [],
   "source": [
    "#reading data\n",
    "data = pd.read_csv('netflix.csv')"
   ]
  },
  {
   "cell_type": "code",
   "execution_count": 3,
   "id": "829e6833",
   "metadata": {},
   "outputs": [
    {
     "name": "stdout",
     "output_type": "stream",
     "text": [
      "<class 'pandas.core.frame.DataFrame'>\n",
      "RangeIndex: 8807 entries, 0 to 8806\n",
      "Data columns (total 12 columns):\n",
      " #   Column        Non-Null Count  Dtype \n",
      "---  ------        --------------  ----- \n",
      " 0   show_id       8807 non-null   object\n",
      " 1   type          8807 non-null   object\n",
      " 2   title         8807 non-null   object\n",
      " 3   director      6173 non-null   object\n",
      " 4   cast          7982 non-null   object\n",
      " 5   country       7976 non-null   object\n",
      " 6   date_added    8797 non-null   object\n",
      " 7   release_year  8807 non-null   int64 \n",
      " 8   rating        8803 non-null   object\n",
      " 9   duration      8804 non-null   object\n",
      " 10  listed_in     8807 non-null   object\n",
      " 11  description   8807 non-null   object\n",
      "dtypes: int64(1), object(11)\n",
      "memory usage: 825.8+ KB\n"
     ]
    }
   ],
   "source": [
    "#checking any null values and data types of each column\n",
    "data.info()"
   ]
  },
  {
   "cell_type": "code",
   "execution_count": 4,
   "id": "f6953592",
   "metadata": {},
   "outputs": [
    {
     "data": {
      "text/plain": [
       "show_id            0\n",
       "type               0\n",
       "title              0\n",
       "director        2634\n",
       "cast             825\n",
       "country          831\n",
       "date_added        10\n",
       "release_year       0\n",
       "rating             4\n",
       "duration           3\n",
       "listed_in          0\n",
       "description        0\n",
       "dtype: int64"
      ]
     },
     "execution_count": 4,
     "metadata": {},
     "output_type": "execute_result"
    }
   ],
   "source": [
    "data.isna().sum()"
   ]
  },
  {
   "cell_type": "markdown",
   "id": "9e5cecb0",
   "metadata": {},
   "source": [
    "## Data Cleaning"
   ]
  },
  {
   "cell_type": "code",
   "execution_count": 5,
   "id": "ff4ebc64",
   "metadata": {
    "scrolled": false
   },
   "outputs": [
    {
     "data": {
      "text/html": [
       "<div>\n",
       "<style scoped>\n",
       "    .dataframe tbody tr th:only-of-type {\n",
       "        vertical-align: middle;\n",
       "    }\n",
       "\n",
       "    .dataframe tbody tr th {\n",
       "        vertical-align: top;\n",
       "    }\n",
       "\n",
       "    .dataframe thead th {\n",
       "        text-align: right;\n",
       "    }\n",
       "</style>\n",
       "<table border=\"1\" class=\"dataframe\">\n",
       "  <thead>\n",
       "    <tr style=\"text-align: right;\">\n",
       "      <th></th>\n",
       "      <th>show_id</th>\n",
       "      <th>type</th>\n",
       "      <th>title</th>\n",
       "      <th>director</th>\n",
       "      <th>cast</th>\n",
       "      <th>country</th>\n",
       "      <th>date_added</th>\n",
       "      <th>release_year</th>\n",
       "      <th>rating</th>\n",
       "      <th>duration</th>\n",
       "      <th>listed_in</th>\n",
       "      <th>description</th>\n",
       "    </tr>\n",
       "  </thead>\n",
       "  <tbody>\n",
       "    <tr>\n",
       "      <th>5541</th>\n",
       "      <td>s5542</td>\n",
       "      <td>Movie</td>\n",
       "      <td>Louis C.K. 2017</td>\n",
       "      <td>Louis C.K.</td>\n",
       "      <td>Louis C.K.</td>\n",
       "      <td>United States</td>\n",
       "      <td>April 4, 2017</td>\n",
       "      <td>2017</td>\n",
       "      <td>74 min</td>\n",
       "      <td>NaN</td>\n",
       "      <td>Movies</td>\n",
       "      <td>Louis C.K. muses on religion, eternal love, gi...</td>\n",
       "    </tr>\n",
       "    <tr>\n",
       "      <th>5794</th>\n",
       "      <td>s5795</td>\n",
       "      <td>Movie</td>\n",
       "      <td>Louis C.K.: Hilarious</td>\n",
       "      <td>Louis C.K.</td>\n",
       "      <td>Louis C.K.</td>\n",
       "      <td>United States</td>\n",
       "      <td>September 16, 2016</td>\n",
       "      <td>2010</td>\n",
       "      <td>84 min</td>\n",
       "      <td>NaN</td>\n",
       "      <td>Movies</td>\n",
       "      <td>Emmy-winning comedy writer Louis C.K. brings h...</td>\n",
       "    </tr>\n",
       "    <tr>\n",
       "      <th>5813</th>\n",
       "      <td>s5814</td>\n",
       "      <td>Movie</td>\n",
       "      <td>Louis C.K.: Live at the Comedy Store</td>\n",
       "      <td>Louis C.K.</td>\n",
       "      <td>Louis C.K.</td>\n",
       "      <td>United States</td>\n",
       "      <td>August 15, 2016</td>\n",
       "      <td>2015</td>\n",
       "      <td>66 min</td>\n",
       "      <td>NaN</td>\n",
       "      <td>Movies</td>\n",
       "      <td>The comic puts his trademark hilarious/thought...</td>\n",
       "    </tr>\n",
       "  </tbody>\n",
       "</table>\n",
       "</div>"
      ],
      "text/plain": [
       "     show_id   type                                 title    director  \\\n",
       "5541   s5542  Movie                       Louis C.K. 2017  Louis C.K.   \n",
       "5794   s5795  Movie                 Louis C.K.: Hilarious  Louis C.K.   \n",
       "5813   s5814  Movie  Louis C.K.: Live at the Comedy Store  Louis C.K.   \n",
       "\n",
       "            cast        country          date_added  release_year  rating  \\\n",
       "5541  Louis C.K.  United States       April 4, 2017          2017  74 min   \n",
       "5794  Louis C.K.  United States  September 16, 2016          2010  84 min   \n",
       "5813  Louis C.K.  United States     August 15, 2016          2015  66 min   \n",
       "\n",
       "     duration listed_in                                        description  \n",
       "5541      NaN    Movies  Louis C.K. muses on religion, eternal love, gi...  \n",
       "5794      NaN    Movies  Emmy-winning comedy writer Louis C.K. brings h...  \n",
       "5813      NaN    Movies  The comic puts his trademark hilarious/thought...  "
      ]
     },
     "execution_count": 5,
     "metadata": {},
     "output_type": "execute_result"
    }
   ],
   "source": [
    "#lets fill duration and rating null values \n",
    "data[data['duration'].isna()]"
   ]
  },
  {
   "cell_type": "code",
   "execution_count": 6,
   "id": "d8a91b56",
   "metadata": {},
   "outputs": [],
   "source": [
    "#rating and duration columns are replaced in this 3 rows \n",
    "data.loc[[5541,5794,5813],'duration']=data.loc[[5541,5794,5813],'rating']"
   ]
  },
  {
   "cell_type": "code",
   "execution_count": 7,
   "id": "6cf779f8",
   "metadata": {},
   "outputs": [],
   "source": [
    "#rating of these 3 rows just filling the rating seeing the genre and description\n",
    "data.loc[[5541,5794,5813],'rating']=['TV-14','TV-14','TV-14']"
   ]
  },
  {
   "cell_type": "code",
   "execution_count": 8,
   "id": "a67f104c",
   "metadata": {},
   "outputs": [
    {
     "data": {
      "text/html": [
       "<div>\n",
       "<style scoped>\n",
       "    .dataframe tbody tr th:only-of-type {\n",
       "        vertical-align: middle;\n",
       "    }\n",
       "\n",
       "    .dataframe tbody tr th {\n",
       "        vertical-align: top;\n",
       "    }\n",
       "\n",
       "    .dataframe thead th {\n",
       "        text-align: right;\n",
       "    }\n",
       "</style>\n",
       "<table border=\"1\" class=\"dataframe\">\n",
       "  <thead>\n",
       "    <tr style=\"text-align: right;\">\n",
       "      <th></th>\n",
       "      <th>show_id</th>\n",
       "      <th>type</th>\n",
       "      <th>title</th>\n",
       "      <th>director</th>\n",
       "      <th>cast</th>\n",
       "      <th>country</th>\n",
       "      <th>date_added</th>\n",
       "      <th>release_year</th>\n",
       "      <th>rating</th>\n",
       "      <th>duration</th>\n",
       "      <th>listed_in</th>\n",
       "      <th>description</th>\n",
       "    </tr>\n",
       "  </thead>\n",
       "  <tbody>\n",
       "    <tr>\n",
       "      <th>5989</th>\n",
       "      <td>s5990</td>\n",
       "      <td>Movie</td>\n",
       "      <td>13TH: A Conversation with Oprah Winfrey &amp; Ava ...</td>\n",
       "      <td>NaN</td>\n",
       "      <td>Oprah Winfrey, Ava DuVernay</td>\n",
       "      <td>NaN</td>\n",
       "      <td>January 26, 2017</td>\n",
       "      <td>2017</td>\n",
       "      <td>NaN</td>\n",
       "      <td>37 min</td>\n",
       "      <td>Movies</td>\n",
       "      <td>Oprah Winfrey sits down with director Ava DuVe...</td>\n",
       "    </tr>\n",
       "    <tr>\n",
       "      <th>6827</th>\n",
       "      <td>s6828</td>\n",
       "      <td>TV Show</td>\n",
       "      <td>Gargantia on the Verdurous Planet</td>\n",
       "      <td>NaN</td>\n",
       "      <td>Kaito Ishikawa, Hisako Kanemoto, Ai Kayano, Ka...</td>\n",
       "      <td>Japan</td>\n",
       "      <td>December 1, 2016</td>\n",
       "      <td>2013</td>\n",
       "      <td>NaN</td>\n",
       "      <td>1 Season</td>\n",
       "      <td>Anime Series, International TV Shows</td>\n",
       "      <td>After falling through a wormhole, a space-dwel...</td>\n",
       "    </tr>\n",
       "    <tr>\n",
       "      <th>7312</th>\n",
       "      <td>s7313</td>\n",
       "      <td>TV Show</td>\n",
       "      <td>Little Lunch</td>\n",
       "      <td>NaN</td>\n",
       "      <td>Flynn Curry, Olivia Deeble, Madison Lu, Oisín ...</td>\n",
       "      <td>Australia</td>\n",
       "      <td>February 1, 2018</td>\n",
       "      <td>2015</td>\n",
       "      <td>NaN</td>\n",
       "      <td>1 Season</td>\n",
       "      <td>Kids' TV, TV Comedies</td>\n",
       "      <td>Adopting a child's perspective, this show take...</td>\n",
       "    </tr>\n",
       "    <tr>\n",
       "      <th>7537</th>\n",
       "      <td>s7538</td>\n",
       "      <td>Movie</td>\n",
       "      <td>My Honor Was Loyalty</td>\n",
       "      <td>Alessandro Pepe</td>\n",
       "      <td>Leone Frisa, Paolo Vaccarino, Francesco Miglio...</td>\n",
       "      <td>Italy</td>\n",
       "      <td>March 1, 2017</td>\n",
       "      <td>2015</td>\n",
       "      <td>NaN</td>\n",
       "      <td>115 min</td>\n",
       "      <td>Dramas</td>\n",
       "      <td>Amid the chaos and horror of World War II, a c...</td>\n",
       "    </tr>\n",
       "  </tbody>\n",
       "</table>\n",
       "</div>"
      ],
      "text/plain": [
       "     show_id     type                                              title  \\\n",
       "5989   s5990    Movie  13TH: A Conversation with Oprah Winfrey & Ava ...   \n",
       "6827   s6828  TV Show                  Gargantia on the Verdurous Planet   \n",
       "7312   s7313  TV Show                                       Little Lunch   \n",
       "7537   s7538    Movie                               My Honor Was Loyalty   \n",
       "\n",
       "             director                                               cast  \\\n",
       "5989              NaN                        Oprah Winfrey, Ava DuVernay   \n",
       "6827              NaN  Kaito Ishikawa, Hisako Kanemoto, Ai Kayano, Ka...   \n",
       "7312              NaN  Flynn Curry, Olivia Deeble, Madison Lu, Oisín ...   \n",
       "7537  Alessandro Pepe  Leone Frisa, Paolo Vaccarino, Francesco Miglio...   \n",
       "\n",
       "        country        date_added  release_year rating  duration  \\\n",
       "5989        NaN  January 26, 2017          2017    NaN    37 min   \n",
       "6827      Japan  December 1, 2016          2013    NaN  1 Season   \n",
       "7312  Australia  February 1, 2018          2015    NaN  1 Season   \n",
       "7537      Italy     March 1, 2017          2015    NaN   115 min   \n",
       "\n",
       "                                 listed_in  \\\n",
       "5989                                Movies   \n",
       "6827  Anime Series, International TV Shows   \n",
       "7312                 Kids' TV, TV Comedies   \n",
       "7537                                Dramas   \n",
       "\n",
       "                                            description  \n",
       "5989  Oprah Winfrey sits down with director Ava DuVe...  \n",
       "6827  After falling through a wormhole, a space-dwel...  \n",
       "7312  Adopting a child's perspective, this show take...  \n",
       "7537  Amid the chaos and horror of World War II, a c...  "
      ]
     },
     "execution_count": 8,
     "metadata": {},
     "output_type": "execute_result"
    }
   ],
   "source": [
    "#rating null rows\n",
    "data[data['rating'].isnull()]"
   ]
  },
  {
   "cell_type": "code",
   "execution_count": 9,
   "id": "56dc8c3a",
   "metadata": {},
   "outputs": [],
   "source": [
    "#filling rating according to sources or by genre and description\n",
    "data.loc[data[data['rating'].isnull()].index.tolist(),'rating']=['TV-14','TV-14','TV-Y','TV-MA']"
   ]
  },
  {
   "cell_type": "code",
   "execution_count": 10,
   "id": "5dc7c282",
   "metadata": {},
   "outputs": [
    {
     "data": {
      "text/plain": [
       "show_id            0\n",
       "type               0\n",
       "title              0\n",
       "director        2634\n",
       "cast             825\n",
       "country          831\n",
       "date_added        10\n",
       "release_year       0\n",
       "rating             0\n",
       "duration           0\n",
       "listed_in          0\n",
       "description        0\n",
       "dtype: int64"
      ]
     },
     "execution_count": 10,
     "metadata": {},
     "output_type": "execute_result"
    }
   ],
   "source": [
    "data.isna().sum()"
   ]
  },
  {
   "cell_type": "code",
   "execution_count": 11,
   "id": "a5db0626",
   "metadata": {},
   "outputs": [
    {
     "data": {
      "text/html": [
       "<div>\n",
       "<style scoped>\n",
       "    .dataframe tbody tr th:only-of-type {\n",
       "        vertical-align: middle;\n",
       "    }\n",
       "\n",
       "    .dataframe tbody tr th {\n",
       "        vertical-align: top;\n",
       "    }\n",
       "\n",
       "    .dataframe thead th {\n",
       "        text-align: right;\n",
       "    }\n",
       "</style>\n",
       "<table border=\"1\" class=\"dataframe\">\n",
       "  <thead>\n",
       "    <tr style=\"text-align: right;\">\n",
       "      <th></th>\n",
       "      <th>show_id</th>\n",
       "      <th>type</th>\n",
       "      <th>title</th>\n",
       "      <th>director</th>\n",
       "      <th>cast</th>\n",
       "      <th>country</th>\n",
       "      <th>date_added</th>\n",
       "      <th>release_year</th>\n",
       "      <th>rating</th>\n",
       "      <th>duration</th>\n",
       "      <th>listed_in</th>\n",
       "      <th>description</th>\n",
       "    </tr>\n",
       "  </thead>\n",
       "  <tbody>\n",
       "    <tr>\n",
       "      <th>6066</th>\n",
       "      <td>s6067</td>\n",
       "      <td>TV Show</td>\n",
       "      <td>A Young Doctor's Notebook and Other Stories</td>\n",
       "      <td>NaN</td>\n",
       "      <td>Daniel Radcliffe, Jon Hamm, Adam Godley, Chris...</td>\n",
       "      <td>United Kingdom</td>\n",
       "      <td>NaN</td>\n",
       "      <td>2013</td>\n",
       "      <td>TV-MA</td>\n",
       "      <td>2 Seasons</td>\n",
       "      <td>British TV Shows, TV Comedies, TV Dramas</td>\n",
       "      <td>Set during the Russian Revolution, this comic ...</td>\n",
       "    </tr>\n",
       "    <tr>\n",
       "      <th>6174</th>\n",
       "      <td>s6175</td>\n",
       "      <td>TV Show</td>\n",
       "      <td>Anthony Bourdain: Parts Unknown</td>\n",
       "      <td>NaN</td>\n",
       "      <td>Anthony Bourdain</td>\n",
       "      <td>United States</td>\n",
       "      <td>NaN</td>\n",
       "      <td>2018</td>\n",
       "      <td>TV-PG</td>\n",
       "      <td>5 Seasons</td>\n",
       "      <td>Docuseries</td>\n",
       "      <td>This CNN original series has chef Anthony Bour...</td>\n",
       "    </tr>\n",
       "    <tr>\n",
       "      <th>6795</th>\n",
       "      <td>s6796</td>\n",
       "      <td>TV Show</td>\n",
       "      <td>Frasier</td>\n",
       "      <td>NaN</td>\n",
       "      <td>Kelsey Grammer, Jane Leeves, David Hyde Pierce...</td>\n",
       "      <td>United States</td>\n",
       "      <td>NaN</td>\n",
       "      <td>2003</td>\n",
       "      <td>TV-PG</td>\n",
       "      <td>11 Seasons</td>\n",
       "      <td>Classic &amp; Cult TV, TV Comedies</td>\n",
       "      <td>Frasier Crane is a snooty but lovable Seattle ...</td>\n",
       "    </tr>\n",
       "    <tr>\n",
       "      <th>6806</th>\n",
       "      <td>s6807</td>\n",
       "      <td>TV Show</td>\n",
       "      <td>Friends</td>\n",
       "      <td>NaN</td>\n",
       "      <td>Jennifer Aniston, Courteney Cox, Lisa Kudrow, ...</td>\n",
       "      <td>United States</td>\n",
       "      <td>NaN</td>\n",
       "      <td>2003</td>\n",
       "      <td>TV-14</td>\n",
       "      <td>10 Seasons</td>\n",
       "      <td>Classic &amp; Cult TV, TV Comedies</td>\n",
       "      <td>This hit sitcom follows the merry misadventure...</td>\n",
       "    </tr>\n",
       "    <tr>\n",
       "      <th>6901</th>\n",
       "      <td>s6902</td>\n",
       "      <td>TV Show</td>\n",
       "      <td>Gunslinger Girl</td>\n",
       "      <td>NaN</td>\n",
       "      <td>Yuuka Nanri, Kanako Mitsuhashi, Eri Sendai, Am...</td>\n",
       "      <td>Japan</td>\n",
       "      <td>NaN</td>\n",
       "      <td>2008</td>\n",
       "      <td>TV-14</td>\n",
       "      <td>2 Seasons</td>\n",
       "      <td>Anime Series, Crime TV Shows</td>\n",
       "      <td>On the surface, the Social Welfare Agency appe...</td>\n",
       "    </tr>\n",
       "    <tr>\n",
       "      <th>7196</th>\n",
       "      <td>s7197</td>\n",
       "      <td>TV Show</td>\n",
       "      <td>Kikoriki</td>\n",
       "      <td>NaN</td>\n",
       "      <td>Igor Dmitriev</td>\n",
       "      <td>NaN</td>\n",
       "      <td>NaN</td>\n",
       "      <td>2010</td>\n",
       "      <td>TV-Y</td>\n",
       "      <td>2 Seasons</td>\n",
       "      <td>Kids' TV</td>\n",
       "      <td>A wacky rabbit and his gang of animal pals hav...</td>\n",
       "    </tr>\n",
       "    <tr>\n",
       "      <th>7254</th>\n",
       "      <td>s7255</td>\n",
       "      <td>TV Show</td>\n",
       "      <td>La Familia P. Luche</td>\n",
       "      <td>NaN</td>\n",
       "      <td>Eugenio Derbez, Consuelo Duval, Luis Manuel Áv...</td>\n",
       "      <td>United States</td>\n",
       "      <td>NaN</td>\n",
       "      <td>2012</td>\n",
       "      <td>TV-14</td>\n",
       "      <td>3 Seasons</td>\n",
       "      <td>International TV Shows, Spanish-Language TV Sh...</td>\n",
       "      <td>This irreverent sitcom featues Ludovico, Feder...</td>\n",
       "    </tr>\n",
       "    <tr>\n",
       "      <th>7406</th>\n",
       "      <td>s7407</td>\n",
       "      <td>TV Show</td>\n",
       "      <td>Maron</td>\n",
       "      <td>NaN</td>\n",
       "      <td>Marc Maron, Judd Hirsch, Josh Brener, Nora Zeh...</td>\n",
       "      <td>United States</td>\n",
       "      <td>NaN</td>\n",
       "      <td>2016</td>\n",
       "      <td>TV-MA</td>\n",
       "      <td>4 Seasons</td>\n",
       "      <td>TV Comedies</td>\n",
       "      <td>Marc Maron stars as Marc Maron, who interviews...</td>\n",
       "    </tr>\n",
       "    <tr>\n",
       "      <th>7847</th>\n",
       "      <td>s7848</td>\n",
       "      <td>TV Show</td>\n",
       "      <td>Red vs. Blue</td>\n",
       "      <td>NaN</td>\n",
       "      <td>Burnie Burns, Jason Saldaña, Gustavo Sorola, G...</td>\n",
       "      <td>United States</td>\n",
       "      <td>NaN</td>\n",
       "      <td>2015</td>\n",
       "      <td>NR</td>\n",
       "      <td>13 Seasons</td>\n",
       "      <td>TV Action &amp; Adventure, TV Comedies, TV Sci-Fi ...</td>\n",
       "      <td>This parody of first-person shooter games, mil...</td>\n",
       "    </tr>\n",
       "    <tr>\n",
       "      <th>8182</th>\n",
       "      <td>s8183</td>\n",
       "      <td>TV Show</td>\n",
       "      <td>The Adventures of Figaro Pho</td>\n",
       "      <td>NaN</td>\n",
       "      <td>Luke Jurevicius, Craig Behenna, Charlotte Haml...</td>\n",
       "      <td>Australia</td>\n",
       "      <td>NaN</td>\n",
       "      <td>2015</td>\n",
       "      <td>TV-Y7</td>\n",
       "      <td>2 Seasons</td>\n",
       "      <td>Kids' TV, TV Comedies</td>\n",
       "      <td>Imagine your worst fears, then multiply them: ...</td>\n",
       "    </tr>\n",
       "  </tbody>\n",
       "</table>\n",
       "</div>"
      ],
      "text/plain": [
       "     show_id     type                                        title director  \\\n",
       "6066   s6067  TV Show  A Young Doctor's Notebook and Other Stories      NaN   \n",
       "6174   s6175  TV Show              Anthony Bourdain: Parts Unknown      NaN   \n",
       "6795   s6796  TV Show                                      Frasier      NaN   \n",
       "6806   s6807  TV Show                                      Friends      NaN   \n",
       "6901   s6902  TV Show                              Gunslinger Girl      NaN   \n",
       "7196   s7197  TV Show                                     Kikoriki      NaN   \n",
       "7254   s7255  TV Show                          La Familia P. Luche      NaN   \n",
       "7406   s7407  TV Show                                        Maron      NaN   \n",
       "7847   s7848  TV Show                                 Red vs. Blue      NaN   \n",
       "8182   s8183  TV Show                 The Adventures of Figaro Pho      NaN   \n",
       "\n",
       "                                                   cast         country  \\\n",
       "6066  Daniel Radcliffe, Jon Hamm, Adam Godley, Chris...  United Kingdom   \n",
       "6174                                   Anthony Bourdain   United States   \n",
       "6795  Kelsey Grammer, Jane Leeves, David Hyde Pierce...   United States   \n",
       "6806  Jennifer Aniston, Courteney Cox, Lisa Kudrow, ...   United States   \n",
       "6901  Yuuka Nanri, Kanako Mitsuhashi, Eri Sendai, Am...           Japan   \n",
       "7196                                      Igor Dmitriev             NaN   \n",
       "7254  Eugenio Derbez, Consuelo Duval, Luis Manuel Áv...   United States   \n",
       "7406  Marc Maron, Judd Hirsch, Josh Brener, Nora Zeh...   United States   \n",
       "7847  Burnie Burns, Jason Saldaña, Gustavo Sorola, G...   United States   \n",
       "8182  Luke Jurevicius, Craig Behenna, Charlotte Haml...       Australia   \n",
       "\n",
       "     date_added  release_year rating    duration  \\\n",
       "6066        NaN          2013  TV-MA   2 Seasons   \n",
       "6174        NaN          2018  TV-PG   5 Seasons   \n",
       "6795        NaN          2003  TV-PG  11 Seasons   \n",
       "6806        NaN          2003  TV-14  10 Seasons   \n",
       "6901        NaN          2008  TV-14   2 Seasons   \n",
       "7196        NaN          2010   TV-Y   2 Seasons   \n",
       "7254        NaN          2012  TV-14   3 Seasons   \n",
       "7406        NaN          2016  TV-MA   4 Seasons   \n",
       "7847        NaN          2015     NR  13 Seasons   \n",
       "8182        NaN          2015  TV-Y7   2 Seasons   \n",
       "\n",
       "                                              listed_in  \\\n",
       "6066           British TV Shows, TV Comedies, TV Dramas   \n",
       "6174                                         Docuseries   \n",
       "6795                     Classic & Cult TV, TV Comedies   \n",
       "6806                     Classic & Cult TV, TV Comedies   \n",
       "6901                       Anime Series, Crime TV Shows   \n",
       "7196                                           Kids' TV   \n",
       "7254  International TV Shows, Spanish-Language TV Sh...   \n",
       "7406                                        TV Comedies   \n",
       "7847  TV Action & Adventure, TV Comedies, TV Sci-Fi ...   \n",
       "8182                              Kids' TV, TV Comedies   \n",
       "\n",
       "                                            description  \n",
       "6066  Set during the Russian Revolution, this comic ...  \n",
       "6174  This CNN original series has chef Anthony Bour...  \n",
       "6795  Frasier Crane is a snooty but lovable Seattle ...  \n",
       "6806  This hit sitcom follows the merry misadventure...  \n",
       "6901  On the surface, the Social Welfare Agency appe...  \n",
       "7196  A wacky rabbit and his gang of animal pals hav...  \n",
       "7254  This irreverent sitcom featues Ludovico, Feder...  \n",
       "7406  Marc Maron stars as Marc Maron, who interviews...  \n",
       "7847  This parody of first-person shooter games, mil...  \n",
       "8182  Imagine your worst fears, then multiply them: ...  "
      ]
     },
     "execution_count": 11,
     "metadata": {},
     "output_type": "execute_result"
    }
   ],
   "source": [
    "data[data['date_added'].isna()]"
   ]
  },
  {
   "cell_type": "code",
   "execution_count": 12,
   "id": "ebb399a7",
   "metadata": {},
   "outputs": [],
   "source": [
    "#date added by netflix is taken from sources\n",
    "data.loc[data[data['date_added'].isnull()].index.tolist(),'date_added']=['December 20, 2015', 'June 1, 2020' ,'March 4, 2011' ,'January 1, 2015', 'January 4, 2016', 'July 6, 2017', 'June 1, 2015', 'February 26, 2020', 'May 21, 2016', 'January 1, 2016']"
   ]
  },
  {
   "cell_type": "code",
   "execution_count": 13,
   "id": "c608e1d9",
   "metadata": {
    "scrolled": true
   },
   "outputs": [
    {
     "data": {
      "text/plain": [
       "show_id            0\n",
       "type               0\n",
       "title              0\n",
       "director        2634\n",
       "cast             825\n",
       "country          831\n",
       "date_added         0\n",
       "release_year       0\n",
       "rating             0\n",
       "duration           0\n",
       "listed_in          0\n",
       "description        0\n",
       "dtype: int64"
      ]
     },
     "execution_count": 13,
     "metadata": {},
     "output_type": "execute_result"
    }
   ],
   "source": [
    "data.isna().sum()"
   ]
  },
  {
   "cell_type": "code",
   "execution_count": 14,
   "id": "1b1aad4a",
   "metadata": {},
   "outputs": [],
   "source": [
    "#creating dictionary of directors their country to fill the country column nulls\n",
    "datap=data.copy()\n",
    "datap['director']=datap['director'].str.split(', ')\n",
    "datap['country']=datap['country'].str.split(', ')\n",
    "datap=datap.explode('director',ignore_index=True)\n",
    "datap=datap.explode('country',ignore_index=True)\n",
    "\n",
    "k=0\n",
    "dir_dic={}\n",
    "for i in datap['director']:\n",
    "    if i in dir_dic:\n",
    "        k+=1\n",
    "        continue\n",
    "    else:\n",
    "        if i is not np.nan:\n",
    "            if datap.loc[k,'country'] is not np.nan:\n",
    "                dir_dic[i]=datap.loc[k,'country']\n",
    "    k+=1"
   ]
  },
  {
   "cell_type": "code",
   "execution_count": 15,
   "id": "86500d1e",
   "metadata": {},
   "outputs": [],
   "source": [
    "# Assigning same country to director movie or tvshow\n",
    "k=0\n",
    "for i in data['country']:\n",
    "    if i is np.nan:\n",
    "        if data.loc[k,'director'] is not np.nan:\n",
    "            l=data.loc[k,'director'].split(', ')\n",
    "            for j in l:\n",
    "                if j in dir_dic:\n",
    "                    data.loc[k,'country']=dir_dic.get(j)\n",
    "        \n",
    "    k+=1"
   ]
  },
  {
   "cell_type": "code",
   "execution_count": 16,
   "id": "b53f66b5",
   "metadata": {},
   "outputs": [],
   "source": [
    "#creating dictionary of cast their country to fill the country column nulls\n",
    "\n",
    "datap=data.copy()\n",
    "datap['cast']=datap['cast'].str.split(', ')\n",
    "datap['country']=datap['country'].str.split(', ')\n",
    "datap=datap.explode('cast',ignore_index=True)\n",
    "datap=datap.explode('country',ignore_index=True)\n",
    "\n",
    "k=0\n",
    "cast_dic={}\n",
    "for i in datap['cast']:\n",
    "    if i in cast_dic:\n",
    "        k+=1\n",
    "        continue\n",
    "    else:\n",
    "        if i is not np.nan:\n",
    "            if datap.loc[k,'country'] is not np.nan:\n",
    "                cast_dic[i]=datap.loc[k,'country']\n",
    "    k+=1"
   ]
  },
  {
   "cell_type": "code",
   "execution_count": 17,
   "id": "2db663e8",
   "metadata": {},
   "outputs": [],
   "source": [
    "# Assigning same country to same cast movie or tvshow\n",
    "k=0\n",
    "for i in data['country']:\n",
    "    if i is np.nan:\n",
    "        if data.loc[k,'cast'] is not np.nan:\n",
    "            l=data.loc[k,'cast'].split(', ')\n",
    "            for j in l:\n",
    "                if j in cast_dic:\n",
    "                    data.loc[k,'country']=cast_dic.get(j)\n",
    "        \n",
    "    k+=1"
   ]
  },
  {
   "cell_type": "code",
   "execution_count": 18,
   "id": "2a87aee2",
   "metadata": {},
   "outputs": [],
   "source": [
    "#creating month column from date_added\n",
    "data['month_added']= (pd.to_datetime(data['date_added'])).dt.month_name()"
   ]
  },
  {
   "cell_type": "code",
   "execution_count": 19,
   "id": "8767c11a",
   "metadata": {
    "scrolled": true
   },
   "outputs": [],
   "source": [
    "#creating year column from date_added\n",
    "data['year_added']= (pd.to_datetime(data['date_added'])).dt.year"
   ]
  },
  {
   "cell_type": "code",
   "execution_count": 20,
   "id": "55a0a4f7",
   "metadata": {},
   "outputs": [],
   "source": [
    "#creating day_name column from date added\n",
    "data['day_added']=(pd.to_datetime(data['date_added'])).dt.day_name()"
   ]
  },
  {
   "cell_type": "markdown",
   "id": "2e35c8a4",
   "metadata": {},
   "source": [
    "### Dividing dataset with their type[Movie/TV Show]"
   ]
  },
  {
   "cell_type": "markdown",
   "id": "bc1021a2",
   "metadata": {},
   "source": [
    "Since there are many null for TV Show directors for comfort we divided"
   ]
  },
  {
   "cell_type": "code",
   "execution_count": 21,
   "id": "23ae2657",
   "metadata": {
    "scrolled": false
   },
   "outputs": [
    {
     "data": {
      "text/plain": [
       "Movie      6131\n",
       "TV Show    2676\n",
       "Name: type, dtype: int64"
      ]
     },
     "execution_count": 21,
     "metadata": {},
     "output_type": "execute_result"
    }
   ],
   "source": [
    "data['type'].value_counts()"
   ]
  },
  {
   "cell_type": "code",
   "execution_count": 22,
   "id": "e943c570",
   "metadata": {},
   "outputs": [],
   "source": [
    "movies_data=data[data['type']=='Movie'].copy()\n",
    "tvshow_data=data[data['type']=='TV Show'].copy()"
   ]
  },
  {
   "cell_type": "code",
   "execution_count": 23,
   "id": "85dfb44e",
   "metadata": {},
   "outputs": [
    {
     "data": {
      "text/plain": [
       "show_id           0\n",
       "type              0\n",
       "title             0\n",
       "director        188\n",
       "cast            475\n",
       "country          92\n",
       "date_added        0\n",
       "release_year      0\n",
       "rating            0\n",
       "duration          0\n",
       "listed_in         0\n",
       "description       0\n",
       "month_added       0\n",
       "year_added        0\n",
       "day_added         0\n",
       "dtype: int64"
      ]
     },
     "execution_count": 23,
     "metadata": {},
     "output_type": "execute_result"
    }
   ],
   "source": [
    "movies_data.isna().sum()"
   ]
  },
  {
   "cell_type": "code",
   "execution_count": 24,
   "id": "245d586b",
   "metadata": {},
   "outputs": [],
   "source": [
    "#movies have null values for director, cast and country they are very less so lets drop all\n",
    "movies_data.dropna(inplace=True)"
   ]
  },
  {
   "cell_type": "code",
   "execution_count": 25,
   "id": "f8e65426",
   "metadata": {
    "scrolled": true
   },
   "outputs": [
    {
     "data": {
      "text/plain": [
       "show_id            0\n",
       "type               0\n",
       "title              0\n",
       "director        2446\n",
       "cast             350\n",
       "country          155\n",
       "date_added         0\n",
       "release_year       0\n",
       "rating             0\n",
       "duration           0\n",
       "listed_in          0\n",
       "description        0\n",
       "month_added        0\n",
       "year_added         0\n",
       "day_added          0\n",
       "dtype: int64"
      ]
     },
     "execution_count": 25,
     "metadata": {},
     "output_type": "execute_result"
    }
   ],
   "source": [
    "tvshow_data.isna().sum()"
   ]
  },
  {
   "cell_type": "code",
   "execution_count": 26,
   "id": "98af9118",
   "metadata": {},
   "outputs": [],
   "source": [
    "#TV shows we are having many null for director almost 90% so lets drop the director column and we are dropping cast,country null values\n",
    "tvshow_data.drop(columns='director',axis=1,inplace=True)"
   ]
  },
  {
   "cell_type": "code",
   "execution_count": 27,
   "id": "b548d96c",
   "metadata": {},
   "outputs": [],
   "source": [
    "tvshow_data.dropna(inplace=True)"
   ]
  },
  {
   "cell_type": "code",
   "execution_count": 28,
   "id": "a60d92a8",
   "metadata": {},
   "outputs": [
    {
     "data": {
      "text/plain": [
       "show_id         0\n",
       "type            0\n",
       "title           0\n",
       "director        0\n",
       "cast            0\n",
       "country         0\n",
       "date_added      0\n",
       "release_year    0\n",
       "rating          0\n",
       "duration        0\n",
       "listed_in       0\n",
       "description     0\n",
       "month_added     0\n",
       "year_added      0\n",
       "day_added       0\n",
       "dtype: int64"
      ]
     },
     "execution_count": 28,
     "metadata": {},
     "output_type": "execute_result"
    }
   ],
   "source": [
    "movies_data.isna().sum()"
   ]
  },
  {
   "cell_type": "code",
   "execution_count": 29,
   "id": "91f8d8ba",
   "metadata": {},
   "outputs": [
    {
     "data": {
      "text/plain": [
       "show_id         0\n",
       "type            0\n",
       "title           0\n",
       "cast            0\n",
       "country         0\n",
       "date_added      0\n",
       "release_year    0\n",
       "rating          0\n",
       "duration        0\n",
       "listed_in       0\n",
       "description     0\n",
       "month_added     0\n",
       "year_added      0\n",
       "day_added       0\n",
       "dtype: int64"
      ]
     },
     "execution_count": 29,
     "metadata": {},
     "output_type": "execute_result"
    }
   ],
   "source": [
    "tvshow_data.isna().sum()"
   ]
  },
  {
   "cell_type": "code",
   "execution_count": 30,
   "id": "ac33bbd3",
   "metadata": {},
   "outputs": [],
   "source": [
    "#exploration on directors column can be done from movies_data so here we are creating no null data for combined movies and Tv show\n",
    "nonull_data=data.drop(columns='director',axis=1)"
   ]
  },
  {
   "cell_type": "code",
   "execution_count": 31,
   "id": "e683d3b4",
   "metadata": {},
   "outputs": [],
   "source": [
    "nonull_data.dropna(inplace=True)"
   ]
  },
  {
   "cell_type": "code",
   "execution_count": 32,
   "id": "e5de0a8f",
   "metadata": {},
   "outputs": [],
   "source": [
    "#movies_data = data of type movies with no null\n",
    "#tvshow_data = data of type tvshow with no null and no director column\n",
    "#nonull_data = data of netflix with no null and no director column"
   ]
  },
  {
   "cell_type": "markdown",
   "id": "c91cec23",
   "metadata": {},
   "source": [
    "## EDA"
   ]
  },
  {
   "cell_type": "markdown",
   "id": "56c7edc8",
   "metadata": {},
   "source": [
    "### There are only 2 major types in Netflix watch: Movies and TV Show"
   ]
  },
  {
   "cell_type": "code",
   "execution_count": 33,
   "id": "7e252213",
   "metadata": {
    "scrolled": false
   },
   "outputs": [
    {
     "data": {
      "image/png": "[encoded data removed]",
      "text/plain": [
       "<Figure size 432x432 with 1 Axes>"
      ]
     },
     "metadata": {},
     "output_type": "display_data"
    }
   ],
   "source": [
    "plt.figure(figsize=(6,6))\n",
    "plt.pie(data['type'].value_counts(),labels=data['type'].unique(),autopct='%1.1f%%')\n",
    "plt.title('Type of Netflix Content')\n",
    "plt.show()"
   ]
  },
  {
   "cell_type": "markdown",
   "id": "746499db",
   "metadata": {},
   "source": [
    "- More than 2/3 rd of the content are movies in Netflix"
   ]
  },
  {
   "cell_type": "markdown",
   "id": "16d2989e",
   "metadata": {},
   "source": [
    "### The trend in movies and Tv shows released by year"
   ]
  },
  {
   "cell_type": "code",
   "execution_count": 34,
   "id": "666f8cc4",
   "metadata": {},
   "outputs": [
    {
     "data": {
      "image/png": "[encoded data removed]",
      "text/plain": [
       "<Figure size 936x432 with 1 Axes>"
      ]
     },
     "metadata": {
      "needs_background": "light"
     },
     "output_type": "display_data"
    }
   ],
   "source": [
    "plt.figure(figsize=(13,6))\n",
    "plt.bar(x=data.loc[data['type']=='Movie','year_added'].value_counts().index ,height=data.loc[data['type']=='Movie','year_added'].value_counts(),width=-0.4,align='edge')\n",
    "plt.bar(x=data.loc[data['type']=='TV Show','year_added'].value_counts().index ,height=data.loc[data['type']=='TV Show','year_added'].value_counts(),width=0.4,align='edge')\n",
    "plt.title('Trend in movies and Tv show released')\n",
    "plt.show()"
   ]
  },
  {
   "cell_type": "markdown",
   "id": "f801cdd7",
   "metadata": {},
   "source": [
    "- In 2019 more content released and after that there is decrease in movie content it may due to covid situation."
   ]
  },
  {
   "cell_type": "markdown",
   "id": "11b4344a",
   "metadata": {},
   "source": [
    "- But in case of TV Show the content released in 2019 and 2020 is almost equal "
   ]
  },
  {
   "cell_type": "markdown",
   "id": "9b9f84f9",
   "metadata": {},
   "source": [
    "### Content released by months"
   ]
  },
  {
   "cell_type": "code",
   "execution_count": 35,
   "id": "eba9fbfa",
   "metadata": {},
   "outputs": [
    {
     "data": {
      "text/plain": [
       "[]"
      ]
     },
     "execution_count": 35,
     "metadata": {},
     "output_type": "execute_result"
    },
    {
     "data": {
      "image/png": "[encoded data removed]",
      "text/plain": [
       "<Figure size 1080x576 with 1 Axes>"
      ]
     },
     "metadata": {
      "needs_background": "light"
     },
     "output_type": "display_data"
    }
   ],
   "source": [
    "plt.figure(figsize=(15,8))\n",
    "plt.bar(x=data['month_added'].value_counts().index, height=data['month_added'].value_counts())\n",
    "plt.xlabel('month_added')\n",
    "plt.ylabel('count')\n",
    "plt.plot()"
   ]
  },
  {
   "cell_type": "markdown",
   "id": "a6d7aa16",
   "metadata": {},
   "source": [
    "### Number of Movies and Tv show released by months"
   ]
  },
  {
   "cell_type": "code",
   "execution_count": 36,
   "id": "40f66848",
   "metadata": {
    "scrolled": false
   },
   "outputs": [
    {
     "data": {
      "image/png": "[encoded data removed]",
      "text/plain": [
       "<Figure size 1080x576 with 1 Axes>"
      ]
     },
     "metadata": {
      "needs_background": "light"
     },
     "output_type": "display_data"
    }
   ],
   "source": [
    "plt.figure(figsize=(15,8))\n",
    "plt.bar(x=data.loc[data['type']=='Movie','month_added'].value_counts().index ,height=data.loc[data['type']=='Movie','month_added'].value_counts(),width=-0.4,align='edge')\n",
    "plt.bar(x=data.loc[data['type']=='TV Show','month_added'].value_counts().index ,height=data.loc[data['type']=='TV Show','month_added'].value_counts(),width=0.4,align='edge')\n",
    "plt.title('movies and Tv show released by months')\n",
    "plt.show()"
   ]
  },
  {
   "cell_type": "markdown",
   "id": "3c4ecdcd",
   "metadata": {},
   "source": [
    "- Highest no of movies released in july month and highest no of TV show released in july month"
   ]
  },
  {
   "cell_type": "markdown",
   "id": "c2787c9e",
   "metadata": {},
   "source": [
    "### Number of Movies and Tv show released by day"
   ]
  },
  {
   "cell_type": "code",
   "execution_count": 37,
   "id": "b60ff228",
   "metadata": {},
   "outputs": [
    {
     "data": {
      "image/png": "[encoded data removed]",
      "text/plain": [
       "<Figure size 1008x576 with 1 Axes>"
      ]
     },
     "metadata": {
      "needs_background": "light"
     },
     "output_type": "display_data"
    }
   ],
   "source": [
    "plt.figure(figsize=(14,8))\n",
    "plt.bar(x=data.loc[data['type']=='Movie','day_added'].value_counts().index ,height=data.loc[data['type']=='Movie','day_added'].value_counts(),width=-0.4,align='edge')\n",
    "plt.bar(x=data.loc[data['type']=='TV Show','day_added'].value_counts().index ,height=data.loc[data['type']=='TV Show','day_added'].value_counts(),width=0.4,align='edge')\n",
    "plt.title('movies and Tv show released by days')\n",
    "plt.show()"
   ]
  },
  {
   "cell_type": "markdown",
   "id": "ee6d9d83",
   "metadata": {},
   "source": [
    "- most of the content is releasing on friday"
   ]
  },
  {
   "cell_type": "markdown",
   "id": "bf605226",
   "metadata": {},
   "source": [
    "- #### The best time to release Movie or Tv Show is in december or july any friday "
   ]
  },
  {
   "cell_type": "markdown",
   "id": "1303e2c1",
   "metadata": {},
   "source": [
    "### Top 10 Movie and TV Show released by countries"
   ]
  },
  {
   "cell_type": "code",
   "execution_count": 38,
   "id": "77bcbb3a",
   "metadata": {
    "scrolled": true
   },
   "outputs": [
    {
     "data": {
      "image/png": "[encoded data removed]",
      "text/plain": [
       "<Figure size 1008x288 with 1 Axes>"
      ]
     },
     "metadata": {
      "needs_background": "light"
     },
     "output_type": "display_data"
    }
   ],
   "source": [
    "datap=data.copy()\n",
    "datap['country']=datap['country'].str.split(', ')\n",
    "datap=datap.explode('country')\n",
    "plt.figure(figsize=(14,4))\n",
    "plt.bar(x=datap.loc[datap['type']=='Movie','country'].value_counts().index[0:10] ,height=datap.loc[datap['type']=='Movie','country'].value_counts()[0:10],width=-0.4)\n",
    "plt.title('Top 10 Movie released by countries')\n",
    "plt.xlabel('country')\n",
    "plt.show()"
   ]
  },
  {
   "cell_type": "code",
   "execution_count": 64,
   "id": "277c8ad5",
   "metadata": {},
   "outputs": [
    {
     "data": {
      "image/png": "[encoded data removed]",
      "text/plain": [
       "<Figure size 1008x288 with 1 Axes>"
      ]
     },
     "metadata": {
      "needs_background": "light"
     },
     "output_type": "display_data"
    }
   ],
   "source": [
    "datap=data.copy()\n",
    "datap['country']=datap['country'].str.split(', ')\n",
    "datap=datap.explode('country')\n",
    "plt.figure(figsize=(14,4))\n",
    "plt.bar(x=datap.loc[datap['type']=='TV Show','country'].value_counts().index[0:10] ,height=datap.loc[datap['type']=='TV Show','country'].value_counts()[0:10],width=0.4)\n",
    "plt.title('Top 10 Tv show released by countries')\n",
    "plt.xlabel('country')\n",
    "plt.show()"
   ]
  },
  {
   "cell_type": "markdown",
   "id": "21b30fb8",
   "metadata": {},
   "source": [
    "### Movies duration distribution"
   ]
  },
  {
   "cell_type": "code",
   "execution_count": 40,
   "id": "503f40bd",
   "metadata": {},
   "outputs": [],
   "source": [
    "movies_data['duration']=movies_data['duration'].str.split(' ').apply(lambda x: x[0])\n",
    "movies_data['duration']=movies_data['duration'].astype(int)"
   ]
  },
  {
   "cell_type": "code",
   "execution_count": 41,
   "id": "722f8d3c",
   "metadata": {},
   "outputs": [
    {
     "data": {
      "image/png": "[encoded data removed]",
      "text/plain": [
       "<Figure size 1080x288 with 1 Axes>"
      ]
     },
     "metadata": {
      "needs_background": "light"
     },
     "output_type": "display_data"
    },
    {
     "data": {
      "image/png": "[encoded data removed]",
      "text/plain": [
       "<Figure size 576x360 with 1 Axes>"
      ]
     },
     "metadata": {
      "needs_background": "light"
     },
     "output_type": "display_data"
    }
   ],
   "source": [
    "plt.figure(figsize=(15,4))\n",
    "plt.subplot(1,2,1)\n",
    "\n",
    "sns.histplot(data=movies_data,x='duration',binrange=(0,200))\n",
    "plt.show()\n",
    "\n",
    "plt.figure(figsize=(8,5))\n",
    "plt.subplot(1,2,2)\n",
    "sns.boxplot(data=movies_data,y='duration')\n",
    "plt.xlabel('movie')\n",
    "plt.ylabel('duration (min)')\n",
    "plt.show()"
   ]
  },
  {
   "cell_type": "markdown",
   "id": "46601638",
   "metadata": {},
   "source": [
    "- Most of the movies are in the range 90-115 minutes"
   ]
  },
  {
   "cell_type": "markdown",
   "id": "15272dca",
   "metadata": {},
   "source": [
    "### TV Show with no of seasons"
   ]
  },
  {
   "cell_type": "code",
   "execution_count": 42,
   "id": "6b0fff41",
   "metadata": {},
   "outputs": [
    {
     "data": {
      "image/png": "[encoded data removed]",
      "text/plain": [
       "<Figure size 1296x432 with 1 Axes>"
      ]
     },
     "metadata": {
      "needs_background": "light"
     },
     "output_type": "display_data"
    }
   ],
   "source": [
    "plt.figure(figsize=(18,6))\n",
    "plt.bar(x=tvshow_data['duration'].value_counts().index,height=tvshow_data['duration'].value_counts().values)\n",
    "plt.show()"
   ]
  },
  {
   "cell_type": "markdown",
   "id": "2234bbc2",
   "metadata": {},
   "source": [
    "- Mostly there are only one season Tv shows"
   ]
  },
  {
   "cell_type": "markdown",
   "id": "d7f551f9",
   "metadata": {},
   "source": [
    "### TV show with more than 9 seasons"
   ]
  },
  {
   "cell_type": "code",
   "execution_count": 43,
   "id": "980a4e8b",
   "metadata": {},
   "outputs": [],
   "source": [
    "tvshow_data['duration']=tvshow_data['duration'].str.split(' ').apply(lambda x: x[0])\n",
    "tvshow_data['duration']=tvshow_data['duration'].astype(int)"
   ]
  },
  {
   "cell_type": "code",
   "execution_count": 44,
   "id": "7ed60fc9",
   "metadata": {},
   "outputs": [
    {
     "data": {
      "text/html": [
       "<div>\n",
       "<style scoped>\n",
       "    .dataframe tbody tr th:only-of-type {\n",
       "        vertical-align: middle;\n",
       "    }\n",
       "\n",
       "    .dataframe tbody tr th {\n",
       "        vertical-align: top;\n",
       "    }\n",
       "\n",
       "    .dataframe thead th {\n",
       "        text-align: right;\n",
       "    }\n",
       "</style>\n",
       "<table border=\"1\" class=\"dataframe\">\n",
       "  <thead>\n",
       "    <tr style=\"text-align: right;\">\n",
       "      <th></th>\n",
       "      <th>title</th>\n",
       "      <th>duration</th>\n",
       "      <th>listed_in</th>\n",
       "      <th>release_year</th>\n",
       "      <th>date_added</th>\n",
       "    </tr>\n",
       "  </thead>\n",
       "  <tbody>\n",
       "    <tr>\n",
       "      <th>390</th>\n",
       "      <td>The Walking Dead</td>\n",
       "      <td>10</td>\n",
       "      <td>Classic &amp; Cult TV, TV Action &amp; Adventure, TV D...</td>\n",
       "      <td>2019</td>\n",
       "      <td>July 26, 2021</td>\n",
       "    </tr>\n",
       "    <tr>\n",
       "      <th>548</th>\n",
       "      <td>Grey's Anatomy</td>\n",
       "      <td>17</td>\n",
       "      <td>Romantic TV Shows, TV Dramas</td>\n",
       "      <td>2020</td>\n",
       "      <td>July 3, 2021</td>\n",
       "    </tr>\n",
       "    <tr>\n",
       "      <th>1354</th>\n",
       "      <td>Heartland</td>\n",
       "      <td>13</td>\n",
       "      <td>TV Dramas</td>\n",
       "      <td>2019</td>\n",
       "      <td>February 1, 2021</td>\n",
       "    </tr>\n",
       "    <tr>\n",
       "      <th>1622</th>\n",
       "      <td>Stargate SG-1</td>\n",
       "      <td>10</td>\n",
       "      <td>Classic &amp; Cult TV, TV Action &amp; Adventure, TV S...</td>\n",
       "      <td>2006</td>\n",
       "      <td>December 1, 2020</td>\n",
       "    </tr>\n",
       "    <tr>\n",
       "      <th>1759</th>\n",
       "      <td>LEGO Ninjago: Masters of Spinjitzu</td>\n",
       "      <td>10</td>\n",
       "      <td>Kids' TV</td>\n",
       "      <td>2019</td>\n",
       "      <td>November 1, 2020</td>\n",
       "    </tr>\n",
       "    <tr>\n",
       "      <th>2203</th>\n",
       "      <td>Shameless (U.S.)</td>\n",
       "      <td>10</td>\n",
       "      <td>TV Comedies, TV Dramas</td>\n",
       "      <td>2019</td>\n",
       "      <td>July 26, 2020</td>\n",
       "    </tr>\n",
       "    <tr>\n",
       "      <th>2423</th>\n",
       "      <td>Supernatural</td>\n",
       "      <td>15</td>\n",
       "      <td>Classic &amp; Cult TV, TV Action &amp; Adventure, TV H...</td>\n",
       "      <td>2019</td>\n",
       "      <td>June 5, 2020</td>\n",
       "    </tr>\n",
       "    <tr>\n",
       "      <th>4220</th>\n",
       "      <td>COMEDIANS of the world</td>\n",
       "      <td>13</td>\n",
       "      <td>Stand-Up Comedy &amp; Talk Shows, TV Comedies</td>\n",
       "      <td>2019</td>\n",
       "      <td>January 1, 2019</td>\n",
       "    </tr>\n",
       "    <tr>\n",
       "      <th>4798</th>\n",
       "      <td>NCIS</td>\n",
       "      <td>15</td>\n",
       "      <td>Crime TV Shows, TV Dramas, TV Mysteries</td>\n",
       "      <td>2017</td>\n",
       "      <td>July 1, 2018</td>\n",
       "    </tr>\n",
       "    <tr>\n",
       "      <th>4964</th>\n",
       "      <td>Trailer Park Boys</td>\n",
       "      <td>12</td>\n",
       "      <td>Classic &amp; Cult TV, Crime TV Shows, Internation...</td>\n",
       "      <td>2018</td>\n",
       "      <td>March 30, 2018</td>\n",
       "    </tr>\n",
       "    <tr>\n",
       "      <th>5412</th>\n",
       "      <td>Criminal Minds</td>\n",
       "      <td>12</td>\n",
       "      <td>Crime TV Shows, TV Dramas, TV Mysteries</td>\n",
       "      <td>2017</td>\n",
       "      <td>June 30, 2017</td>\n",
       "    </tr>\n",
       "    <tr>\n",
       "      <th>5908</th>\n",
       "      <td>Danger Mouse: Classic Collection</td>\n",
       "      <td>10</td>\n",
       "      <td>British TV Shows, Kids' TV, TV Comedies</td>\n",
       "      <td>1992</td>\n",
       "      <td>June 15, 2015</td>\n",
       "    </tr>\n",
       "    <tr>\n",
       "      <th>6456</th>\n",
       "      <td>Cheers</td>\n",
       "      <td>11</td>\n",
       "      <td>Classic &amp; Cult TV, TV Comedies</td>\n",
       "      <td>1992</td>\n",
       "      <td>July 1, 2017</td>\n",
       "    </tr>\n",
       "    <tr>\n",
       "      <th>6549</th>\n",
       "      <td>Dad's Army</td>\n",
       "      <td>10</td>\n",
       "      <td>British TV Shows, Classic &amp; Cult TV, TV Comedies</td>\n",
       "      <td>1977</td>\n",
       "      <td>March 31, 2018</td>\n",
       "    </tr>\n",
       "    <tr>\n",
       "      <th>6795</th>\n",
       "      <td>Frasier</td>\n",
       "      <td>11</td>\n",
       "      <td>Classic &amp; Cult TV, TV Comedies</td>\n",
       "      <td>2003</td>\n",
       "      <td>March 4, 2011</td>\n",
       "    </tr>\n",
       "    <tr>\n",
       "      <th>6806</th>\n",
       "      <td>Friends</td>\n",
       "      <td>10</td>\n",
       "      <td>Classic &amp; Cult TV, TV Comedies</td>\n",
       "      <td>2003</td>\n",
       "      <td>January 1, 2015</td>\n",
       "    </tr>\n",
       "    <tr>\n",
       "      <th>7847</th>\n",
       "      <td>Red vs. Blue</td>\n",
       "      <td>13</td>\n",
       "      <td>TV Action &amp; Adventure, TV Comedies, TV Sci-Fi ...</td>\n",
       "      <td>2015</td>\n",
       "      <td>May 21, 2016</td>\n",
       "    </tr>\n",
       "  </tbody>\n",
       "</table>\n",
       "</div>"
      ],
      "text/plain": [
       "                                   title  duration  \\\n",
       "390                     The Walking Dead        10   \n",
       "548                       Grey's Anatomy        17   \n",
       "1354                           Heartland        13   \n",
       "1622                       Stargate SG-1        10   \n",
       "1759  LEGO Ninjago: Masters of Spinjitzu        10   \n",
       "2203                    Shameless (U.S.)        10   \n",
       "2423                        Supernatural        15   \n",
       "4220              COMEDIANS of the world        13   \n",
       "4798                                NCIS        15   \n",
       "4964                   Trailer Park Boys        12   \n",
       "5412                      Criminal Minds        12   \n",
       "5908    Danger Mouse: Classic Collection        10   \n",
       "6456                              Cheers        11   \n",
       "6549                          Dad's Army        10   \n",
       "6795                             Frasier        11   \n",
       "6806                             Friends        10   \n",
       "7847                        Red vs. Blue        13   \n",
       "\n",
       "                                              listed_in  release_year  \\\n",
       "390   Classic & Cult TV, TV Action & Adventure, TV D...          2019   \n",
       "548                        Romantic TV Shows, TV Dramas          2020   \n",
       "1354                                          TV Dramas          2019   \n",
       "1622  Classic & Cult TV, TV Action & Adventure, TV S...          2006   \n",
       "1759                                           Kids' TV          2019   \n",
       "2203                             TV Comedies, TV Dramas          2019   \n",
       "2423  Classic & Cult TV, TV Action & Adventure, TV H...          2019   \n",
       "4220          Stand-Up Comedy & Talk Shows, TV Comedies          2019   \n",
       "4798            Crime TV Shows, TV Dramas, TV Mysteries          2017   \n",
       "4964  Classic & Cult TV, Crime TV Shows, Internation...          2018   \n",
       "5412            Crime TV Shows, TV Dramas, TV Mysteries          2017   \n",
       "5908            British TV Shows, Kids' TV, TV Comedies          1992   \n",
       "6456                     Classic & Cult TV, TV Comedies          1992   \n",
       "6549   British TV Shows, Classic & Cult TV, TV Comedies          1977   \n",
       "6795                     Classic & Cult TV, TV Comedies          2003   \n",
       "6806                     Classic & Cult TV, TV Comedies          2003   \n",
       "7847  TV Action & Adventure, TV Comedies, TV Sci-Fi ...          2015   \n",
       "\n",
       "            date_added  \n",
       "390      July 26, 2021  \n",
       "548       July 3, 2021  \n",
       "1354  February 1, 2021  \n",
       "1622  December 1, 2020  \n",
       "1759  November 1, 2020  \n",
       "2203     July 26, 2020  \n",
       "2423      June 5, 2020  \n",
       "4220   January 1, 2019  \n",
       "4798      July 1, 2018  \n",
       "4964    March 30, 2018  \n",
       "5412     June 30, 2017  \n",
       "5908     June 15, 2015  \n",
       "6456      July 1, 2017  \n",
       "6549    March 31, 2018  \n",
       "6795     March 4, 2011  \n",
       "6806   January 1, 2015  \n",
       "7847      May 21, 2016  "
      ]
     },
     "execution_count": 44,
     "metadata": {},
     "output_type": "execute_result"
    }
   ],
   "source": [
    "pd.DataFrame(tvshow_data[tvshow_data['duration']>9][['title','duration','listed_in','release_year','date_added']])"
   ]
  },
  {
   "cell_type": "markdown",
   "id": "e70e5af1",
   "metadata": {},
   "source": [
    "- **Recommendation:** Try to produce new seasons for the well-established TV Show that are produced many seasons."
   ]
  },
  {
   "cell_type": "markdown",
   "id": "3f6275bd",
   "metadata": {},
   "source": [
    "### Number of Movies on Netflix released before 1990"
   ]
  },
  {
   "cell_type": "code",
   "execution_count": 45,
   "id": "36a82f2f",
   "metadata": {
    "scrolled": true
   },
   "outputs": [
    {
     "data": {
      "text/plain": [
       "[]"
      ]
     },
     "execution_count": 45,
     "metadata": {},
     "output_type": "execute_result"
    },
    {
     "data": {
      "image/png": "[encoded data removed]",
      "text/plain": [
       "<Figure size 720x360 with 1 Axes>"
      ]
     },
     "metadata": {
      "needs_background": "light"
     },
     "output_type": "display_data"
    }
   ],
   "source": [
    "plt.figure(figsize=(10,5))\n",
    "sns.histplot(data=movies_data,x='release_year',bins=40)\n",
    "plt.plot()"
   ]
  },
  {
   "cell_type": "code",
   "execution_count": 46,
   "id": "2d5f3fd0",
   "metadata": {
    "scrolled": true
   },
   "outputs": [
    {
     "data": {
      "text/plain": [
       "223"
      ]
     },
     "execution_count": 46,
     "metadata": {},
     "output_type": "execute_result"
    }
   ],
   "source": [
    "movies_data[movies_data['release_year']<1990]['release_year'].value_counts().sum()"
   ]
  },
  {
   "cell_type": "markdown",
   "id": "8e744edf",
   "metadata": {},
   "source": [
    "- **Recommendation:** Only 223 movies are there which are released before 1990. If we try to keep more old classics we may attract people from that generation."
   ]
  },
  {
   "cell_type": "markdown",
   "id": "1a282716",
   "metadata": {},
   "source": [
    "### Director with more movies in one genre"
   ]
  },
  {
   "cell_type": "code",
   "execution_count": 47,
   "id": "00f8df6a",
   "metadata": {},
   "outputs": [
    {
     "data": {
      "text/html": [
       "<div>\n",
       "<style scoped>\n",
       "    .dataframe tbody tr th:only-of-type {\n",
       "        vertical-align: middle;\n",
       "    }\n",
       "\n",
       "    .dataframe tbody tr th {\n",
       "        vertical-align: top;\n",
       "    }\n",
       "\n",
       "    .dataframe thead th {\n",
       "        text-align: right;\n",
       "    }\n",
       "</style>\n",
       "<table border=\"1\" class=\"dataframe\">\n",
       "  <thead>\n",
       "    <tr style=\"text-align: right;\">\n",
       "      <th></th>\n",
       "      <th></th>\n",
       "      <th></th>\n",
       "      <th>type</th>\n",
       "    </tr>\n",
       "    <tr>\n",
       "      <th>director</th>\n",
       "      <th>listed_in</th>\n",
       "      <th>type</th>\n",
       "      <th></th>\n",
       "    </tr>\n",
       "  </thead>\n",
       "  <tbody>\n",
       "    <tr>\n",
       "      <th>Rajiv Chilaka</th>\n",
       "      <th>Children &amp; Family Movies</th>\n",
       "      <th>Movie</th>\n",
       "      <td>19</td>\n",
       "    </tr>\n",
       "    <tr>\n",
       "      <th>Suhas Kadav</th>\n",
       "      <th>Children &amp; Family Movies</th>\n",
       "      <th>Movie</th>\n",
       "      <td>13</td>\n",
       "    </tr>\n",
       "    <tr>\n",
       "      <th>Martin Scorsese</th>\n",
       "      <th>Dramas</th>\n",
       "      <th>Movie</th>\n",
       "      <td>9</td>\n",
       "    </tr>\n",
       "    <tr>\n",
       "      <th>Don Michael Paul</th>\n",
       "      <th>Action &amp; Adventure</th>\n",
       "      <th>Movie</th>\n",
       "      <td>9</td>\n",
       "    </tr>\n",
       "    <tr>\n",
       "      <th>Suhas Kadav</th>\n",
       "      <th>Comedies</th>\n",
       "      <th>Movie</th>\n",
       "      <td>8</td>\n",
       "    </tr>\n",
       "    <tr>\n",
       "      <th>Robert Rodriguez</th>\n",
       "      <th>Children &amp; Family Movies</th>\n",
       "      <th>Movie</th>\n",
       "      <td>7</td>\n",
       "    </tr>\n",
       "    <tr>\n",
       "      <th>Steve Ball</th>\n",
       "      <th>Children &amp; Family Movies</th>\n",
       "      <th>Movie</th>\n",
       "      <td>6</td>\n",
       "    </tr>\n",
       "    <tr>\n",
       "      <th>Steven Spielberg</th>\n",
       "      <th>Dramas</th>\n",
       "      <th>Movie</th>\n",
       "      <td>6</td>\n",
       "    </tr>\n",
       "    <tr>\n",
       "      <th>Lasse Hallström</th>\n",
       "      <th>Dramas</th>\n",
       "      <th>Movie</th>\n",
       "      <td>6</td>\n",
       "    </tr>\n",
       "    <tr>\n",
       "      <th>Clint Eastwood</th>\n",
       "      <th>Dramas</th>\n",
       "      <th>Movie</th>\n",
       "      <td>6</td>\n",
       "    </tr>\n",
       "    <tr>\n",
       "      <th>Steven Spielberg</th>\n",
       "      <th>Children &amp; Family Movies</th>\n",
       "      <th>Movie</th>\n",
       "      <td>6</td>\n",
       "    </tr>\n",
       "    <tr>\n",
       "      <th>Tilak Shetty</th>\n",
       "      <th>Children &amp; Family Movies</th>\n",
       "      <th>Movie</th>\n",
       "      <td>6</td>\n",
       "    </tr>\n",
       "    <tr>\n",
       "      <th>Robert Rodriguez</th>\n",
       "      <th>Comedies</th>\n",
       "      <th>Movie</th>\n",
       "      <td>6</td>\n",
       "    </tr>\n",
       "    <tr>\n",
       "      <th>Joey So</th>\n",
       "      <th>Children &amp; Family Movies</th>\n",
       "      <th>Movie</th>\n",
       "      <td>6</td>\n",
       "    </tr>\n",
       "    <tr>\n",
       "      <th>Robert Vince</th>\n",
       "      <th>Children &amp; Family Movies</th>\n",
       "      <th>Movie</th>\n",
       "      <td>6</td>\n",
       "    </tr>\n",
       "  </tbody>\n",
       "</table>\n",
       "</div>"
      ],
      "text/plain": [
       "                                                 type\n",
       "director         listed_in                type       \n",
       "Rajiv Chilaka    Children & Family Movies Movie    19\n",
       "Suhas Kadav      Children & Family Movies Movie    13\n",
       "Martin Scorsese  Dramas                   Movie     9\n",
       "Don Michael Paul Action & Adventure       Movie     9\n",
       "Suhas Kadav      Comedies                 Movie     8\n",
       "Robert Rodriguez Children & Family Movies Movie     7\n",
       "Steve Ball       Children & Family Movies Movie     6\n",
       "Steven Spielberg Dramas                   Movie     6\n",
       "Lasse Hallström  Dramas                   Movie     6\n",
       "Clint Eastwood   Dramas                   Movie     6\n",
       "Steven Spielberg Children & Family Movies Movie     6\n",
       "Tilak Shetty     Children & Family Movies Movie     6\n",
       "Robert Rodriguez Comedies                 Movie     6\n",
       "Joey So          Children & Family Movies Movie     6\n",
       "Robert Vince     Children & Family Movies Movie     6"
      ]
     },
     "execution_count": 47,
     "metadata": {},
     "output_type": "execute_result"
    }
   ],
   "source": [
    "feb=movies_data.copy()\n",
    "feb['director']=feb['director'].str.split(', ')\n",
    "feb['listed_in']=feb['listed_in'].str.split(', ')\n",
    "feb=feb.explode('listed_in')\n",
    "feb=feb.explode('director')\n",
    "feb.drop(index=feb[feb['listed_in']=='International Movies'].index,axis=0,inplace=True)\n",
    "feb.drop(index=feb[feb['listed_in']=='Stand-Up Comedy'].index,axis=0,inplace=True)\n",
    "a=pd.DataFrame(feb.groupby(['director','listed_in'])['type'].value_counts())\n",
    "pd.DataFrame(a['type'].sort_values(ascending=False)[0:15])"
   ]
  },
  {
   "cell_type": "markdown",
   "id": "681a5dd6",
   "metadata": {},
   "source": [
    "### Cast with more movies in one genre"
   ]
  },
  {
   "cell_type": "code",
   "execution_count": 48,
   "id": "7ee29c3e",
   "metadata": {},
   "outputs": [
    {
     "data": {
      "text/html": [
       "<div>\n",
       "<style scoped>\n",
       "    .dataframe tbody tr th:only-of-type {\n",
       "        vertical-align: middle;\n",
       "    }\n",
       "\n",
       "    .dataframe tbody tr th {\n",
       "        vertical-align: top;\n",
       "    }\n",
       "\n",
       "    .dataframe thead th {\n",
       "        text-align: right;\n",
       "    }\n",
       "</style>\n",
       "<table border=\"1\" class=\"dataframe\">\n",
       "  <thead>\n",
       "    <tr style=\"text-align: right;\">\n",
       "      <th></th>\n",
       "      <th></th>\n",
       "      <th></th>\n",
       "      <th>type</th>\n",
       "    </tr>\n",
       "    <tr>\n",
       "      <th>cast</th>\n",
       "      <th>listed_in</th>\n",
       "      <th>type</th>\n",
       "      <th></th>\n",
       "    </tr>\n",
       "  </thead>\n",
       "  <tbody>\n",
       "    <tr>\n",
       "      <th>Julie Tejwani</th>\n",
       "      <th>Children &amp; Family Movies</th>\n",
       "      <th>Movie</th>\n",
       "      <td>26</td>\n",
       "    </tr>\n",
       "    <tr>\n",
       "      <th>Rupa Bhimani</th>\n",
       "      <th>Children &amp; Family Movies</th>\n",
       "      <th>Movie</th>\n",
       "      <td>25</td>\n",
       "    </tr>\n",
       "    <tr>\n",
       "      <th>Rajesh Kava</th>\n",
       "      <th>Children &amp; Family Movies</th>\n",
       "      <th>Movie</th>\n",
       "      <td>21</td>\n",
       "    </tr>\n",
       "    <tr>\n",
       "      <th>Jigna Bhardwaj</th>\n",
       "      <th>Children &amp; Family Movies</th>\n",
       "      <th>Movie</th>\n",
       "      <td>19</td>\n",
       "    </tr>\n",
       "    <tr>\n",
       "      <th>Adam Sandler</th>\n",
       "      <th>Comedies</th>\n",
       "      <th>Movie</th>\n",
       "      <td>18</td>\n",
       "    </tr>\n",
       "    <tr>\n",
       "      <th>Vatsal Dubey</th>\n",
       "      <th>Children &amp; Family Movies</th>\n",
       "      <th>Movie</th>\n",
       "      <td>16</td>\n",
       "    </tr>\n",
       "    <tr>\n",
       "      <th>Laura Bailey</th>\n",
       "      <th>Children &amp; Family Movies</th>\n",
       "      <th>Movie</th>\n",
       "      <td>14</td>\n",
       "    </tr>\n",
       "    <tr>\n",
       "      <th>Tara Strong</th>\n",
       "      <th>Children &amp; Family Movies</th>\n",
       "      <th>Movie</th>\n",
       "      <td>14</td>\n",
       "    </tr>\n",
       "    <tr>\n",
       "      <th>Maya Rudolph</th>\n",
       "      <th>Comedies</th>\n",
       "      <th>Movie</th>\n",
       "      <td>14</td>\n",
       "    </tr>\n",
       "    <tr>\n",
       "      <th>Kate Higgins</th>\n",
       "      <th>Children &amp; Family Movies</th>\n",
       "      <th>Movie</th>\n",
       "      <td>13</td>\n",
       "    </tr>\n",
       "    <tr>\n",
       "      <th>Erin Fitzgerald</th>\n",
       "      <th>Children &amp; Family Movies</th>\n",
       "      <th>Movie</th>\n",
       "      <td>13</td>\n",
       "    </tr>\n",
       "    <tr>\n",
       "      <th>Fred Tatasciore</th>\n",
       "      <th>Children &amp; Family Movies</th>\n",
       "      <th>Movie</th>\n",
       "      <td>13</td>\n",
       "    </tr>\n",
       "    <tr>\n",
       "      <th>Swapnil</th>\n",
       "      <th>Children &amp; Family Movies</th>\n",
       "      <th>Movie</th>\n",
       "      <td>13</td>\n",
       "    </tr>\n",
       "    <tr>\n",
       "      <th>Mousam</th>\n",
       "      <th>Children &amp; Family Movies</th>\n",
       "      <th>Movie</th>\n",
       "      <td>13</td>\n",
       "    </tr>\n",
       "    <tr>\n",
       "      <th>Will Ferrell</th>\n",
       "      <th>Comedies</th>\n",
       "      <th>Movie</th>\n",
       "      <td>12</td>\n",
       "    </tr>\n",
       "  </tbody>\n",
       "</table>\n",
       "</div>"
      ],
      "text/plain": [
       "                                                type\n",
       "cast            listed_in                type       \n",
       "Julie Tejwani   Children & Family Movies Movie    26\n",
       "Rupa Bhimani    Children & Family Movies Movie    25\n",
       "Rajesh Kava     Children & Family Movies Movie    21\n",
       "Jigna Bhardwaj  Children & Family Movies Movie    19\n",
       "Adam Sandler    Comedies                 Movie    18\n",
       "Vatsal Dubey    Children & Family Movies Movie    16\n",
       "Laura Bailey    Children & Family Movies Movie    14\n",
       "Tara Strong     Children & Family Movies Movie    14\n",
       "Maya Rudolph    Comedies                 Movie    14\n",
       "Kate Higgins    Children & Family Movies Movie    13\n",
       "Erin Fitzgerald Children & Family Movies Movie    13\n",
       "Fred Tatasciore Children & Family Movies Movie    13\n",
       "Swapnil         Children & Family Movies Movie    13\n",
       "Mousam          Children & Family Movies Movie    13\n",
       "Will Ferrell    Comedies                 Movie    12"
      ]
     },
     "execution_count": 48,
     "metadata": {},
     "output_type": "execute_result"
    }
   ],
   "source": [
    "#removing international movies and standup comedy from genre list\n",
    "feb=movies_data.copy()\n",
    "feb['cast']=feb['cast'].str.split(', ')\n",
    "feb['listed_in']=feb['listed_in'].str.split(', ')\n",
    "feb=feb.explode('listed_in')\n",
    "feb=feb.explode('cast')\n",
    "feb.drop(index=feb[feb['listed_in']=='International Movies'].index,axis=0,inplace=True)\n",
    "feb.drop(index=feb[feb['listed_in']=='Stand-Up Comedy'].index,axis=0,inplace=True)\n",
    "a=pd.DataFrame(feb.groupby(['cast','listed_in'])['type'].value_counts())\n",
    "pd.DataFrame(a['type'].sort_values(ascending=False)[0:15])"
   ]
  },
  {
   "cell_type": "markdown",
   "id": "bf7c369c",
   "metadata": {},
   "source": [
    "### Stand-Up Comedy top directors"
   ]
  },
  {
   "cell_type": "code",
   "execution_count": 49,
   "id": "c3feed89",
   "metadata": {},
   "outputs": [
    {
     "data": {
      "image/png": "[encoded data removed]",
      "text/plain": [
       "<Figure size 1080x576 with 1 Axes>"
      ]
     },
     "metadata": {
      "needs_background": "light"
     },
     "output_type": "display_data"
    },
    {
     "data": {
      "image/png": "[encoded data removed]",
      "text/plain": [
       "<Figure size 1080x576 with 1 Axes>"
      ]
     },
     "metadata": {
      "needs_background": "light"
     },
     "output_type": "display_data"
    }
   ],
   "source": [
    "plt.figure(figsize=(15,8))\n",
    "plt.subplot(2,1,1)\n",
    "plt.bar(x=movies_data[movies_data['listed_in']=='Stand-Up Comedy']['director'].value_counts()[0:5].index,height=movies_data[movies_data['listed_in']=='Stand-Up Comedy']['director'].value_counts()[0:5].values)\n",
    "plt.xlabel('director')\n",
    "plt.ylabel('No of Movies')\n",
    "plt.title('Stand-Up Comedy top directors')\n",
    "plt.show()\n",
    "plt.figure(figsize=(15,8))\n",
    "plt.subplot(2,1,2)\n",
    "plt.bar(x=movies_data[movies_data['listed_in']=='Stand-Up Comedy']['country'].value_counts()[0:5].index,height=movies_data[movies_data['listed_in']=='Stand-Up Comedy']['director'].value_counts()[0:5].values)\n",
    "plt.xlabel('country')\n",
    "plt.ylabel('No of Movies')\n",
    "plt.title('Stand-Up Comedy top country')\n",
    "plt.show()"
   ]
  },
  {
   "cell_type": "markdown",
   "id": "7990540a",
   "metadata": {},
   "source": [
    "### Top 3 director in every genre"
   ]
  },
  {
   "cell_type": "code",
   "execution_count": 50,
   "id": "afdb7051",
   "metadata": {},
   "outputs": [
    {
     "data": {
      "text/html": [
       "<div>\n",
       "<style scoped>\n",
       "    .dataframe tbody tr th:only-of-type {\n",
       "        vertical-align: middle;\n",
       "    }\n",
       "\n",
       "    .dataframe tbody tr th {\n",
       "        vertical-align: top;\n",
       "    }\n",
       "\n",
       "    .dataframe thead th {\n",
       "        text-align: right;\n",
       "    }\n",
       "</style>\n",
       "<table border=\"1\" class=\"dataframe\">\n",
       "  <thead>\n",
       "    <tr style=\"text-align: right;\">\n",
       "      <th></th>\n",
       "      <th></th>\n",
       "      <th>director</th>\n",
       "    </tr>\n",
       "    <tr>\n",
       "      <th>listed_in</th>\n",
       "      <th></th>\n",
       "      <th></th>\n",
       "    </tr>\n",
       "  </thead>\n",
       "  <tbody>\n",
       "    <tr>\n",
       "      <th rowspan=\"3\" valign=\"top\">Action &amp; Adventure</th>\n",
       "      <th>Don Michael Paul</th>\n",
       "      <td>9</td>\n",
       "    </tr>\n",
       "    <tr>\n",
       "      <th>S.S. Rajamouli</th>\n",
       "      <td>7</td>\n",
       "    </tr>\n",
       "    <tr>\n",
       "      <th>Toshiya Shinohara</th>\n",
       "      <td>7</td>\n",
       "    </tr>\n",
       "    <tr>\n",
       "      <th rowspan=\"3\" valign=\"top\">Anime Features</th>\n",
       "      <th>Toshiya Shinohara</th>\n",
       "      <td>7</td>\n",
       "    </tr>\n",
       "    <tr>\n",
       "      <th>Masahiko Murata</th>\n",
       "      <td>5</td>\n",
       "    </tr>\n",
       "    <tr>\n",
       "      <th>Yoshiyuki Tomino</th>\n",
       "      <td>4</td>\n",
       "    </tr>\n",
       "    <tr>\n",
       "      <th rowspan=\"3\" valign=\"top\">Children &amp; Family Movies</th>\n",
       "      <th>Rajiv Chilaka</th>\n",
       "      <td>19</td>\n",
       "    </tr>\n",
       "    <tr>\n",
       "      <th>Suhas Kadav</th>\n",
       "      <td>13</td>\n",
       "    </tr>\n",
       "    <tr>\n",
       "      <th>Robert Rodriguez</th>\n",
       "      <td>7</td>\n",
       "    </tr>\n",
       "    <tr>\n",
       "      <th rowspan=\"3\" valign=\"top\">Classic Movies</th>\n",
       "      <th>Youssef Chahine</th>\n",
       "      <td>8</td>\n",
       "    </tr>\n",
       "    <tr>\n",
       "      <th>Steven Spielberg</th>\n",
       "      <td>5</td>\n",
       "    </tr>\n",
       "    <tr>\n",
       "      <th>Martin Scorsese</th>\n",
       "      <td>5</td>\n",
       "    </tr>\n",
       "    <tr>\n",
       "      <th rowspan=\"3\" valign=\"top\">Comedies</th>\n",
       "      <th>David Dhawan</th>\n",
       "      <td>9</td>\n",
       "    </tr>\n",
       "    <tr>\n",
       "      <th>Suhas Kadav</th>\n",
       "      <td>8</td>\n",
       "    </tr>\n",
       "    <tr>\n",
       "      <th>Hakan Algül</th>\n",
       "      <td>8</td>\n",
       "    </tr>\n",
       "    <tr>\n",
       "      <th rowspan=\"3\" valign=\"top\">Cult Movies</th>\n",
       "      <th>Mike Clattenburg</th>\n",
       "      <td>3</td>\n",
       "    </tr>\n",
       "    <tr>\n",
       "      <th>Kevin Smith</th>\n",
       "      <td>2</td>\n",
       "    </tr>\n",
       "    <tr>\n",
       "      <th>Alejandro Doria</th>\n",
       "      <td>2</td>\n",
       "    </tr>\n",
       "    <tr>\n",
       "      <th rowspan=\"3\" valign=\"top\">Documentaries</th>\n",
       "      <th>Thierry Donard</th>\n",
       "      <td>5</td>\n",
       "    </tr>\n",
       "    <tr>\n",
       "      <th>Vlad Yudin</th>\n",
       "      <td>4</td>\n",
       "    </tr>\n",
       "    <tr>\n",
       "      <th>Morgan Neville</th>\n",
       "      <td>3</td>\n",
       "    </tr>\n",
       "    <tr>\n",
       "      <th rowspan=\"3\" valign=\"top\">Dramas</th>\n",
       "      <th>Youssef Chahine</th>\n",
       "      <td>12</td>\n",
       "    </tr>\n",
       "    <tr>\n",
       "      <th>Martin Scorsese</th>\n",
       "      <td>9</td>\n",
       "    </tr>\n",
       "    <tr>\n",
       "      <th>Cathy Garcia-Molina</th>\n",
       "      <td>9</td>\n",
       "    </tr>\n",
       "    <tr>\n",
       "      <th rowspan=\"3\" valign=\"top\">Faith &amp; Spirituality</th>\n",
       "      <th>David Batty</th>\n",
       "      <td>5</td>\n",
       "    </tr>\n",
       "    <tr>\n",
       "      <th>Note Chern-Yim</th>\n",
       "      <td>3</td>\n",
       "    </tr>\n",
       "    <tr>\n",
       "      <th>Alexandre Avancini</th>\n",
       "      <td>2</td>\n",
       "    </tr>\n",
       "    <tr>\n",
       "      <th rowspan=\"3\" valign=\"top\">Horror Movies</th>\n",
       "      <th>Rocky Soraya</th>\n",
       "      <td>6</td>\n",
       "    </tr>\n",
       "    <tr>\n",
       "      <th>Rathindran R Prasad</th>\n",
       "      <td>4</td>\n",
       "    </tr>\n",
       "    <tr>\n",
       "      <th>Poj Arnon</th>\n",
       "      <td>4</td>\n",
       "    </tr>\n",
       "    <tr>\n",
       "      <th rowspan=\"3\" valign=\"top\">Independent Movies</th>\n",
       "      <th>Noah Baumbach</th>\n",
       "      <td>5</td>\n",
       "    </tr>\n",
       "    <tr>\n",
       "      <th>Paul Thomas Anderson</th>\n",
       "      <td>5</td>\n",
       "    </tr>\n",
       "    <tr>\n",
       "      <th>Qaushiq Mukherjee</th>\n",
       "      <td>4</td>\n",
       "    </tr>\n",
       "    <tr>\n",
       "      <th rowspan=\"3\" valign=\"top\">International Movies</th>\n",
       "      <th>Cathy Garcia-Molina</th>\n",
       "      <td>13</td>\n",
       "    </tr>\n",
       "    <tr>\n",
       "      <th>Youssef Chahine</th>\n",
       "      <td>10</td>\n",
       "    </tr>\n",
       "    <tr>\n",
       "      <th>Yılmaz Erdoğan</th>\n",
       "      <td>9</td>\n",
       "    </tr>\n",
       "    <tr>\n",
       "      <th rowspan=\"3\" valign=\"top\">LGBTQ Movies</th>\n",
       "      <th>Leigh Janiak</th>\n",
       "      <td>2</td>\n",
       "    </tr>\n",
       "    <tr>\n",
       "      <th>Saratswadee Wongsomphet</th>\n",
       "      <td>2</td>\n",
       "    </tr>\n",
       "    <tr>\n",
       "      <th>Jun Lana</th>\n",
       "      <td>2</td>\n",
       "    </tr>\n",
       "    <tr>\n",
       "      <th rowspan=\"3\" valign=\"top\">Movies</th>\n",
       "      <th>Louis C.K.</th>\n",
       "      <td>3</td>\n",
       "    </tr>\n",
       "    <tr>\n",
       "      <th>Richard Bailey</th>\n",
       "      <td>2</td>\n",
       "    </tr>\n",
       "    <tr>\n",
       "      <th>Mike Smith</th>\n",
       "      <td>2</td>\n",
       "    </tr>\n",
       "    <tr>\n",
       "      <th rowspan=\"3\" valign=\"top\">Music &amp; Musicals</th>\n",
       "      <th>Matt Askem</th>\n",
       "      <td>5</td>\n",
       "    </tr>\n",
       "    <tr>\n",
       "      <th>Suhas Kadav</th>\n",
       "      <td>5</td>\n",
       "    </tr>\n",
       "    <tr>\n",
       "      <th>Paul Dugdale</th>\n",
       "      <td>4</td>\n",
       "    </tr>\n",
       "    <tr>\n",
       "      <th rowspan=\"3\" valign=\"top\">Romantic Movies</th>\n",
       "      <th>Cathy Garcia-Molina</th>\n",
       "      <td>8</td>\n",
       "    </tr>\n",
       "    <tr>\n",
       "      <th>Justin G. Dyck</th>\n",
       "      <td>6</td>\n",
       "    </tr>\n",
       "    <tr>\n",
       "      <th>Roger Kumble</th>\n",
       "      <td>4</td>\n",
       "    </tr>\n",
       "    <tr>\n",
       "      <th rowspan=\"3\" valign=\"top\">Sci-Fi &amp; Fantasy</th>\n",
       "      <th>Lana Wachowski</th>\n",
       "      <td>4</td>\n",
       "    </tr>\n",
       "    <tr>\n",
       "      <th>Lilly Wachowski</th>\n",
       "      <td>4</td>\n",
       "    </tr>\n",
       "    <tr>\n",
       "      <th>Guillermo del Toro</th>\n",
       "      <td>3</td>\n",
       "    </tr>\n",
       "    <tr>\n",
       "      <th rowspan=\"3\" valign=\"top\">Sports Movies</th>\n",
       "      <th>Clay Glen</th>\n",
       "      <td>3</td>\n",
       "    </tr>\n",
       "    <tr>\n",
       "      <th>Sylvester Stallone</th>\n",
       "      <td>3</td>\n",
       "    </tr>\n",
       "    <tr>\n",
       "      <th>Vlad Yudin</th>\n",
       "      <td>2</td>\n",
       "    </tr>\n",
       "    <tr>\n",
       "      <th rowspan=\"3\" valign=\"top\">Stand-Up Comedy</th>\n",
       "      <th>Jan Suter</th>\n",
       "      <td>21</td>\n",
       "    </tr>\n",
       "    <tr>\n",
       "      <th>Raúl Campos</th>\n",
       "      <td>19</td>\n",
       "    </tr>\n",
       "    <tr>\n",
       "      <th>Marcus Raboy</th>\n",
       "      <td>15</td>\n",
       "    </tr>\n",
       "    <tr>\n",
       "      <th rowspan=\"3\" valign=\"top\">Thrillers</th>\n",
       "      <th>David Fincher</th>\n",
       "      <td>4</td>\n",
       "    </tr>\n",
       "    <tr>\n",
       "      <th>Rathindran R Prasad</th>\n",
       "      <td>4</td>\n",
       "    </tr>\n",
       "    <tr>\n",
       "      <th>Fernando González Molina</th>\n",
       "      <td>3</td>\n",
       "    </tr>\n",
       "  </tbody>\n",
       "</table>\n",
       "</div>"
      ],
      "text/plain": [
       "                                                   director\n",
       "listed_in                                                  \n",
       "Action & Adventure       Don Michael Paul                 9\n",
       "                         S.S. Rajamouli                   7\n",
       "                         Toshiya Shinohara                7\n",
       "Anime Features           Toshiya Shinohara                7\n",
       "                         Masahiko Murata                  5\n",
       "                         Yoshiyuki Tomino                 4\n",
       "Children & Family Movies Rajiv Chilaka                   19\n",
       "                         Suhas Kadav                     13\n",
       "                         Robert Rodriguez                 7\n",
       "Classic Movies           Youssef Chahine                  8\n",
       "                         Steven Spielberg                 5\n",
       "                         Martin Scorsese                  5\n",
       "Comedies                 David Dhawan                     9\n",
       "                         Suhas Kadav                      8\n",
       "                         Hakan Algül                      8\n",
       "Cult Movies              Mike Clattenburg                 3\n",
       "                         Kevin Smith                      2\n",
       "                         Alejandro Doria                  2\n",
       "Documentaries            Thierry Donard                   5\n",
       "                         Vlad Yudin                       4\n",
       "                         Morgan Neville                   3\n",
       "Dramas                   Youssef Chahine                 12\n",
       "                         Martin Scorsese                  9\n",
       "                         Cathy Garcia-Molina              9\n",
       "Faith & Spirituality     David Batty                      5\n",
       "                         Note Chern-Yim                   3\n",
       "                         Alexandre Avancini               2\n",
       "Horror Movies            Rocky Soraya                     6\n",
       "                         Rathindran R Prasad              4\n",
       "                         Poj Arnon                        4\n",
       "Independent Movies       Noah Baumbach                    5\n",
       "                         Paul Thomas Anderson             5\n",
       "                         Qaushiq Mukherjee                4\n",
       "International Movies     Cathy Garcia-Molina             13\n",
       "                         Youssef Chahine                 10\n",
       "                         Yılmaz Erdoğan                   9\n",
       "LGBTQ Movies             Leigh Janiak                     2\n",
       "                         Saratswadee Wongsomphet          2\n",
       "                         Jun Lana                         2\n",
       "Movies                   Louis C.K.                       3\n",
       "                         Richard Bailey                   2\n",
       "                         Mike Smith                       2\n",
       "Music & Musicals         Matt Askem                       5\n",
       "                         Suhas Kadav                      5\n",
       "                         Paul Dugdale                     4\n",
       "Romantic Movies          Cathy Garcia-Molina              8\n",
       "                         Justin G. Dyck                   6\n",
       "                         Roger Kumble                     4\n",
       "Sci-Fi & Fantasy         Lana Wachowski                   4\n",
       "                         Lilly Wachowski                  4\n",
       "                         Guillermo del Toro               3\n",
       "Sports Movies            Clay Glen                        3\n",
       "                         Sylvester Stallone               3\n",
       "                         Vlad Yudin                       2\n",
       "Stand-Up Comedy          Jan Suter                       21\n",
       "                         Raúl Campos                     19\n",
       "                         Marcus Raboy                    15\n",
       "Thrillers                David Fincher                    4\n",
       "                         Rathindran R Prasad              4\n",
       "                         Fernando González Molina         3"
      ]
     },
     "execution_count": 50,
     "metadata": {},
     "output_type": "execute_result"
    }
   ],
   "source": [
    "feb=movies_data.copy()\n",
    "feb['director']=feb['director'].str.split(', ')\n",
    "feb['listed_in']=feb['listed_in'].str.split(', ')\n",
    "feb=feb.explode('listed_in')\n",
    "feb=feb.explode('director')\n",
    "pd.DataFrame(feb.groupby('listed_in')['director'].apply(lambda x: x.value_counts()[0:3]))"
   ]
  },
  {
   "cell_type": "markdown",
   "id": "1828731e",
   "metadata": {},
   "source": [
    "### Top 3 Cast in every genre"
   ]
  },
  {
   "cell_type": "code",
   "execution_count": 51,
   "id": "a36bc925",
   "metadata": {},
   "outputs": [
    {
     "data": {
      "text/html": [
       "<div>\n",
       "<style scoped>\n",
       "    .dataframe tbody tr th:only-of-type {\n",
       "        vertical-align: middle;\n",
       "    }\n",
       "\n",
       "    .dataframe tbody tr th {\n",
       "        vertical-align: top;\n",
       "    }\n",
       "\n",
       "    .dataframe thead th {\n",
       "        text-align: right;\n",
       "    }\n",
       "</style>\n",
       "<table border=\"1\" class=\"dataframe\">\n",
       "  <thead>\n",
       "    <tr style=\"text-align: right;\">\n",
       "      <th></th>\n",
       "      <th></th>\n",
       "      <th>cast</th>\n",
       "    </tr>\n",
       "    <tr>\n",
       "      <th>listed_in</th>\n",
       "      <th></th>\n",
       "      <th></th>\n",
       "    </tr>\n",
       "  </thead>\n",
       "  <tbody>\n",
       "    <tr>\n",
       "      <th rowspan=\"3\" valign=\"top\">Action &amp; Adventure</th>\n",
       "      <th>Bruce Willis</th>\n",
       "      <td>13</td>\n",
       "    </tr>\n",
       "    <tr>\n",
       "      <th>Amitabh Bachchan</th>\n",
       "      <td>12</td>\n",
       "    </tr>\n",
       "    <tr>\n",
       "      <th>Anupam Kher</th>\n",
       "      <td>12</td>\n",
       "    </tr>\n",
       "    <tr>\n",
       "      <th rowspan=\"3\" valign=\"top\">Anime Features</th>\n",
       "      <th>Yuki Kaji</th>\n",
       "      <td>10</td>\n",
       "    </tr>\n",
       "    <tr>\n",
       "      <th>Junko Takeuchi</th>\n",
       "      <td>9</td>\n",
       "    </tr>\n",
       "    <tr>\n",
       "      <th>Chie Nakamura</th>\n",
       "      <td>9</td>\n",
       "    </tr>\n",
       "    <tr>\n",
       "      <th rowspan=\"3\" valign=\"top\">Children &amp; Family Movies</th>\n",
       "      <th>Julie Tejwani</th>\n",
       "      <td>26</td>\n",
       "    </tr>\n",
       "    <tr>\n",
       "      <th>Rupa Bhimani</th>\n",
       "      <td>25</td>\n",
       "    </tr>\n",
       "    <tr>\n",
       "      <th>Rajesh Kava</th>\n",
       "      <td>21</td>\n",
       "    </tr>\n",
       "    <tr>\n",
       "      <th rowspan=\"3\" valign=\"top\">Classic Movies</th>\n",
       "      <th>Harvey Keitel</th>\n",
       "      <td>5</td>\n",
       "    </tr>\n",
       "    <tr>\n",
       "      <th>Robert De Niro</th>\n",
       "      <td>5</td>\n",
       "    </tr>\n",
       "    <tr>\n",
       "      <th>Harrison Ford</th>\n",
       "      <td>4</td>\n",
       "    </tr>\n",
       "    <tr>\n",
       "      <th rowspan=\"3\" valign=\"top\">Comedies</th>\n",
       "      <th>Anupam Kher</th>\n",
       "      <td>20</td>\n",
       "    </tr>\n",
       "    <tr>\n",
       "      <th>Adam Sandler</th>\n",
       "      <td>18</td>\n",
       "    </tr>\n",
       "    <tr>\n",
       "      <th>Paresh Rawal</th>\n",
       "      <td>18</td>\n",
       "    </tr>\n",
       "    <tr>\n",
       "      <th rowspan=\"3\" valign=\"top\">Cult Movies</th>\n",
       "      <th>Patrick Roach</th>\n",
       "      <td>3</td>\n",
       "    </tr>\n",
       "    <tr>\n",
       "      <th>Robb Wells</th>\n",
       "      <td>3</td>\n",
       "    </tr>\n",
       "    <tr>\n",
       "      <th>John Paul Tremblay</th>\n",
       "      <td>3</td>\n",
       "    </tr>\n",
       "    <tr>\n",
       "      <th rowspan=\"3\" valign=\"top\">Documentaries</th>\n",
       "      <th>Samuel West</th>\n",
       "      <td>10</td>\n",
       "    </tr>\n",
       "    <tr>\n",
       "      <th>Quincy Jones</th>\n",
       "      <td>5</td>\n",
       "    </tr>\n",
       "    <tr>\n",
       "      <th>Wille Lindberg</th>\n",
       "      <td>5</td>\n",
       "    </tr>\n",
       "    <tr>\n",
       "      <th rowspan=\"3\" valign=\"top\">Dramas</th>\n",
       "      <th>Shah Rukh Khan</th>\n",
       "      <td>28</td>\n",
       "    </tr>\n",
       "    <tr>\n",
       "      <th>Naseeruddin Shah</th>\n",
       "      <td>28</td>\n",
       "    </tr>\n",
       "    <tr>\n",
       "      <th>Anupam Kher</th>\n",
       "      <td>28</td>\n",
       "    </tr>\n",
       "    <tr>\n",
       "      <th rowspan=\"3\" valign=\"top\">Faith &amp; Spirituality</th>\n",
       "      <th>El Mahmoudi M'Barek</th>\n",
       "      <td>4</td>\n",
       "    </tr>\n",
       "    <tr>\n",
       "      <th>Selva Rasalingam</th>\n",
       "      <td>4</td>\n",
       "    </tr>\n",
       "    <tr>\n",
       "      <th>Ait Youssef Youssef</th>\n",
       "      <td>4</td>\n",
       "    </tr>\n",
       "    <tr>\n",
       "      <th rowspan=\"3\" valign=\"top\">Horror Movies</th>\n",
       "      <th>Michael Gross</th>\n",
       "      <td>7</td>\n",
       "    </tr>\n",
       "    <tr>\n",
       "      <th>Tony Todd</th>\n",
       "      <td>5</td>\n",
       "    </tr>\n",
       "    <tr>\n",
       "      <th>Ashley Zukerman</th>\n",
       "      <td>4</td>\n",
       "    </tr>\n",
       "    <tr>\n",
       "      <th rowspan=\"3\" valign=\"top\">Independent Movies</th>\n",
       "      <th>Naseeruddin Shah</th>\n",
       "      <td>10</td>\n",
       "    </tr>\n",
       "    <tr>\n",
       "      <th>Rajit Kapoor</th>\n",
       "      <td>8</td>\n",
       "    </tr>\n",
       "    <tr>\n",
       "      <th>Konkona Sen Sharma</th>\n",
       "      <td>7</td>\n",
       "    </tr>\n",
       "    <tr>\n",
       "      <th rowspan=\"3\" valign=\"top\">International Movies</th>\n",
       "      <th>Anupam Kher</th>\n",
       "      <td>38</td>\n",
       "    </tr>\n",
       "    <tr>\n",
       "      <th>Shah Rukh Khan</th>\n",
       "      <td>32</td>\n",
       "    </tr>\n",
       "    <tr>\n",
       "      <th>Om Puri</th>\n",
       "      <td>27</td>\n",
       "    </tr>\n",
       "    <tr>\n",
       "      <th rowspan=\"3\" valign=\"top\">LGBTQ Movies</th>\n",
       "      <th>Margaret Cho</th>\n",
       "      <td>3</td>\n",
       "    </tr>\n",
       "    <tr>\n",
       "      <th>Supanart Jittaleela</th>\n",
       "      <td>3</td>\n",
       "    </tr>\n",
       "    <tr>\n",
       "      <th>David Verdaguer</th>\n",
       "      <td>2</td>\n",
       "    </tr>\n",
       "    <tr>\n",
       "      <th rowspan=\"3\" valign=\"top\">Movies</th>\n",
       "      <th>Cassandra Morris</th>\n",
       "      <td>4</td>\n",
       "    </tr>\n",
       "    <tr>\n",
       "      <th>Kate Murphy</th>\n",
       "      <td>3</td>\n",
       "    </tr>\n",
       "    <tr>\n",
       "      <th>Louis C.K.</th>\n",
       "      <td>3</td>\n",
       "    </tr>\n",
       "    <tr>\n",
       "      <th rowspan=\"3\" valign=\"top\">Music &amp; Musicals</th>\n",
       "      <th>Anil Kapoor</th>\n",
       "      <td>7</td>\n",
       "    </tr>\n",
       "    <tr>\n",
       "      <th>Akshay Kumar</th>\n",
       "      <td>7</td>\n",
       "    </tr>\n",
       "    <tr>\n",
       "      <th>Gulshan Grover</th>\n",
       "      <td>7</td>\n",
       "    </tr>\n",
       "    <tr>\n",
       "      <th rowspan=\"3\" valign=\"top\">Romantic Movies</th>\n",
       "      <th>Akshay Kumar</th>\n",
       "      <td>8</td>\n",
       "    </tr>\n",
       "    <tr>\n",
       "      <th>Salman Khan</th>\n",
       "      <td>7</td>\n",
       "    </tr>\n",
       "    <tr>\n",
       "      <th>Anupam Kher</th>\n",
       "      <td>7</td>\n",
       "    </tr>\n",
       "    <tr>\n",
       "      <th rowspan=\"3\" valign=\"top\">Sci-Fi &amp; Fantasy</th>\n",
       "      <th>Paul Bettany</th>\n",
       "      <td>6</td>\n",
       "    </tr>\n",
       "    <tr>\n",
       "      <th>Nicolas Cage</th>\n",
       "      <td>6</td>\n",
       "    </tr>\n",
       "    <tr>\n",
       "      <th>Fred Tatasciore</th>\n",
       "      <td>6</td>\n",
       "    </tr>\n",
       "    <tr>\n",
       "      <th rowspan=\"3\" valign=\"top\">Sports Movies</th>\n",
       "      <th>Burt Young</th>\n",
       "      <td>5</td>\n",
       "    </tr>\n",
       "    <tr>\n",
       "      <th>Sylvester Stallone</th>\n",
       "      <td>4</td>\n",
       "    </tr>\n",
       "    <tr>\n",
       "      <th>Talia Shire</th>\n",
       "      <td>4</td>\n",
       "    </tr>\n",
       "    <tr>\n",
       "      <th rowspan=\"3\" valign=\"top\">Stand-Up Comedy</th>\n",
       "      <th>Jeff Dunham</th>\n",
       "      <td>8</td>\n",
       "    </tr>\n",
       "    <tr>\n",
       "      <th>Kevin Hart</th>\n",
       "      <td>7</td>\n",
       "    </tr>\n",
       "    <tr>\n",
       "      <th>Jim Gaffigan</th>\n",
       "      <td>5</td>\n",
       "    </tr>\n",
       "    <tr>\n",
       "      <th rowspan=\"3\" valign=\"top\">Thrillers</th>\n",
       "      <th>Ben Kingsley</th>\n",
       "      <td>7</td>\n",
       "    </tr>\n",
       "    <tr>\n",
       "      <th>Nawazuddin Siddiqui</th>\n",
       "      <td>7</td>\n",
       "    </tr>\n",
       "    <tr>\n",
       "      <th>Nicolas Cage</th>\n",
       "      <td>7</td>\n",
       "    </tr>\n",
       "  </tbody>\n",
       "</table>\n",
       "</div>"
      ],
      "text/plain": [
       "                                              cast\n",
       "listed_in                                         \n",
       "Action & Adventure       Bruce Willis           13\n",
       "                         Amitabh Bachchan       12\n",
       "                         Anupam Kher            12\n",
       "Anime Features           Yuki Kaji              10\n",
       "                         Junko Takeuchi          9\n",
       "                         Chie Nakamura           9\n",
       "Children & Family Movies Julie Tejwani          26\n",
       "                         Rupa Bhimani           25\n",
       "                         Rajesh Kava            21\n",
       "Classic Movies           Harvey Keitel           5\n",
       "                         Robert De Niro          5\n",
       "                         Harrison Ford           4\n",
       "Comedies                 Anupam Kher            20\n",
       "                         Adam Sandler           18\n",
       "                         Paresh Rawal           18\n",
       "Cult Movies              Patrick Roach           3\n",
       "                         Robb Wells              3\n",
       "                         John Paul Tremblay      3\n",
       "Documentaries            Samuel West            10\n",
       "                         Quincy Jones            5\n",
       "                         Wille Lindberg          5\n",
       "Dramas                   Shah Rukh Khan         28\n",
       "                         Naseeruddin Shah       28\n",
       "                         Anupam Kher            28\n",
       "Faith & Spirituality     El Mahmoudi M'Barek     4\n",
       "                         Selva Rasalingam        4\n",
       "                         Ait Youssef Youssef     4\n",
       "Horror Movies            Michael Gross           7\n",
       "                         Tony Todd               5\n",
       "                         Ashley Zukerman         4\n",
       "Independent Movies       Naseeruddin Shah       10\n",
       "                         Rajit Kapoor            8\n",
       "                         Konkona Sen Sharma      7\n",
       "International Movies     Anupam Kher            38\n",
       "                         Shah Rukh Khan         32\n",
       "                         Om Puri                27\n",
       "LGBTQ Movies             Margaret Cho            3\n",
       "                         Supanart Jittaleela     3\n",
       "                         David Verdaguer         2\n",
       "Movies                   Cassandra Morris        4\n",
       "                         Kate Murphy             3\n",
       "                         Louis C.K.              3\n",
       "Music & Musicals         Anil Kapoor             7\n",
       "                         Akshay Kumar            7\n",
       "                         Gulshan Grover          7\n",
       "Romantic Movies          Akshay Kumar            8\n",
       "                         Salman Khan             7\n",
       "                         Anupam Kher             7\n",
       "Sci-Fi & Fantasy         Paul Bettany            6\n",
       "                         Nicolas Cage            6\n",
       "                         Fred Tatasciore         6\n",
       "Sports Movies            Burt Young              5\n",
       "                         Sylvester Stallone      4\n",
       "                         Talia Shire             4\n",
       "Stand-Up Comedy          Jeff Dunham             8\n",
       "                         Kevin Hart              7\n",
       "                         Jim Gaffigan            5\n",
       "Thrillers                Ben Kingsley            7\n",
       "                         Nawazuddin Siddiqui     7\n",
       "                         Nicolas Cage            7"
      ]
     },
     "execution_count": 51,
     "metadata": {},
     "output_type": "execute_result"
    }
   ],
   "source": [
    "feb=movies_data.copy()\n",
    "feb['cast']=feb['cast'].str.split(', ')\n",
    "feb['listed_in']=feb['listed_in'].str.split(', ')\n",
    "feb=feb.explode('listed_in')\n",
    "feb=feb.explode('cast')\n",
    "pd.DataFrame(feb.groupby('listed_in')['cast'].apply(lambda x: x.value_counts()[0:3]))"
   ]
  },
  {
   "cell_type": "markdown",
   "id": "318ad434",
   "metadata": {},
   "source": [
    "### Top Countries content released Analysis of top Director, Cast, Genre, Rating"
   ]
  },
  {
   "cell_type": "markdown",
   "id": "e264b4e4",
   "metadata": {},
   "source": [
    "### Movies"
   ]
  },
  {
   "cell_type": "markdown",
   "id": "86726e9a",
   "metadata": {},
   "source": [
    "### 1.United States"
   ]
  },
  {
   "cell_type": "code",
   "execution_count": 52,
   "id": "8c30553b",
   "metadata": {},
   "outputs": [
    {
     "data": {
      "image/png": "[encoded data removed]",
      "text/plain": [
       "<Figure size 2160x720 with 1 Axes>"
      ]
     },
     "metadata": {
      "needs_background": "light"
     },
     "output_type": "display_data"
    },
    {
     "data": {
      "image/png": "[encoded data removed]",
      "text/plain": [
       "<Figure size 2160x720 with 1 Axes>"
      ]
     },
     "metadata": {
      "needs_background": "light"
     },
     "output_type": "display_data"
    },
    {
     "data": {
      "image/png": "[encoded data removed]",
      "text/plain": [
       "<Figure size 2160x720 with 1 Axes>"
      ]
     },
     "metadata": {
      "needs_background": "light"
     },
     "output_type": "display_data"
    },
    {
     "data": {
      "image/png": "[encoded data removed]",
      "text/plain": [
       "<Figure size 2160x720 with 1 Axes>"
      ]
     },
     "metadata": {
      "needs_background": "light"
     },
     "output_type": "display_data"
    }
   ],
   "source": [
    "datap=movies_data.copy()\n",
    "datap['country']=datap['country'].str.split(', ')\n",
    "datap=datap.explode('country')\n",
    "\n",
    "datap=datap[datap['country']=='United States'].copy()\n",
    "datap['director']=datap['director'].str.split(', ')\n",
    "datap['cast']=datap['cast'].str.split(', ')\n",
    "datap['listed_in']=datap['listed_in'].str.split(', ')\n",
    "l=['director','cast','listed_in']\n",
    "k=1\n",
    "\n",
    "for i in l:\n",
    "    plt.figure(figsize=(30,10))\n",
    "    plt.subplot(2,2,k)\n",
    "    plt.bar(x=datap.explode(i)[i].value_counts()[0:7].index,height=datap.explode(i)[i].value_counts()[0:7].values)\n",
    "    plt.xlabel(i)\n",
    "    plt.show()\n",
    "    k+=1\n",
    "    \n",
    "plt.figure(figsize=(30,10))\n",
    "plt.subplot(2,2,4)\n",
    "plt.bar(x=datap['rating'].value_counts()[0:7].index,height=datap['rating'].value_counts()[0:7].values)\n",
    "plt.xlabel('rating')\n",
    "plt.show()"
   ]
  },
  {
   "cell_type": "code",
   "execution_count": 53,
   "id": "c68deb24",
   "metadata": {},
   "outputs": [
    {
     "data": {
      "text/html": [
       "<div>\n",
       "<style scoped>\n",
       "    .dataframe tbody tr th:only-of-type {\n",
       "        vertical-align: middle;\n",
       "    }\n",
       "\n",
       "    .dataframe tbody tr th {\n",
       "        vertical-align: top;\n",
       "    }\n",
       "\n",
       "    .dataframe thead th {\n",
       "        text-align: right;\n",
       "    }\n",
       "</style>\n",
       "<table border=\"1\" class=\"dataframe\">\n",
       "  <thead>\n",
       "    <tr style=\"text-align: right;\">\n",
       "      <th></th>\n",
       "      <th></th>\n",
       "      <th>count</th>\n",
       "    </tr>\n",
       "    <tr>\n",
       "      <th>list</th>\n",
       "      <th>United States Top 5</th>\n",
       "      <th></th>\n",
       "    </tr>\n",
       "  </thead>\n",
       "  <tbody>\n",
       "    <tr>\n",
       "      <th rowspan=\"5\" valign=\"top\">director</th>\n",
       "      <th>Jay Karas</th>\n",
       "      <td>15</td>\n",
       "    </tr>\n",
       "    <tr>\n",
       "      <th>Marcus Raboy</th>\n",
       "      <td>15</td>\n",
       "    </tr>\n",
       "    <tr>\n",
       "      <th>Martin Scorsese</th>\n",
       "      <td>12</td>\n",
       "    </tr>\n",
       "    <tr>\n",
       "      <th>Jay Chapman</th>\n",
       "      <td>12</td>\n",
       "    </tr>\n",
       "    <tr>\n",
       "      <th>Steven Spielberg</th>\n",
       "      <td>11</td>\n",
       "    </tr>\n",
       "    <tr>\n",
       "      <th rowspan=\"5\" valign=\"top\">cast</th>\n",
       "      <th>Samuel L. Jackson</th>\n",
       "      <td>22</td>\n",
       "    </tr>\n",
       "    <tr>\n",
       "      <th>Adam Sandler</th>\n",
       "      <td>20</td>\n",
       "    </tr>\n",
       "    <tr>\n",
       "      <th>James Franco</th>\n",
       "      <td>19</td>\n",
       "    </tr>\n",
       "    <tr>\n",
       "      <th>Nicolas Cage</th>\n",
       "      <td>18</td>\n",
       "    </tr>\n",
       "    <tr>\n",
       "      <th>Fred Tatasciore</th>\n",
       "      <td>17</td>\n",
       "    </tr>\n",
       "    <tr>\n",
       "      <th rowspan=\"5\" valign=\"top\">genre</th>\n",
       "      <th>Dramas</th>\n",
       "      <td>836</td>\n",
       "    </tr>\n",
       "    <tr>\n",
       "      <th>Comedies</th>\n",
       "      <td>681</td>\n",
       "    </tr>\n",
       "    <tr>\n",
       "      <th>Action &amp; Adventure</th>\n",
       "      <td>408</td>\n",
       "    </tr>\n",
       "    <tr>\n",
       "      <th>Children &amp; Family Movies</th>\n",
       "      <td>391</td>\n",
       "    </tr>\n",
       "    <tr>\n",
       "      <th>Independent Movies</th>\n",
       "      <td>390</td>\n",
       "    </tr>\n",
       "    <tr>\n",
       "      <th rowspan=\"5\" valign=\"top\">rating</th>\n",
       "      <th>R</th>\n",
       "      <td>659</td>\n",
       "    </tr>\n",
       "    <tr>\n",
       "      <th>TV-MA</th>\n",
       "      <td>625</td>\n",
       "    </tr>\n",
       "    <tr>\n",
       "      <th>PG-13</th>\n",
       "      <td>429</td>\n",
       "    </tr>\n",
       "    <tr>\n",
       "      <th>PG</th>\n",
       "      <td>241</td>\n",
       "    </tr>\n",
       "    <tr>\n",
       "      <th>TV-14</th>\n",
       "      <td>217</td>\n",
       "    </tr>\n",
       "  </tbody>\n",
       "</table>\n",
       "</div>"
      ],
      "text/plain": [
       "                                   count\n",
       "list     United States Top 5            \n",
       "director Jay Karas                    15\n",
       "         Marcus Raboy                 15\n",
       "         Martin Scorsese              12\n",
       "         Jay Chapman                  12\n",
       "         Steven Spielberg             11\n",
       "cast     Samuel L. Jackson            22\n",
       "         Adam Sandler                 20\n",
       "         James Franco                 19\n",
       "         Nicolas Cage                 18\n",
       "         Fred Tatasciore              17\n",
       "genre    Dramas                      836\n",
       "         Comedies                    681\n",
       "         Action & Adventure          408\n",
       "         Children & Family Movies    391\n",
       "         Independent Movies          390\n",
       "rating   R                           659\n",
       "         TV-MA                       625\n",
       "         PG-13                       429\n",
       "         PG                          241\n",
       "         TV-14                       217"
      ]
     },
     "execution_count": 53,
     "metadata": {},
     "output_type": "execute_result"
    }
   ],
   "source": [
    "datap=movies_data.copy()\n",
    "datap['country']=datap['country'].str.split(', ')\n",
    "datap=datap.explode('country')\n",
    "\n",
    "usa=datap[datap['country']=='United States']\n",
    "\n",
    "usal,usad,usac=usa.copy(),usa.copy(),usa.copy()\n",
    "usal['listed_in']=usal['listed_in'].str.split(', ')\n",
    "usad['director']=usad['director'].str.split(', ')\n",
    "usac['cast']=usac['cast'].str.split(', ')\n",
    "\n",
    "m1d={'list':['director']*5,\n",
    "     'United States Top 5':usad.explode('director')['director'].value_counts()[0:5].index,\n",
    "     'count':usad.explode('director')['director'].value_counts()[0:5].values}\n",
    "m1c={'list':['cast']*5,\n",
    "     'United States Top 5':usac.explode('cast')['cast'].value_counts()[0:5].index,\n",
    "     'count':usac.explode('cast')['cast'].value_counts()[0:5].values}\n",
    "m1g={'list':['genre']*5,\n",
    "     'United States Top 5':usal.explode('listed_in')['listed_in'].value_counts()[0:5].index,\n",
    "     'count':usal.explode('listed_in')['listed_in'].value_counts()[0:5].values}\n",
    "m1r={'list':['rating']*5,\n",
    "     'United States Top 5':usa['rating'].value_counts()[0:5].index,\n",
    "     'count':usa['rating'].value_counts()[0:5].values}\n",
    "\n",
    "dfd,dfc,dfg,dfr=pd.DataFrame(m1d),pd.DataFrame(m1c),pd.DataFrame(m1g),pd.DataFrame(m1r)\n",
    "df=pd.concat([dfd,dfc,dfg,dfr],axis=0)\n",
    "k=df.groupby(['list','United States Top 5'],sort=False)\n",
    "k.first()"
   ]
  },
  {
   "cell_type": "markdown",
   "id": "806335d6",
   "metadata": {},
   "source": [
    "### 2.India"
   ]
  },
  {
   "cell_type": "code",
   "execution_count": 54,
   "id": "044c80d0",
   "metadata": {},
   "outputs": [
    {
     "data": {
      "image/png": "[encoded data removed]",
      "text/plain": [
       "<Figure size 2160x720 with 1 Axes>"
      ]
     },
     "metadata": {
      "needs_background": "light"
     },
     "output_type": "display_data"
    },
    {
     "data": {
      "image/png": "[encoded data removed]",
      "text/plain": [
       "<Figure size 2160x720 with 1 Axes>"
      ]
     },
     "metadata": {
      "needs_background": "light"
     },
     "output_type": "display_data"
    },
    {
     "data": {
      "image/png": "[encoded data removed]",
      "text/plain": [
       "<Figure size 2160x720 with 1 Axes>"
      ]
     },
     "metadata": {
      "needs_background": "light"
     },
     "output_type": "display_data"
    },
    {
     "data": {
      "image/png": "[encoded data removed]",
      "text/plain": [
       "<Figure size 2160x720 with 1 Axes>"
      ]
     },
     "metadata": {
      "needs_background": "light"
     },
     "output_type": "display_data"
    }
   ],
   "source": [
    "datap=movies_data.copy()\n",
    "datap['country']=datap['country'].str.split(', ')\n",
    "datap=datap.explode('country')\n",
    "\n",
    "datap=datap[datap['country']=='India'].copy()\n",
    "datap['director']=datap['director'].str.split(', ')\n",
    "datap['cast']=datap['cast'].str.split(', ')\n",
    "datap['listed_in']=datap['listed_in'].str.split(', ')\n",
    "l=['director','cast','listed_in']\n",
    "k=1\n",
    "\n",
    "for i in l:\n",
    "    plt.figure(figsize=(30,10))\n",
    "    plt.subplot(2,2,k)\n",
    "    plt.bar(x=datap.explode(i)[i].value_counts()[0:7].index,height=datap.explode(i)[i].value_counts()[0:7].values)\n",
    "    plt.xlabel(i)\n",
    "    plt.show()\n",
    "    k+=1\n",
    "    \n",
    "plt.figure(figsize=(30,10))\n",
    "plt.subplot(2,2,4)\n",
    "plt.bar(x=datap['rating'].value_counts()[0:7].index,height=datap['rating'].value_counts()[0:7].values)\n",
    "plt.xlabel('rating')\n",
    "plt.show()"
   ]
  },
  {
   "cell_type": "code",
   "execution_count": 55,
   "id": "94545304",
   "metadata": {},
   "outputs": [
    {
     "data": {
      "text/html": [
       "<div>\n",
       "<style scoped>\n",
       "    .dataframe tbody tr th:only-of-type {\n",
       "        vertical-align: middle;\n",
       "    }\n",
       "\n",
       "    .dataframe tbody tr th {\n",
       "        vertical-align: top;\n",
       "    }\n",
       "\n",
       "    .dataframe thead th {\n",
       "        text-align: right;\n",
       "    }\n",
       "</style>\n",
       "<table border=\"1\" class=\"dataframe\">\n",
       "  <thead>\n",
       "    <tr style=\"text-align: right;\">\n",
       "      <th></th>\n",
       "      <th></th>\n",
       "      <th>count</th>\n",
       "    </tr>\n",
       "    <tr>\n",
       "      <th>list</th>\n",
       "      <th>India Top 5</th>\n",
       "      <th></th>\n",
       "    </tr>\n",
       "  </thead>\n",
       "  <tbody>\n",
       "    <tr>\n",
       "      <th rowspan=\"5\" valign=\"top\">director</th>\n",
       "      <th>Rajiv Chilaka</th>\n",
       "      <td>19</td>\n",
       "    </tr>\n",
       "    <tr>\n",
       "      <th>Suhas Kadav</th>\n",
       "      <td>13</td>\n",
       "    </tr>\n",
       "    <tr>\n",
       "      <th>David Dhawan</th>\n",
       "      <td>9</td>\n",
       "    </tr>\n",
       "    <tr>\n",
       "      <th>Umesh Mehra</th>\n",
       "      <td>8</td>\n",
       "    </tr>\n",
       "    <tr>\n",
       "      <th>Anurag Kashyap</th>\n",
       "      <td>8</td>\n",
       "    </tr>\n",
       "    <tr>\n",
       "      <th rowspan=\"5\" valign=\"top\">cast</th>\n",
       "      <th>Anupam Kher</th>\n",
       "      <td>40</td>\n",
       "    </tr>\n",
       "    <tr>\n",
       "      <th>Shah Rukh Khan</th>\n",
       "      <td>34</td>\n",
       "    </tr>\n",
       "    <tr>\n",
       "      <th>Naseeruddin Shah</th>\n",
       "      <td>32</td>\n",
       "    </tr>\n",
       "    <tr>\n",
       "      <th>Akshay Kumar</th>\n",
       "      <td>29</td>\n",
       "    </tr>\n",
       "    <tr>\n",
       "      <th>Om Puri</th>\n",
       "      <td>29</td>\n",
       "    </tr>\n",
       "    <tr>\n",
       "      <th rowspan=\"5\" valign=\"top\">genre</th>\n",
       "      <th>International Movies</th>\n",
       "      <td>877</td>\n",
       "    </tr>\n",
       "    <tr>\n",
       "      <th>Dramas</th>\n",
       "      <td>682</td>\n",
       "    </tr>\n",
       "    <tr>\n",
       "      <th>Comedies</th>\n",
       "      <td>339</td>\n",
       "    </tr>\n",
       "    <tr>\n",
       "      <th>Independent Movies</th>\n",
       "      <td>168</td>\n",
       "    </tr>\n",
       "    <tr>\n",
       "      <th>Action &amp; Adventure</th>\n",
       "      <td>149</td>\n",
       "    </tr>\n",
       "    <tr>\n",
       "      <th rowspan=\"5\" valign=\"top\">rating</th>\n",
       "      <th>TV-14</th>\n",
       "      <td>561</td>\n",
       "    </tr>\n",
       "    <tr>\n",
       "      <th>TV-MA</th>\n",
       "      <td>237</td>\n",
       "    </tr>\n",
       "    <tr>\n",
       "      <th>TV-PG</th>\n",
       "      <td>127</td>\n",
       "    </tr>\n",
       "    <tr>\n",
       "      <th>TV-Y7</th>\n",
       "      <td>50</td>\n",
       "    </tr>\n",
       "    <tr>\n",
       "      <th>PG-13</th>\n",
       "      <td>11</td>\n",
       "    </tr>\n",
       "  </tbody>\n",
       "</table>\n",
       "</div>"
      ],
      "text/plain": [
       "                               count\n",
       "list     India Top 5                \n",
       "director Rajiv Chilaka            19\n",
       "         Suhas Kadav              13\n",
       "         David Dhawan              9\n",
       "         Umesh Mehra               8\n",
       "         Anurag Kashyap            8\n",
       "cast     Anupam Kher              40\n",
       "         Shah Rukh Khan           34\n",
       "         Naseeruddin Shah         32\n",
       "         Akshay Kumar             29\n",
       "         Om Puri                  29\n",
       "genre    International Movies    877\n",
       "         Dramas                  682\n",
       "         Comedies                339\n",
       "         Independent Movies      168\n",
       "         Action & Adventure      149\n",
       "rating   TV-14                   561\n",
       "         TV-MA                   237\n",
       "         TV-PG                   127\n",
       "         TV-Y7                    50\n",
       "         PG-13                    11"
      ]
     },
     "execution_count": 55,
     "metadata": {},
     "output_type": "execute_result"
    }
   ],
   "source": [
    "datap=movies_data.copy()\n",
    "datap['country']=datap['country'].str.split(', ')\n",
    "datap=datap.explode('country')\n",
    "\n",
    "usa=datap[datap['country']=='India']\n",
    "\n",
    "usal,usad,usac=usa.copy(),usa.copy(),usa.copy()\n",
    "usal['listed_in']=usal['listed_in'].str.split(', ')\n",
    "usad['director']=usad['director'].str.split(', ')\n",
    "usac['cast']=usac['cast'].str.split(', ')\n",
    "\n",
    "m1d={'list':['director']*5,\n",
    "     'India Top 5':usad.explode('director')['director'].value_counts()[0:5].index,\n",
    "     'count':usad.explode('director')['director'].value_counts()[0:5].values}\n",
    "m1c={'list':['cast']*5,\n",
    "     'India Top 5':usac.explode('cast')['cast'].value_counts()[0:5].index,\n",
    "     'count':usac.explode('cast')['cast'].value_counts()[0:5].values}\n",
    "m1g={'list':['genre']*5,\n",
    "     'India Top 5':usal.explode('listed_in')['listed_in'].value_counts()[0:5].index,\n",
    "     'count':usal.explode('listed_in')['listed_in'].value_counts()[0:5].values}\n",
    "m1r={'list':['rating']*5,\n",
    "     'India Top 5':usa['rating'].value_counts()[0:5].index,\n",
    "     'count':usa['rating'].value_counts()[0:5].values}\n",
    "\n",
    "dfd,dfc,dfg,dfr=pd.DataFrame(m1d),pd.DataFrame(m1c),pd.DataFrame(m1g),pd.DataFrame(m1r)\n",
    "df=pd.concat([dfd,dfc,dfg,dfr],axis=0)\n",
    "k=df.groupby(['list','India Top 5'],sort=False)\n",
    "k.first()"
   ]
  },
  {
   "cell_type": "markdown",
   "id": "ac7649cf",
   "metadata": {},
   "source": [
    "### 3.United Kingdom"
   ]
  },
  {
   "cell_type": "code",
   "execution_count": 56,
   "id": "c22b97f3",
   "metadata": {},
   "outputs": [
    {
     "data": {
      "image/png": "[encoded data removed]",
      "text/plain": [
       "<Figure size 2160x720 with 1 Axes>"
      ]
     },
     "metadata": {
      "needs_background": "light"
     },
     "output_type": "display_data"
    },
    {
     "data": {
      "image/png": "[encoded data removed]",
      "text/plain": [
       "<Figure size 2160x720 with 1 Axes>"
      ]
     },
     "metadata": {
      "needs_background": "light"
     },
     "output_type": "display_data"
    },
    {
     "data": {
      "image/png": "[encoded data removed]",
      "text/plain": [
       "<Figure size 2160x720 with 1 Axes>"
      ]
     },
     "metadata": {
      "needs_background": "light"
     },
     "output_type": "display_data"
    },
    {
     "data": {
      "image/png": "[encoded data removed]",
      "text/plain": [
       "<Figure size 2160x720 with 1 Axes>"
      ]
     },
     "metadata": {
      "needs_background": "light"
     },
     "output_type": "display_data"
    }
   ],
   "source": [
    "datap=movies_data.copy()\n",
    "datap['country']=datap['country'].str.split(', ')\n",
    "datap=datap.explode('country')\n",
    "\n",
    "datap=datap[datap['country']=='United Kingdom'].copy()\n",
    "datap['director']=datap['director'].str.split(', ')\n",
    "datap['cast']=datap['cast'].str.split(', ')\n",
    "datap['listed_in']=datap['listed_in'].str.split(', ')\n",
    "l=['director','cast','listed_in']\n",
    "k=1\n",
    "\n",
    "for i in l:\n",
    "    plt.figure(figsize=(30,10))\n",
    "    plt.subplot(2,2,k)\n",
    "    plt.bar(x=datap.explode(i)[i].value_counts()[0:7].index,height=datap.explode(i)[i].value_counts()[0:7].values)\n",
    "    plt.xlabel(i)\n",
    "    plt.show()\n",
    "    k+=1\n",
    "    \n",
    "plt.figure(figsize=(30,10))\n",
    "plt.subplot(2,2,4)\n",
    "plt.bar(x=datap['rating'].value_counts()[0:7].index,height=datap['rating'].value_counts()[0:7].values)\n",
    "plt.xlabel('rating')\n",
    "plt.show()"
   ]
  },
  {
   "cell_type": "code",
   "execution_count": 57,
   "id": "111349c7",
   "metadata": {},
   "outputs": [
    {
     "data": {
      "text/html": [
       "<div>\n",
       "<style scoped>\n",
       "    .dataframe tbody tr th:only-of-type {\n",
       "        vertical-align: middle;\n",
       "    }\n",
       "\n",
       "    .dataframe tbody tr th {\n",
       "        vertical-align: top;\n",
       "    }\n",
       "\n",
       "    .dataframe thead th {\n",
       "        text-align: right;\n",
       "    }\n",
       "</style>\n",
       "<table border=\"1\" class=\"dataframe\">\n",
       "  <thead>\n",
       "    <tr style=\"text-align: right;\">\n",
       "      <th></th>\n",
       "      <th></th>\n",
       "      <th>count</th>\n",
       "    </tr>\n",
       "    <tr>\n",
       "      <th>list</th>\n",
       "      <th>United Kingdom Top 5</th>\n",
       "      <th></th>\n",
       "    </tr>\n",
       "  </thead>\n",
       "  <tbody>\n",
       "    <tr>\n",
       "      <th rowspan=\"5\" valign=\"top\">director</th>\n",
       "      <th>Joey So</th>\n",
       "      <td>6</td>\n",
       "    </tr>\n",
       "    <tr>\n",
       "      <th>Chris Howe</th>\n",
       "      <td>3</td>\n",
       "    </tr>\n",
       "    <tr>\n",
       "      <th>Tom Hooper</th>\n",
       "      <td>3</td>\n",
       "    </tr>\n",
       "    <tr>\n",
       "      <th>Blair Simmons</th>\n",
       "      <td>3</td>\n",
       "    </tr>\n",
       "    <tr>\n",
       "      <th>Edward Cotterill</th>\n",
       "      <td>3</td>\n",
       "    </tr>\n",
       "    <tr>\n",
       "      <th rowspan=\"5\" valign=\"top\">cast</th>\n",
       "      <th>John Cleese</th>\n",
       "      <td>12</td>\n",
       "    </tr>\n",
       "    <tr>\n",
       "      <th>Michael Palin</th>\n",
       "      <td>10</td>\n",
       "    </tr>\n",
       "    <tr>\n",
       "      <th>Judi Dench</th>\n",
       "      <td>9</td>\n",
       "    </tr>\n",
       "    <tr>\n",
       "      <th>Keith Wickham</th>\n",
       "      <td>8</td>\n",
       "    </tr>\n",
       "    <tr>\n",
       "      <th>Helena Bonham Carter</th>\n",
       "      <td>8</td>\n",
       "    </tr>\n",
       "    <tr>\n",
       "      <th rowspan=\"5\" valign=\"top\">genre</th>\n",
       "      <th>Dramas</th>\n",
       "      <td>195</td>\n",
       "    </tr>\n",
       "    <tr>\n",
       "      <th>International Movies</th>\n",
       "      <td>139</td>\n",
       "    </tr>\n",
       "    <tr>\n",
       "      <th>Comedies</th>\n",
       "      <td>90</td>\n",
       "    </tr>\n",
       "    <tr>\n",
       "      <th>Action &amp; Adventure</th>\n",
       "      <td>83</td>\n",
       "    </tr>\n",
       "    <tr>\n",
       "      <th>Independent Movies</th>\n",
       "      <td>73</td>\n",
       "    </tr>\n",
       "    <tr>\n",
       "      <th rowspan=\"5\" valign=\"top\">rating</th>\n",
       "      <th>R</th>\n",
       "      <td>144</td>\n",
       "    </tr>\n",
       "    <tr>\n",
       "      <th>TV-MA</th>\n",
       "      <td>115</td>\n",
       "    </tr>\n",
       "    <tr>\n",
       "      <th>PG-13</th>\n",
       "      <td>80</td>\n",
       "    </tr>\n",
       "    <tr>\n",
       "      <th>PG</th>\n",
       "      <td>36</td>\n",
       "    </tr>\n",
       "    <tr>\n",
       "      <th>TV-14</th>\n",
       "      <td>36</td>\n",
       "    </tr>\n",
       "  </tbody>\n",
       "</table>\n",
       "</div>"
      ],
      "text/plain": [
       "                               count\n",
       "list     United Kingdom Top 5       \n",
       "director Joey So                   6\n",
       "         Chris Howe                3\n",
       "         Tom Hooper                3\n",
       "         Blair Simmons             3\n",
       "         Edward Cotterill          3\n",
       "cast     John Cleese              12\n",
       "         Michael Palin            10\n",
       "         Judi Dench                9\n",
       "         Keith Wickham             8\n",
       "         Helena Bonham Carter      8\n",
       "genre    Dramas                  195\n",
       "         International Movies    139\n",
       "         Comedies                 90\n",
       "         Action & Adventure       83\n",
       "         Independent Movies       73\n",
       "rating   R                       144\n",
       "         TV-MA                   115\n",
       "         PG-13                    80\n",
       "         PG                       36\n",
       "         TV-14                    36"
      ]
     },
     "execution_count": 57,
     "metadata": {},
     "output_type": "execute_result"
    }
   ],
   "source": [
    "datap=movies_data.copy()\n",
    "datap['country']=datap['country'].str.split(', ')\n",
    "datap=datap.explode('country')\n",
    "\n",
    "usa=datap[datap['country']=='United Kingdom']\n",
    "\n",
    "usal,usad,usac=usa.copy(),usa.copy(),usa.copy()\n",
    "usal['listed_in']=usal['listed_in'].str.split(', ')\n",
    "usad['director']=usad['director'].str.split(', ')\n",
    "usac['cast']=usac['cast'].str.split(', ')\n",
    "\n",
    "m1d={'list':['director']*5,\n",
    "     'United Kingdom Top 5':usad.explode('director')['director'].value_counts()[0:5].index,\n",
    "     'count':usad.explode('director')['director'].value_counts()[0:5].values}\n",
    "m1c={'list':['cast']*5,\n",
    "     'United Kingdom Top 5':usac.explode('cast')['cast'].value_counts()[0:5].index,\n",
    "     'count':usac.explode('cast')['cast'].value_counts()[0:5].values}\n",
    "m1g={'list':['genre']*5,\n",
    "     'United Kingdom Top 5':usal.explode('listed_in')['listed_in'].value_counts()[0:5].index,\n",
    "     'count':usal.explode('listed_in')['listed_in'].value_counts()[0:5].values}\n",
    "m1r={'list':['rating']*5,\n",
    "     'United Kingdom Top 5':usa['rating'].value_counts()[0:5].index,\n",
    "     'count':usa['rating'].value_counts()[0:5].values}\n",
    "\n",
    "dfd,dfc,dfg,dfr=pd.DataFrame(m1d),pd.DataFrame(m1c),pd.DataFrame(m1g),pd.DataFrame(m1r)\n",
    "df=pd.concat([dfd,dfc,dfg,dfr],axis=0)\n",
    "k=df.groupby(['list','United Kingdom Top 5'],sort=False)\n",
    "k.first()"
   ]
  },
  {
   "cell_type": "markdown",
   "id": "46a3030d",
   "metadata": {},
   "source": [
    "### TV Show"
   ]
  },
  {
   "cell_type": "markdown",
   "id": "2cd0c9ab",
   "metadata": {},
   "source": [
    "### 1.United States"
   ]
  },
  {
   "cell_type": "code",
   "execution_count": 58,
   "id": "ee8b170c",
   "metadata": {},
   "outputs": [
    {
     "data": {
      "image/png": "[encoded data removed]",
      "text/plain": [
       "<Figure size 2160x360 with 1 Axes>"
      ]
     },
     "metadata": {
      "needs_background": "light"
     },
     "output_type": "display_data"
    },
    {
     "data": {
      "image/png": "[encoded data removed]",
      "text/plain": [
       "<Figure size 2160x360 with 1 Axes>"
      ]
     },
     "metadata": {
      "needs_background": "light"
     },
     "output_type": "display_data"
    },
    {
     "data": {
      "image/png": "[encoded data removed]",
      "text/plain": [
       "<Figure size 2160x360 with 1 Axes>"
      ]
     },
     "metadata": {
      "needs_background": "light"
     },
     "output_type": "display_data"
    }
   ],
   "source": [
    "datap=tvshow_data.copy()\n",
    "datap['country']=datap['country'].str.split(', ')\n",
    "datap=datap.explode('country')\n",
    "\n",
    "datap=datap[datap['country']=='United States'].copy()\n",
    "#datap['director']=datap['director'].str.split(', ')\n",
    "datap['cast']=datap['cast'].str.split(', ')\n",
    "datap['listed_in']=datap['listed_in'].str.split(', ')\n",
    "l=['cast','listed_in']\n",
    "k=1\n",
    "\n",
    "for i in l:\n",
    "    plt.figure(figsize=(30,5))\n",
    "    plt.subplot(1,3,k)\n",
    "    plt.bar(x=datap.explode(i)[i].value_counts()[0:7].index,height=datap.explode(i)[i].value_counts()[0:7].values)\n",
    "    plt.xlabel(i)\n",
    "    plt.show()\n",
    "    k+=1\n",
    "    \n",
    "plt.figure(figsize=(30,5))\n",
    "plt.subplot(1,3,3)\n",
    "plt.bar(x=datap['rating'].value_counts()[0:7].index,height=datap['rating'].value_counts()[0:7].values)\n",
    "plt.xlabel('rating')\n",
    "plt.show()"
   ]
  },
  {
   "cell_type": "code",
   "execution_count": 59,
   "id": "bd3ca955",
   "metadata": {},
   "outputs": [
    {
     "data": {
      "text/html": [
       "<div>\n",
       "<style scoped>\n",
       "    .dataframe tbody tr th:only-of-type {\n",
       "        vertical-align: middle;\n",
       "    }\n",
       "\n",
       "    .dataframe tbody tr th {\n",
       "        vertical-align: top;\n",
       "    }\n",
       "\n",
       "    .dataframe thead th {\n",
       "        text-align: right;\n",
       "    }\n",
       "</style>\n",
       "<table border=\"1\" class=\"dataframe\">\n",
       "  <thead>\n",
       "    <tr style=\"text-align: right;\">\n",
       "      <th></th>\n",
       "      <th></th>\n",
       "      <th>count</th>\n",
       "    </tr>\n",
       "    <tr>\n",
       "      <th>list</th>\n",
       "      <th>United States Top 5</th>\n",
       "      <th></th>\n",
       "    </tr>\n",
       "  </thead>\n",
       "  <tbody>\n",
       "    <tr>\n",
       "      <th rowspan=\"5\" valign=\"top\">director</th>\n",
       "      <th>Ken Burns</th>\n",
       "      <td>3</td>\n",
       "    </tr>\n",
       "    <tr>\n",
       "      <th>Stan Lathan</th>\n",
       "      <td>2</td>\n",
       "    </tr>\n",
       "    <tr>\n",
       "      <th>Rob Seidenglanz</th>\n",
       "      <td>2</td>\n",
       "    </tr>\n",
       "    <tr>\n",
       "      <th>Joe Berlinger</th>\n",
       "      <td>2</td>\n",
       "    </tr>\n",
       "    <tr>\n",
       "      <th>Lynn Novick</th>\n",
       "      <td>2</td>\n",
       "    </tr>\n",
       "    <tr>\n",
       "      <th rowspan=\"5\" valign=\"top\">cast</th>\n",
       "      <th>Vincent Tong</th>\n",
       "      <td>10</td>\n",
       "    </tr>\n",
       "    <tr>\n",
       "      <th>Grey Griffin</th>\n",
       "      <td>10</td>\n",
       "    </tr>\n",
       "    <tr>\n",
       "      <th>Kevin Michael Richardson</th>\n",
       "      <td>9</td>\n",
       "    </tr>\n",
       "    <tr>\n",
       "      <th>Kari Wahlgren</th>\n",
       "      <td>8</td>\n",
       "    </tr>\n",
       "    <tr>\n",
       "      <th>Johnny Yong Bosch</th>\n",
       "      <td>8</td>\n",
       "    </tr>\n",
       "    <tr>\n",
       "      <th rowspan=\"5\" valign=\"top\">genre</th>\n",
       "      <th>TV Comedies</th>\n",
       "      <td>264</td>\n",
       "    </tr>\n",
       "    <tr>\n",
       "      <th>TV Dramas</th>\n",
       "      <td>241</td>\n",
       "    </tr>\n",
       "    <tr>\n",
       "      <th>Kids' TV</th>\n",
       "      <td>227</td>\n",
       "    </tr>\n",
       "    <tr>\n",
       "      <th>Crime TV Shows</th>\n",
       "      <td>107</td>\n",
       "    </tr>\n",
       "    <tr>\n",
       "      <th>TV Action &amp; Adventure</th>\n",
       "      <td>96</td>\n",
       "    </tr>\n",
       "    <tr>\n",
       "      <th rowspan=\"5\" valign=\"top\">rating</th>\n",
       "      <th>TV-MA</th>\n",
       "      <td>315</td>\n",
       "    </tr>\n",
       "    <tr>\n",
       "      <th>TV-14</th>\n",
       "      <td>192</td>\n",
       "    </tr>\n",
       "    <tr>\n",
       "      <th>TV-PG</th>\n",
       "      <td>106</td>\n",
       "    </tr>\n",
       "    <tr>\n",
       "      <th>TV-Y7</th>\n",
       "      <td>104</td>\n",
       "    </tr>\n",
       "    <tr>\n",
       "      <th>TV-Y</th>\n",
       "      <td>73</td>\n",
       "    </tr>\n",
       "  </tbody>\n",
       "</table>\n",
       "</div>"
      ],
      "text/plain": [
       "                                   count\n",
       "list     United States Top 5            \n",
       "director Ken Burns                     3\n",
       "         Stan Lathan                   2\n",
       "         Rob Seidenglanz               2\n",
       "         Joe Berlinger                 2\n",
       "         Lynn Novick                   2\n",
       "cast     Vincent Tong                 10\n",
       "         Grey Griffin                 10\n",
       "         Kevin Michael Richardson      9\n",
       "         Kari Wahlgren                 8\n",
       "         Johnny Yong Bosch             8\n",
       "genre    TV Comedies                 264\n",
       "         TV Dramas                   241\n",
       "         Kids' TV                    227\n",
       "         Crime TV Shows              107\n",
       "         TV Action & Adventure        96\n",
       "rating   TV-MA                       315\n",
       "         TV-14                       192\n",
       "         TV-PG                       106\n",
       "         TV-Y7                       104\n",
       "         TV-Y                         73"
      ]
     },
     "execution_count": 59,
     "metadata": {},
     "output_type": "execute_result"
    }
   ],
   "source": [
    "datap=tvshow_data.copy()\n",
    "datap['country']=datap['country'].str.split(', ')\n",
    "datap=datap.explode('country')\n",
    "\n",
    "usa=datap[datap['country']=='United States']\n",
    "\n",
    "usal,usad,usac=usa.copy(),usa.copy(),usa.copy()\n",
    "usal['listed_in']=usal['listed_in'].str.split(', ')\n",
    "usad=data[data['type']=='TV Show'].copy()\n",
    "usad['country']=usad['country'].str.split(', ')\n",
    "usad=usad.explode('country')\n",
    "usad=usad[usad['country']=='United States']\n",
    "usad['director']=usad['director'].str.split(', ')\n",
    "usac['cast']=usac['cast'].str.split(', ')\n",
    "\n",
    "m1d={'list':['director']*5,\n",
    "     'United States Top 5':usad.explode('director')['director'].value_counts()[0:5].index,\n",
    "     'count':usad.explode('director')['director'].value_counts()[0:5].values}\n",
    "m1c={'list':['cast']*5,\n",
    "     'United States Top 5':usac.explode('cast')['cast'].value_counts()[0:5].index,\n",
    "     'count':usac.explode('cast')['cast'].value_counts()[0:5].values}\n",
    "m1g={'list':['genre']*5,\n",
    "     'United States Top 5':usal.explode('listed_in')['listed_in'].value_counts()[0:5].index,\n",
    "     'count':usal.explode('listed_in')['listed_in'].value_counts()[0:5].values}\n",
    "m1r={'list':['rating']*5,\n",
    "     'United States Top 5':usa['rating'].value_counts()[0:5].index,\n",
    "     'count':usa['rating'].value_counts()[0:5].values}\n",
    "\n",
    "dfd,dfc,dfg,dfr=pd.DataFrame(m1d),pd.DataFrame(m1c),pd.DataFrame(m1g),pd.DataFrame(m1r)\n",
    "df=pd.concat([dfd,dfc,dfg,dfr],axis=0)\n",
    "k=df.groupby(['list','United States Top 5'],sort=False)\n",
    "k.first()"
   ]
  },
  {
   "cell_type": "markdown",
   "id": "eb08df74",
   "metadata": {},
   "source": [
    "### 2.United Kingdom"
   ]
  },
  {
   "cell_type": "code",
   "execution_count": 60,
   "id": "cfa83491",
   "metadata": {},
   "outputs": [
    {
     "data": {
      "image/png": "[encoded data removed]",
      "text/plain": [
       "<Figure size 2160x360 with 1 Axes>"
      ]
     },
     "metadata": {
      "needs_background": "light"
     },
     "output_type": "display_data"
    },
    {
     "data": {
      "image/png": "[encoded data removed]",
      "text/plain": [
       "<Figure size 2160x360 with 1 Axes>"
      ]
     },
     "metadata": {
      "needs_background": "light"
     },
     "output_type": "display_data"
    },
    {
     "data": {
      "image/png": "[encoded data removed]",
      "text/plain": [
       "<Figure size 2160x360 with 1 Axes>"
      ]
     },
     "metadata": {
      "needs_background": "light"
     },
     "output_type": "display_data"
    }
   ],
   "source": [
    "datap=tvshow_data.copy()\n",
    "datap['country']=datap['country'].str.split(', ')\n",
    "datap=datap.explode('country')\n",
    "\n",
    "datap=datap[datap['country']=='United Kingdom'].copy()\n",
    "#datap['director']=datap['director'].str.split(', ')\n",
    "datap['cast']=datap['cast'].str.split(', ')\n",
    "datap['listed_in']=datap['listed_in'].str.split(', ')\n",
    "l=['cast','listed_in']\n",
    "k=1\n",
    "\n",
    "for i in l:\n",
    "    plt.figure(figsize=(30,5))\n",
    "    plt.subplot(1,3,k)\n",
    "    plt.bar(x=datap.explode(i)[i].value_counts()[0:7].index,height=datap.explode(i)[i].value_counts()[0:7].values)\n",
    "    plt.xlabel(i)\n",
    "    plt.show()\n",
    "    k+=1\n",
    "    \n",
    "plt.figure(figsize=(30,5))\n",
    "plt.subplot(1,3,3)\n",
    "plt.bar(x=datap['rating'].value_counts()[0:7].index,height=datap['rating'].value_counts()[0:7].values)\n",
    "plt.xlabel('rating')\n",
    "plt.show()"
   ]
  },
  {
   "cell_type": "code",
   "execution_count": 61,
   "id": "feac03a5",
   "metadata": {},
   "outputs": [
    {
     "data": {
      "text/html": [
       "<div>\n",
       "<style scoped>\n",
       "    .dataframe tbody tr th:only-of-type {\n",
       "        vertical-align: middle;\n",
       "    }\n",
       "\n",
       "    .dataframe tbody tr th {\n",
       "        vertical-align: top;\n",
       "    }\n",
       "\n",
       "    .dataframe thead th {\n",
       "        text-align: right;\n",
       "    }\n",
       "</style>\n",
       "<table border=\"1\" class=\"dataframe\">\n",
       "  <thead>\n",
       "    <tr style=\"text-align: right;\">\n",
       "      <th></th>\n",
       "      <th></th>\n",
       "      <th>count</th>\n",
       "    </tr>\n",
       "    <tr>\n",
       "      <th>list</th>\n",
       "      <th>United Kingdom Top 5</th>\n",
       "      <th></th>\n",
       "    </tr>\n",
       "  </thead>\n",
       "  <tbody>\n",
       "    <tr>\n",
       "      <th rowspan=\"5\" valign=\"top\">director</th>\n",
       "      <th>Alastair Fothergill</th>\n",
       "      <td>3</td>\n",
       "    </tr>\n",
       "    <tr>\n",
       "      <th>Andy Devonshire</th>\n",
       "      <td>1</td>\n",
       "    </tr>\n",
       "    <tr>\n",
       "      <th>John Dower</th>\n",
       "      <td>1</td>\n",
       "    </tr>\n",
       "    <tr>\n",
       "      <th>Mark Tonderai</th>\n",
       "      <td>1</td>\n",
       "    </tr>\n",
       "    <tr>\n",
       "      <th>Michael Samuels</th>\n",
       "      <td>1</td>\n",
       "    </tr>\n",
       "    <tr>\n",
       "      <th rowspan=\"5\" valign=\"top\">cast</th>\n",
       "      <th>David Attenborough</th>\n",
       "      <td>13</td>\n",
       "    </tr>\n",
       "    <tr>\n",
       "      <th>Paul Hollywood</th>\n",
       "      <td>5</td>\n",
       "    </tr>\n",
       "    <tr>\n",
       "      <th>Michael Palin</th>\n",
       "      <td>5</td>\n",
       "    </tr>\n",
       "    <tr>\n",
       "      <th>Terry Jones</th>\n",
       "      <td>5</td>\n",
       "    </tr>\n",
       "    <tr>\n",
       "      <th>Graham Chapman</th>\n",
       "      <td>5</td>\n",
       "    </tr>\n",
       "    <tr>\n",
       "      <th rowspan=\"5\" valign=\"top\">genre</th>\n",
       "      <th>British TV Shows</th>\n",
       "      <td>198</td>\n",
       "    </tr>\n",
       "    <tr>\n",
       "      <th>International TV Shows</th>\n",
       "      <td>110</td>\n",
       "    </tr>\n",
       "    <tr>\n",
       "      <th>Docuseries</th>\n",
       "      <td>65</td>\n",
       "    </tr>\n",
       "    <tr>\n",
       "      <th>TV Comedies</th>\n",
       "      <td>43</td>\n",
       "    </tr>\n",
       "    <tr>\n",
       "      <th>Kids' TV</th>\n",
       "      <td>42</td>\n",
       "    </tr>\n",
       "    <tr>\n",
       "      <th rowspan=\"5\" valign=\"top\">rating</th>\n",
       "      <th>TV-MA</th>\n",
       "      <td>102</td>\n",
       "    </tr>\n",
       "    <tr>\n",
       "      <th>TV-PG</th>\n",
       "      <td>48</td>\n",
       "    </tr>\n",
       "    <tr>\n",
       "      <th>TV-14</th>\n",
       "      <td>37</td>\n",
       "    </tr>\n",
       "    <tr>\n",
       "      <th>TV-Y</th>\n",
       "      <td>28</td>\n",
       "    </tr>\n",
       "    <tr>\n",
       "      <th>TV-G</th>\n",
       "      <td>12</td>\n",
       "    </tr>\n",
       "  </tbody>\n",
       "</table>\n",
       "</div>"
      ],
      "text/plain": [
       "                                 count\n",
       "list     United Kingdom Top 5         \n",
       "director Alastair Fothergill         3\n",
       "         Andy Devonshire             1\n",
       "         John Dower                  1\n",
       "         Mark Tonderai               1\n",
       "         Michael Samuels             1\n",
       "cast     David Attenborough         13\n",
       "         Paul Hollywood              5\n",
       "         Michael Palin               5\n",
       "         Terry Jones                 5\n",
       "         Graham Chapman              5\n",
       "genre    British TV Shows          198\n",
       "         International TV Shows    110\n",
       "         Docuseries                 65\n",
       "         TV Comedies                43\n",
       "         Kids' TV                   42\n",
       "rating   TV-MA                     102\n",
       "         TV-PG                      48\n",
       "         TV-14                      37\n",
       "         TV-Y                       28\n",
       "         TV-G                       12"
      ]
     },
     "execution_count": 61,
     "metadata": {},
     "output_type": "execute_result"
    }
   ],
   "source": [
    "datap=tvshow_data.copy()\n",
    "datap['country']=datap['country'].str.split(', ')\n",
    "datap=datap.explode('country')\n",
    "\n",
    "usa=datap[datap['country']=='United Kingdom']\n",
    "\n",
    "usal,usad,usac=usa.copy(),usa.copy(),usa.copy()\n",
    "usal['listed_in']=usal['listed_in'].str.split(', ')\n",
    "usad=data[data['type']=='TV Show'].copy()\n",
    "usad['country']=usad['country'].str.split(', ')\n",
    "usad=usad.explode('country')\n",
    "usad=usad[usad['country']=='United Kingdom']\n",
    "usad['director']=usad['director'].str.split(', ')\n",
    "usac['cast']=usac['cast'].str.split(', ')\n",
    "\n",
    "m1d={'list':['director']*5,\n",
    "     'United Kingdom Top 5':usad.explode('director')['director'].value_counts()[0:5].index,\n",
    "     'count':usad.explode('director')['director'].value_counts()[0:5].values}\n",
    "m1c={'list':['cast']*5,\n",
    "     'United Kingdom Top 5':usac.explode('cast')['cast'].value_counts()[0:5].index,\n",
    "     'count':usac.explode('cast')['cast'].value_counts()[0:5].values}\n",
    "m1g={'list':['genre']*5,\n",
    "     'United Kingdom Top 5':usal.explode('listed_in')['listed_in'].value_counts()[0:5].index,\n",
    "     'count':usal.explode('listed_in')['listed_in'].value_counts()[0:5].values}\n",
    "m1r={'list':['rating']*5,\n",
    "     'United Kingdom Top 5':usa['rating'].value_counts()[0:5].index,\n",
    "     'count':usa['rating'].value_counts()[0:5].values}\n",
    "\n",
    "dfd,dfc,dfg,dfr=pd.DataFrame(m1d),pd.DataFrame(m1c),pd.DataFrame(m1g),pd.DataFrame(m1r)\n",
    "df=pd.concat([dfd,dfc,dfg,dfr],axis=0)\n",
    "k=df.groupby(['list','United Kingdom Top 5'],sort=False)\n",
    "k.first()"
   ]
  },
  {
   "cell_type": "markdown",
   "id": "8df94ece",
   "metadata": {},
   "source": [
    "### 3.Japan"
   ]
  },
  {
   "cell_type": "code",
   "execution_count": 62,
   "id": "72b8272a",
   "metadata": {},
   "outputs": [
    {
     "data": {
      "image/png": "[encoded data removed]",
      "text/plain": [
       "<Figure size 2160x360 with 1 Axes>"
      ]
     },
     "metadata": {
      "needs_background": "light"
     },
     "output_type": "display_data"
    },
    {
     "data": {
      "image/png": "[encoded data removed]",
      "text/plain": [
       "<Figure size 2160x360 with 1 Axes>"
      ]
     },
     "metadata": {
      "needs_background": "light"
     },
     "output_type": "display_data"
    },
    {
     "data": {
      "image/png": "[encoded data removed]",
      "text/plain": [
       "<Figure size 2160x360 with 1 Axes>"
      ]
     },
     "metadata": {
      "needs_background": "light"
     },
     "output_type": "display_data"
    }
   ],
   "source": [
    "datap=tvshow_data.copy()\n",
    "datap['country']=datap['country'].str.split(', ')\n",
    "datap=datap.explode('country')\n",
    "\n",
    "datap=datap[datap['country']=='Japan'].copy()\n",
    "#datap['director']=datap['director'].str.split(', ')\n",
    "datap['cast']=datap['cast'].str.split(', ')\n",
    "datap['listed_in']=datap['listed_in'].str.split(', ')\n",
    "l=['cast','listed_in']\n",
    "k=1\n",
    "\n",
    "for i in l:\n",
    "    plt.figure(figsize=(30,5))\n",
    "    plt.subplot(1,3,k)\n",
    "    plt.bar(x=datap.explode(i)[i].value_counts()[0:7].index,height=datap.explode(i)[i].value_counts()[0:7].values)\n",
    "    plt.xlabel(i)\n",
    "    plt.show()\n",
    "    k+=1\n",
    "    \n",
    "plt.figure(figsize=(30,5))\n",
    "plt.subplot(1,3,3)\n",
    "plt.bar(x=datap['rating'].value_counts()[0:7].index,height=datap['rating'].value_counts()[0:7].values)\n",
    "plt.xlabel('rating')\n",
    "plt.show()"
   ]
  },
  {
   "cell_type": "code",
   "execution_count": 63,
   "id": "c155c92c",
   "metadata": {},
   "outputs": [
    {
     "data": {
      "text/html": [
       "<div>\n",
       "<style scoped>\n",
       "    .dataframe tbody tr th:only-of-type {\n",
       "        vertical-align: middle;\n",
       "    }\n",
       "\n",
       "    .dataframe tbody tr th {\n",
       "        vertical-align: top;\n",
       "    }\n",
       "\n",
       "    .dataframe thead th {\n",
       "        text-align: right;\n",
       "    }\n",
       "</style>\n",
       "<table border=\"1\" class=\"dataframe\">\n",
       "  <thead>\n",
       "    <tr style=\"text-align: right;\">\n",
       "      <th></th>\n",
       "      <th></th>\n",
       "      <th>count</th>\n",
       "    </tr>\n",
       "    <tr>\n",
       "      <th>list</th>\n",
       "      <th>Japan Top 5</th>\n",
       "      <th></th>\n",
       "    </tr>\n",
       "  </thead>\n",
       "  <tbody>\n",
       "    <tr>\n",
       "      <th rowspan=\"5\" valign=\"top\">director</th>\n",
       "      <th>Chiaki Kon</th>\n",
       "      <td>1</td>\n",
       "    </tr>\n",
       "    <tr>\n",
       "      <th>Takuya Igarashi</th>\n",
       "      <td>1</td>\n",
       "    </tr>\n",
       "    <tr>\n",
       "      <th>Go Koga</th>\n",
       "      <td>1</td>\n",
       "    </tr>\n",
       "    <tr>\n",
       "      <th>Yasuhiro Irie</th>\n",
       "      <td>1</td>\n",
       "    </tr>\n",
       "    <tr>\n",
       "      <th>Masaaki Yuasa</th>\n",
       "      <td>1</td>\n",
       "    </tr>\n",
       "    <tr>\n",
       "      <th rowspan=\"5\" valign=\"top\">cast</th>\n",
       "      <th>Takahiro Sakurai</th>\n",
       "      <td>25</td>\n",
       "    </tr>\n",
       "    <tr>\n",
       "      <th>Yuki Kaji</th>\n",
       "      <td>19</td>\n",
       "    </tr>\n",
       "    <tr>\n",
       "      <th>Junichi Suwabe</th>\n",
       "      <td>17</td>\n",
       "    </tr>\n",
       "    <tr>\n",
       "      <th>Ai Kayano</th>\n",
       "      <td>17</td>\n",
       "    </tr>\n",
       "    <tr>\n",
       "      <th>Daisuke Ono</th>\n",
       "      <td>17</td>\n",
       "    </tr>\n",
       "    <tr>\n",
       "      <th rowspan=\"5\" valign=\"top\">genre</th>\n",
       "      <th>International TV Shows</th>\n",
       "      <td>160</td>\n",
       "    </tr>\n",
       "    <tr>\n",
       "      <th>Anime Series</th>\n",
       "      <td>156</td>\n",
       "    </tr>\n",
       "    <tr>\n",
       "      <th>Kids' TV</th>\n",
       "      <td>34</td>\n",
       "    </tr>\n",
       "    <tr>\n",
       "      <th>TV Dramas</th>\n",
       "      <td>22</td>\n",
       "    </tr>\n",
       "    <tr>\n",
       "      <th>Romantic TV Shows</th>\n",
       "      <td>22</td>\n",
       "    </tr>\n",
       "    <tr>\n",
       "      <th rowspan=\"5\" valign=\"top\">rating</th>\n",
       "      <th>TV-14</th>\n",
       "      <td>79</td>\n",
       "    </tr>\n",
       "    <tr>\n",
       "      <th>TV-MA</th>\n",
       "      <td>75</td>\n",
       "    </tr>\n",
       "    <tr>\n",
       "      <th>TV-Y7</th>\n",
       "      <td>32</td>\n",
       "    </tr>\n",
       "    <tr>\n",
       "      <th>TV-PG</th>\n",
       "      <td>22</td>\n",
       "    </tr>\n",
       "    <tr>\n",
       "      <th>TV-G</th>\n",
       "      <td>4</td>\n",
       "    </tr>\n",
       "  </tbody>\n",
       "</table>\n",
       "</div>"
      ],
      "text/plain": [
       "                                 count\n",
       "list     Japan Top 5                  \n",
       "director Chiaki Kon                  1\n",
       "         Takuya Igarashi             1\n",
       "         Go Koga                     1\n",
       "         Yasuhiro Irie               1\n",
       "         Masaaki Yuasa               1\n",
       "cast     Takahiro Sakurai           25\n",
       "         Yuki Kaji                  19\n",
       "         Junichi Suwabe             17\n",
       "         Ai Kayano                  17\n",
       "         Daisuke Ono                17\n",
       "genre    International TV Shows    160\n",
       "         Anime Series              156\n",
       "         Kids' TV                   34\n",
       "         TV Dramas                  22\n",
       "         Romantic TV Shows          22\n",
       "rating   TV-14                      79\n",
       "         TV-MA                      75\n",
       "         TV-Y7                      32\n",
       "         TV-PG                      22\n",
       "         TV-G                        4"
      ]
     },
     "execution_count": 63,
     "metadata": {},
     "output_type": "execute_result"
    }
   ],
   "source": [
    "datap=tvshow_data.copy()\n",
    "datap['country']=datap['country'].str.split(', ')\n",
    "datap=datap.explode('country')\n",
    "\n",
    "usa=datap[datap['country']=='Japan']\n",
    "\n",
    "usal,usad,usac=usa.copy(),usa.copy(),usa.copy()\n",
    "usal['listed_in']=usal['listed_in'].str.split(', ')\n",
    "usad=data[data['type']=='TV Show'].copy()\n",
    "usad['country']=usad['country'].str.split(', ')\n",
    "usad=usad.explode('country')\n",
    "usad=usad[usad['country']=='Japan']\n",
    "usad['director']=usad['director'].str.split(', ')\n",
    "usac['cast']=usac['cast'].str.split(', ')\n",
    "\n",
    "m1d={'list':['director']*5,\n",
    "     'Japan Top 5':usad.explode('director')['director'].value_counts()[0:5].index,\n",
    "     'count':usad.explode('director')['director'].value_counts()[0:5].values}\n",
    "m1c={'list':['cast']*5,\n",
    "     'Japan Top 5':usac.explode('cast')['cast'].value_counts()[0:5].index,\n",
    "     'count':usac.explode('cast')['cast'].value_counts()[0:5].values}\n",
    "m1g={'list':['genre']*5,\n",
    "     'Japan Top 5':usal.explode('listed_in')['listed_in'].value_counts()[0:5].index,\n",
    "     'count':usal.explode('listed_in')['listed_in'].value_counts()[0:5].values}\n",
    "m1r={'list':['rating']*5,\n",
    "     'Japan Top 5':usa['rating'].value_counts()[0:5].index,\n",
    "     'count':usa['rating'].value_counts()[0:5].values}\n",
    "\n",
    "dfd,dfc,dfg,dfr=pd.DataFrame(m1d),pd.DataFrame(m1c),pd.DataFrame(m1g),pd.DataFrame(m1r)\n",
    "df=pd.concat([dfd,dfc,dfg,dfr],axis=0)\n",
    "k=df.groupby(['list','Japan Top 5'],sort=False)\n",
    "k.first()"
   ]
  },
  {
   "cell_type": "code",
   "execution_count": null,
   "id": "0ba36e26",
   "metadata": {},
   "outputs": [],
   "source": []
  }
 ],
 "metadata": {
  "kernelspec": {
   "display_name": "nx",
   "language": "python",
   "name": "nx"
  },
  "language_info": {
   "codemirror_mode": {
    "name": "ipython",
    "version": 3
   },
   "file_extension": ".py",
   "mimetype": "text/x-python",
   "name": "python",
   "nbconvert_exporter": "python",
   "pygments_lexer": "ipython3",
   "version": "3.8.8"
  }
 },
 "nbformat": 4,
 "nbformat_minor": 5
}
