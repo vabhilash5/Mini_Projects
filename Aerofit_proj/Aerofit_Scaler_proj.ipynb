{
 "cells": [
  {
   "cell_type": "code",
   "execution_count": 1,
   "id": "8b8b5fe6",
   "metadata": {},
   "outputs": [],
   "source": [
    "import numpy as np\n",
    "import pandas as pd \n",
    "import matplotlib.pyplot as plt\n",
    "import seaborn as sns"
   ]
  },
  {
   "cell_type": "code",
   "execution_count": 2,
   "id": "81a43f43",
   "metadata": {},
   "outputs": [],
   "source": [
    "df=pd.read_csv('aerofit_treadmill.csv')"
   ]
  },
  {
   "cell_type": "code",
   "execution_count": 3,
   "id": "7baeaa26",
   "metadata": {},
   "outputs": [
    {
     "data": {
      "text/html": [
       "<div>\n",
       "<style scoped>\n",
       "    .dataframe tbody tr th:only-of-type {\n",
       "        vertical-align: middle;\n",
       "    }\n",
       "\n",
       "    .dataframe tbody tr th {\n",
       "        vertical-align: top;\n",
       "    }\n",
       "\n",
       "    .dataframe thead th {\n",
       "        text-align: right;\n",
       "    }\n",
       "</style>\n",
       "<table border=\"1\" class=\"dataframe\">\n",
       "  <thead>\n",
       "    <tr style=\"text-align: right;\">\n",
       "      <th></th>\n",
       "      <th>Product</th>\n",
       "      <th>Age</th>\n",
       "      <th>Gender</th>\n",
       "      <th>Education</th>\n",
       "      <th>MaritalStatus</th>\n",
       "      <th>Usage</th>\n",
       "      <th>Fitness</th>\n",
       "      <th>Income</th>\n",
       "      <th>Miles</th>\n",
       "    </tr>\n",
       "  </thead>\n",
       "  <tbody>\n",
       "    <tr>\n",
       "      <th>0</th>\n",
       "      <td>KP281</td>\n",
       "      <td>18</td>\n",
       "      <td>Male</td>\n",
       "      <td>14</td>\n",
       "      <td>Single</td>\n",
       "      <td>3</td>\n",
       "      <td>4</td>\n",
       "      <td>29562</td>\n",
       "      <td>112</td>\n",
       "    </tr>\n",
       "    <tr>\n",
       "      <th>1</th>\n",
       "      <td>KP281</td>\n",
       "      <td>19</td>\n",
       "      <td>Male</td>\n",
       "      <td>15</td>\n",
       "      <td>Single</td>\n",
       "      <td>2</td>\n",
       "      <td>3</td>\n",
       "      <td>31836</td>\n",
       "      <td>75</td>\n",
       "    </tr>\n",
       "    <tr>\n",
       "      <th>2</th>\n",
       "      <td>KP281</td>\n",
       "      <td>19</td>\n",
       "      <td>Female</td>\n",
       "      <td>14</td>\n",
       "      <td>Partnered</td>\n",
       "      <td>4</td>\n",
       "      <td>3</td>\n",
       "      <td>30699</td>\n",
       "      <td>66</td>\n",
       "    </tr>\n",
       "    <tr>\n",
       "      <th>3</th>\n",
       "      <td>KP281</td>\n",
       "      <td>19</td>\n",
       "      <td>Male</td>\n",
       "      <td>12</td>\n",
       "      <td>Single</td>\n",
       "      <td>3</td>\n",
       "      <td>3</td>\n",
       "      <td>32973</td>\n",
       "      <td>85</td>\n",
       "    </tr>\n",
       "    <tr>\n",
       "      <th>4</th>\n",
       "      <td>KP281</td>\n",
       "      <td>20</td>\n",
       "      <td>Male</td>\n",
       "      <td>13</td>\n",
       "      <td>Partnered</td>\n",
       "      <td>4</td>\n",
       "      <td>2</td>\n",
       "      <td>35247</td>\n",
       "      <td>47</td>\n",
       "    </tr>\n",
       "  </tbody>\n",
       "</table>\n",
       "</div>"
      ],
      "text/plain": [
       "  Product  Age  Gender  Education MaritalStatus  Usage  Fitness  Income  Miles\n",
       "0   KP281   18    Male         14        Single      3        4   29562    112\n",
       "1   KP281   19    Male         15        Single      2        3   31836     75\n",
       "2   KP281   19  Female         14     Partnered      4        3   30699     66\n",
       "3   KP281   19    Male         12        Single      3        3   32973     85\n",
       "4   KP281   20    Male         13     Partnered      4        2   35247     47"
      ]
     },
     "execution_count": 3,
     "metadata": {},
     "output_type": "execute_result"
    }
   ],
   "source": [
    "df.head()"
   ]
  },
  {
   "cell_type": "markdown",
   "id": "3170a331",
   "metadata": {},
   "source": [
    "We can see that there are only a few columns available in the data. We need to find out the type of Treadmill one would choose on the basis of his/her age, gender, education, marital status, Income etc."
   ]
  },
  {
   "cell_type": "code",
   "execution_count": 4,
   "id": "e4ad0e2b",
   "metadata": {},
   "outputs": [
    {
     "name": "stdout",
     "output_type": "stream",
     "text": [
      "<class 'pandas.core.frame.DataFrame'>\n",
      "RangeIndex: 180 entries, 0 to 179\n",
      "Data columns (total 9 columns):\n",
      " #   Column         Non-Null Count  Dtype \n",
      "---  ------         --------------  ----- \n",
      " 0   Product        180 non-null    object\n",
      " 1   Age            180 non-null    int64 \n",
      " 2   Gender         180 non-null    object\n",
      " 3   Education      180 non-null    int64 \n",
      " 4   MaritalStatus  180 non-null    object\n",
      " 5   Usage          180 non-null    int64 \n",
      " 6   Fitness        180 non-null    int64 \n",
      " 7   Income         180 non-null    int64 \n",
      " 8   Miles          180 non-null    int64 \n",
      "dtypes: int64(6), object(3)\n",
      "memory usage: 12.8+ KB\n"
     ]
    }
   ],
   "source": [
    "df.info()"
   ]
  },
  {
   "cell_type": "markdown",
   "id": "127e7c9e",
   "metadata": {},
   "source": [
    "We do not have any null values in our data set which makes it easier for us to conduct our data analysis."
   ]
  },
  {
   "cell_type": "code",
   "execution_count": 5,
   "id": "b0668184",
   "metadata": {},
   "outputs": [
    {
     "data": {
      "text/html": [
       "<div>\n",
       "<style scoped>\n",
       "    .dataframe tbody tr th:only-of-type {\n",
       "        vertical-align: middle;\n",
       "    }\n",
       "\n",
       "    .dataframe tbody tr th {\n",
       "        vertical-align: top;\n",
       "    }\n",
       "\n",
       "    .dataframe thead th {\n",
       "        text-align: right;\n",
       "    }\n",
       "</style>\n",
       "<table border=\"1\" class=\"dataframe\">\n",
       "  <thead>\n",
       "    <tr style=\"text-align: right;\">\n",
       "      <th></th>\n",
       "      <th>Age</th>\n",
       "      <th>Education</th>\n",
       "      <th>Usage</th>\n",
       "      <th>Fitness</th>\n",
       "      <th>Income</th>\n",
       "      <th>Miles</th>\n",
       "    </tr>\n",
       "  </thead>\n",
       "  <tbody>\n",
       "    <tr>\n",
       "      <th>count</th>\n",
       "      <td>180.000000</td>\n",
       "      <td>180.000000</td>\n",
       "      <td>180.000000</td>\n",
       "      <td>180.000000</td>\n",
       "      <td>180.000000</td>\n",
       "      <td>180.000000</td>\n",
       "    </tr>\n",
       "    <tr>\n",
       "      <th>mean</th>\n",
       "      <td>28.788889</td>\n",
       "      <td>15.572222</td>\n",
       "      <td>3.455556</td>\n",
       "      <td>3.311111</td>\n",
       "      <td>53719.577778</td>\n",
       "      <td>103.194444</td>\n",
       "    </tr>\n",
       "    <tr>\n",
       "      <th>std</th>\n",
       "      <td>6.943498</td>\n",
       "      <td>1.617055</td>\n",
       "      <td>1.084797</td>\n",
       "      <td>0.958869</td>\n",
       "      <td>16506.684226</td>\n",
       "      <td>51.863605</td>\n",
       "    </tr>\n",
       "    <tr>\n",
       "      <th>min</th>\n",
       "      <td>18.000000</td>\n",
       "      <td>12.000000</td>\n",
       "      <td>2.000000</td>\n",
       "      <td>1.000000</td>\n",
       "      <td>29562.000000</td>\n",
       "      <td>21.000000</td>\n",
       "    </tr>\n",
       "    <tr>\n",
       "      <th>25%</th>\n",
       "      <td>24.000000</td>\n",
       "      <td>14.000000</td>\n",
       "      <td>3.000000</td>\n",
       "      <td>3.000000</td>\n",
       "      <td>44058.750000</td>\n",
       "      <td>66.000000</td>\n",
       "    </tr>\n",
       "    <tr>\n",
       "      <th>50%</th>\n",
       "      <td>26.000000</td>\n",
       "      <td>16.000000</td>\n",
       "      <td>3.000000</td>\n",
       "      <td>3.000000</td>\n",
       "      <td>50596.500000</td>\n",
       "      <td>94.000000</td>\n",
       "    </tr>\n",
       "    <tr>\n",
       "      <th>75%</th>\n",
       "      <td>33.000000</td>\n",
       "      <td>16.000000</td>\n",
       "      <td>4.000000</td>\n",
       "      <td>4.000000</td>\n",
       "      <td>58668.000000</td>\n",
       "      <td>114.750000</td>\n",
       "    </tr>\n",
       "    <tr>\n",
       "      <th>max</th>\n",
       "      <td>50.000000</td>\n",
       "      <td>21.000000</td>\n",
       "      <td>7.000000</td>\n",
       "      <td>5.000000</td>\n",
       "      <td>104581.000000</td>\n",
       "      <td>360.000000</td>\n",
       "    </tr>\n",
       "  </tbody>\n",
       "</table>\n",
       "</div>"
      ],
      "text/plain": [
       "              Age   Education       Usage     Fitness         Income  \\\n",
       "count  180.000000  180.000000  180.000000  180.000000     180.000000   \n",
       "mean    28.788889   15.572222    3.455556    3.311111   53719.577778   \n",
       "std      6.943498    1.617055    1.084797    0.958869   16506.684226   \n",
       "min     18.000000   12.000000    2.000000    1.000000   29562.000000   \n",
       "25%     24.000000   14.000000    3.000000    3.000000   44058.750000   \n",
       "50%     26.000000   16.000000    3.000000    3.000000   50596.500000   \n",
       "75%     33.000000   16.000000    4.000000    4.000000   58668.000000   \n",
       "max     50.000000   21.000000    7.000000    5.000000  104581.000000   \n",
       "\n",
       "            Miles  \n",
       "count  180.000000  \n",
       "mean   103.194444  \n",
       "std     51.863605  \n",
       "min     21.000000  \n",
       "25%     66.000000  \n",
       "50%     94.000000  \n",
       "75%    114.750000  \n",
       "max    360.000000  "
      ]
     },
     "execution_count": 5,
     "metadata": {},
     "output_type": "execute_result"
    }
   ],
   "source": [
    "df.describe()"
   ]
  },
  {
   "cell_type": "code",
   "execution_count": 6,
   "id": "8fffbf24",
   "metadata": {},
   "outputs": [],
   "source": [
    "#changing it to  object dtype to category  to save memory\n",
    "df.Product=df[\"Product\"].astype(\"category\")\n",
    "df.Gender=df[\"Gender\"].astype(\"category\")\n",
    "df.MaritalStatus=df[\"MaritalStatus\"].astype(\"category\")"
   ]
  },
  {
   "cell_type": "code",
   "execution_count": 7,
   "id": "396ca423",
   "metadata": {},
   "outputs": [
    {
     "data": {
      "text/html": [
       "<div>\n",
       "<style scoped>\n",
       "    .dataframe tbody tr th:only-of-type {\n",
       "        vertical-align: middle;\n",
       "    }\n",
       "\n",
       "    .dataframe tbody tr th {\n",
       "        vertical-align: top;\n",
       "    }\n",
       "\n",
       "    .dataframe thead th {\n",
       "        text-align: right;\n",
       "    }\n",
       "</style>\n",
       "<table border=\"1\" class=\"dataframe\">\n",
       "  <thead>\n",
       "    <tr style=\"text-align: right;\">\n",
       "      <th></th>\n",
       "      <th>count</th>\n",
       "      <th>mean</th>\n",
       "      <th>std</th>\n",
       "      <th>min</th>\n",
       "      <th>25%</th>\n",
       "      <th>50%</th>\n",
       "      <th>75%</th>\n",
       "      <th>max</th>\n",
       "    </tr>\n",
       "  </thead>\n",
       "  <tbody>\n",
       "    <tr>\n",
       "      <th>Age</th>\n",
       "      <td>80.0</td>\n",
       "      <td>28.5500</td>\n",
       "      <td>7.221452</td>\n",
       "      <td>18.0</td>\n",
       "      <td>23.0</td>\n",
       "      <td>26.0</td>\n",
       "      <td>33.0</td>\n",
       "      <td>50.0</td>\n",
       "    </tr>\n",
       "    <tr>\n",
       "      <th>Education</th>\n",
       "      <td>80.0</td>\n",
       "      <td>15.0375</td>\n",
       "      <td>1.216383</td>\n",
       "      <td>12.0</td>\n",
       "      <td>14.0</td>\n",
       "      <td>16.0</td>\n",
       "      <td>16.0</td>\n",
       "      <td>18.0</td>\n",
       "    </tr>\n",
       "    <tr>\n",
       "      <th>Usage</th>\n",
       "      <td>80.0</td>\n",
       "      <td>3.0875</td>\n",
       "      <td>0.782624</td>\n",
       "      <td>2.0</td>\n",
       "      <td>3.0</td>\n",
       "      <td>3.0</td>\n",
       "      <td>4.0</td>\n",
       "      <td>5.0</td>\n",
       "    </tr>\n",
       "    <tr>\n",
       "      <th>Fitness</th>\n",
       "      <td>80.0</td>\n",
       "      <td>2.9625</td>\n",
       "      <td>0.664540</td>\n",
       "      <td>1.0</td>\n",
       "      <td>3.0</td>\n",
       "      <td>3.0</td>\n",
       "      <td>3.0</td>\n",
       "      <td>5.0</td>\n",
       "    </tr>\n",
       "    <tr>\n",
       "      <th>Income</th>\n",
       "      <td>80.0</td>\n",
       "      <td>46418.0250</td>\n",
       "      <td>9075.783190</td>\n",
       "      <td>29562.0</td>\n",
       "      <td>38658.0</td>\n",
       "      <td>46617.0</td>\n",
       "      <td>53439.0</td>\n",
       "      <td>68220.0</td>\n",
       "    </tr>\n",
       "    <tr>\n",
       "      <th>Miles</th>\n",
       "      <td>80.0</td>\n",
       "      <td>82.7875</td>\n",
       "      <td>28.874102</td>\n",
       "      <td>38.0</td>\n",
       "      <td>66.0</td>\n",
       "      <td>85.0</td>\n",
       "      <td>94.0</td>\n",
       "      <td>188.0</td>\n",
       "    </tr>\n",
       "  </tbody>\n",
       "</table>\n",
       "</div>"
      ],
      "text/plain": [
       "           count        mean          std      min      25%      50%      75%  \\\n",
       "Age         80.0     28.5500     7.221452     18.0     23.0     26.0     33.0   \n",
       "Education   80.0     15.0375     1.216383     12.0     14.0     16.0     16.0   \n",
       "Usage       80.0      3.0875     0.782624      2.0      3.0      3.0      4.0   \n",
       "Fitness     80.0      2.9625     0.664540      1.0      3.0      3.0      3.0   \n",
       "Income      80.0  46418.0250  9075.783190  29562.0  38658.0  46617.0  53439.0   \n",
       "Miles       80.0     82.7875    28.874102     38.0     66.0     85.0     94.0   \n",
       "\n",
       "               max  \n",
       "Age           50.0  \n",
       "Education     18.0  \n",
       "Usage          5.0  \n",
       "Fitness        5.0  \n",
       "Income     68220.0  \n",
       "Miles        188.0  "
      ]
     },
     "execution_count": 7,
     "metadata": {},
     "output_type": "execute_result"
    }
   ],
   "source": [
    "df[df['Product']=='KP281'].describe().T"
   ]
  },
  {
   "cell_type": "markdown",
   "id": "145be757",
   "metadata": {},
   "source": [
    "**OBSERVATIONS**\n",
    "\n",
    "Some of the important conclusions that can be drawn by looking at our results are:\n",
    "\n",
    "- Exactly 80 customers purchased KP281 Model.\n",
    "- The average age of customers who bought KP281 is 28.5, whereas the min and max age is 18 and 50 respectively.\n",
    "- Average Education is 15 and median is 16.\n",
    "- Expected usage is 3 day a week"
   ]
  },
  {
   "cell_type": "code",
   "execution_count": 8,
   "id": "47f58b64",
   "metadata": {},
   "outputs": [
    {
     "data": {
      "text/html": [
       "<div>\n",
       "<style scoped>\n",
       "    .dataframe tbody tr th:only-of-type {\n",
       "        vertical-align: middle;\n",
       "    }\n",
       "\n",
       "    .dataframe tbody tr th {\n",
       "        vertical-align: top;\n",
       "    }\n",
       "\n",
       "    .dataframe thead th {\n",
       "        text-align: right;\n",
       "    }\n",
       "</style>\n",
       "<table border=\"1\" class=\"dataframe\">\n",
       "  <thead>\n",
       "    <tr style=\"text-align: right;\">\n",
       "      <th></th>\n",
       "      <th>count</th>\n",
       "      <th>mean</th>\n",
       "      <th>std</th>\n",
       "      <th>min</th>\n",
       "      <th>25%</th>\n",
       "      <th>50%</th>\n",
       "      <th>75%</th>\n",
       "      <th>max</th>\n",
       "    </tr>\n",
       "  </thead>\n",
       "  <tbody>\n",
       "    <tr>\n",
       "      <th>Age</th>\n",
       "      <td>60.0</td>\n",
       "      <td>28.900000</td>\n",
       "      <td>6.645248</td>\n",
       "      <td>19.0</td>\n",
       "      <td>24.0</td>\n",
       "      <td>26.0</td>\n",
       "      <td>33.25</td>\n",
       "      <td>48.0</td>\n",
       "    </tr>\n",
       "    <tr>\n",
       "      <th>Education</th>\n",
       "      <td>60.0</td>\n",
       "      <td>15.116667</td>\n",
       "      <td>1.222552</td>\n",
       "      <td>12.0</td>\n",
       "      <td>14.0</td>\n",
       "      <td>16.0</td>\n",
       "      <td>16.00</td>\n",
       "      <td>18.0</td>\n",
       "    </tr>\n",
       "    <tr>\n",
       "      <th>Usage</th>\n",
       "      <td>60.0</td>\n",
       "      <td>3.066667</td>\n",
       "      <td>0.799717</td>\n",
       "      <td>2.0</td>\n",
       "      <td>3.0</td>\n",
       "      <td>3.0</td>\n",
       "      <td>3.25</td>\n",
       "      <td>5.0</td>\n",
       "    </tr>\n",
       "    <tr>\n",
       "      <th>Fitness</th>\n",
       "      <td>60.0</td>\n",
       "      <td>2.900000</td>\n",
       "      <td>0.629770</td>\n",
       "      <td>1.0</td>\n",
       "      <td>3.0</td>\n",
       "      <td>3.0</td>\n",
       "      <td>3.00</td>\n",
       "      <td>4.0</td>\n",
       "    </tr>\n",
       "    <tr>\n",
       "      <th>Income</th>\n",
       "      <td>60.0</td>\n",
       "      <td>48973.650000</td>\n",
       "      <td>8653.989388</td>\n",
       "      <td>31836.0</td>\n",
       "      <td>44911.5</td>\n",
       "      <td>49459.5</td>\n",
       "      <td>53439.00</td>\n",
       "      <td>67083.0</td>\n",
       "    </tr>\n",
       "    <tr>\n",
       "      <th>Miles</th>\n",
       "      <td>60.0</td>\n",
       "      <td>87.933333</td>\n",
       "      <td>33.263135</td>\n",
       "      <td>21.0</td>\n",
       "      <td>64.0</td>\n",
       "      <td>85.0</td>\n",
       "      <td>106.00</td>\n",
       "      <td>212.0</td>\n",
       "    </tr>\n",
       "  </tbody>\n",
       "</table>\n",
       "</div>"
      ],
      "text/plain": [
       "           count          mean          std      min      25%      50%  \\\n",
       "Age         60.0     28.900000     6.645248     19.0     24.0     26.0   \n",
       "Education   60.0     15.116667     1.222552     12.0     14.0     16.0   \n",
       "Usage       60.0      3.066667     0.799717      2.0      3.0      3.0   \n",
       "Fitness     60.0      2.900000     0.629770      1.0      3.0      3.0   \n",
       "Income      60.0  48973.650000  8653.989388  31836.0  44911.5  49459.5   \n",
       "Miles       60.0     87.933333    33.263135     21.0     64.0     85.0   \n",
       "\n",
       "                75%      max  \n",
       "Age           33.25     48.0  \n",
       "Education     16.00     18.0  \n",
       "Usage          3.25      5.0  \n",
       "Fitness        3.00      4.0  \n",
       "Income     53439.00  67083.0  \n",
       "Miles        106.00    212.0  "
      ]
     },
     "execution_count": 8,
     "metadata": {},
     "output_type": "execute_result"
    }
   ],
   "source": [
    "df[df['Product']=='KP481'].describe().T"
   ]
  },
  {
   "cell_type": "markdown",
   "id": "100b3c4b",
   "metadata": {},
   "source": [
    "**OBSERVATIONS**\n",
    "\n",
    "- There are 60 customers who purchased KP481 Model\n",
    "- Average age of customer who purchases KP481 is 28.9 , Median is 26 . Age is right skewed. Customer range is between 24-33.\n",
    "- Average Education is 15 and median is 16.\n",
    "- Expected usage is 3 day a week"
   ]
  },
  {
   "cell_type": "code",
   "execution_count": 9,
   "id": "db68547a",
   "metadata": {},
   "outputs": [
    {
     "data": {
      "text/html": [
       "<div>\n",
       "<style scoped>\n",
       "    .dataframe tbody tr th:only-of-type {\n",
       "        vertical-align: middle;\n",
       "    }\n",
       "\n",
       "    .dataframe tbody tr th {\n",
       "        vertical-align: top;\n",
       "    }\n",
       "\n",
       "    .dataframe thead th {\n",
       "        text-align: right;\n",
       "    }\n",
       "</style>\n",
       "<table border=\"1\" class=\"dataframe\">\n",
       "  <thead>\n",
       "    <tr style=\"text-align: right;\">\n",
       "      <th></th>\n",
       "      <th>count</th>\n",
       "      <th>mean</th>\n",
       "      <th>std</th>\n",
       "      <th>min</th>\n",
       "      <th>25%</th>\n",
       "      <th>50%</th>\n",
       "      <th>75%</th>\n",
       "      <th>max</th>\n",
       "    </tr>\n",
       "  </thead>\n",
       "  <tbody>\n",
       "    <tr>\n",
       "      <th>Age</th>\n",
       "      <td>40.0</td>\n",
       "      <td>29.100</td>\n",
       "      <td>6.971738</td>\n",
       "      <td>22.0</td>\n",
       "      <td>24.75</td>\n",
       "      <td>27.0</td>\n",
       "      <td>30.25</td>\n",
       "      <td>48.0</td>\n",
       "    </tr>\n",
       "    <tr>\n",
       "      <th>Education</th>\n",
       "      <td>40.0</td>\n",
       "      <td>17.325</td>\n",
       "      <td>1.639066</td>\n",
       "      <td>14.0</td>\n",
       "      <td>16.00</td>\n",
       "      <td>18.0</td>\n",
       "      <td>18.00</td>\n",
       "      <td>21.0</td>\n",
       "    </tr>\n",
       "    <tr>\n",
       "      <th>Usage</th>\n",
       "      <td>40.0</td>\n",
       "      <td>4.775</td>\n",
       "      <td>0.946993</td>\n",
       "      <td>3.0</td>\n",
       "      <td>4.00</td>\n",
       "      <td>5.0</td>\n",
       "      <td>5.00</td>\n",
       "      <td>7.0</td>\n",
       "    </tr>\n",
       "    <tr>\n",
       "      <th>Fitness</th>\n",
       "      <td>40.0</td>\n",
       "      <td>4.625</td>\n",
       "      <td>0.667467</td>\n",
       "      <td>3.0</td>\n",
       "      <td>4.00</td>\n",
       "      <td>5.0</td>\n",
       "      <td>5.00</td>\n",
       "      <td>5.0</td>\n",
       "    </tr>\n",
       "    <tr>\n",
       "      <th>Income</th>\n",
       "      <td>40.0</td>\n",
       "      <td>75441.575</td>\n",
       "      <td>18505.836720</td>\n",
       "      <td>48556.0</td>\n",
       "      <td>58204.75</td>\n",
       "      <td>76568.5</td>\n",
       "      <td>90886.00</td>\n",
       "      <td>104581.0</td>\n",
       "    </tr>\n",
       "    <tr>\n",
       "      <th>Miles</th>\n",
       "      <td>40.0</td>\n",
       "      <td>166.900</td>\n",
       "      <td>60.066544</td>\n",
       "      <td>80.0</td>\n",
       "      <td>120.00</td>\n",
       "      <td>160.0</td>\n",
       "      <td>200.00</td>\n",
       "      <td>360.0</td>\n",
       "    </tr>\n",
       "  </tbody>\n",
       "</table>\n",
       "</div>"
      ],
      "text/plain": [
       "           count       mean           std      min       25%      50%  \\\n",
       "Age         40.0     29.100      6.971738     22.0     24.75     27.0   \n",
       "Education   40.0     17.325      1.639066     14.0     16.00     18.0   \n",
       "Usage       40.0      4.775      0.946993      3.0      4.00      5.0   \n",
       "Fitness     40.0      4.625      0.667467      3.0      4.00      5.0   \n",
       "Income      40.0  75441.575  18505.836720  48556.0  58204.75  76568.5   \n",
       "Miles       40.0    166.900     60.066544     80.0    120.00    160.0   \n",
       "\n",
       "                75%       max  \n",
       "Age           30.25      48.0  \n",
       "Education     18.00      21.0  \n",
       "Usage          5.00       7.0  \n",
       "Fitness        5.00       5.0  \n",
       "Income     90886.00  104581.0  \n",
       "Miles        200.00     360.0  "
      ]
     },
     "execution_count": 9,
     "metadata": {},
     "output_type": "execute_result"
    }
   ],
   "source": [
    "df[df['Product']=='KP781'].describe().T"
   ]
  },
  {
   "cell_type": "markdown",
   "id": "5a90b943",
   "metadata": {},
   "source": [
    "**OBSERVATIONS**\n",
    "\n",
    "- Average age of customer who purchases KP781 is 29 , Median is 27 .\n",
    "- Average Education is 17 and median is 18.\n",
    "- Expected usage is 4-5 day a week"
   ]
  },
  {
   "cell_type": "code",
   "execution_count": 10,
   "id": "60504428",
   "metadata": {
    "scrolled": true
   },
   "outputs": [
    {
     "data": {
      "text/plain": [
       "KP281    80\n",
       "KP481    60\n",
       "KP781    40\n",
       "Name: Product, dtype: int64"
      ]
     },
     "execution_count": 10,
     "metadata": {},
     "output_type": "execute_result"
    }
   ],
   "source": [
    "df['Product'].value_counts()"
   ]
  },
  {
   "cell_type": "code",
   "execution_count": 11,
   "id": "9fc98d0f",
   "metadata": {},
   "outputs": [
    {
     "data": {
      "image/png": "[encoded data removed]",
      "text/plain": [
       "<Figure size 576x576 with 1 Axes>"
      ]
     },
     "metadata": {},
     "output_type": "display_data"
    }
   ],
   "source": [
    "plt.figure(figsize=(14,7))\n",
    "df['Product'].value_counts().plot.pie(autopct='%1.1f%%',figsize=(8,8))\n",
    "plt.title(\"Pie chart of Product Sales\")\n",
    "plt.show()"
   ]
  },
  {
   "cell_type": "code",
   "execution_count": 12,
   "id": "fff3e53d",
   "metadata": {
    "scrolled": true
   },
   "outputs": [
    {
     "data": {
      "text/plain": [
       "Male      104\n",
       "Female     76\n",
       "Name: Gender, dtype: int64"
      ]
     },
     "execution_count": 12,
     "metadata": {},
     "output_type": "execute_result"
    }
   ],
   "source": [
    "df['Gender'].value_counts()"
   ]
  },
  {
   "cell_type": "code",
   "execution_count": 13,
   "id": "8f4474e8",
   "metadata": {},
   "outputs": [
    {
     "data": {
      "text/plain": [
       "<AxesSubplot:xlabel='Gender', ylabel='count'>"
      ]
     },
     "execution_count": 13,
     "metadata": {},
     "output_type": "execute_result"
    },
    {
     "data": {
      "image/png": "[encoded data removed]",
      "text/plain": [
       "<Figure size 432x288 with 1 Axes>"
      ]
     },
     "metadata": {
      "needs_background": "light"
     },
     "output_type": "display_data"
    }
   ],
   "source": [
    "sns.countplot(data=df,x='Gender')"
   ]
  },
  {
   "cell_type": "code",
   "execution_count": 14,
   "id": "4bc22b66",
   "metadata": {
    "scrolled": true
   },
   "outputs": [
    {
     "data": {
      "text/plain": [
       "Partnered    107\n",
       "Single        73\n",
       "Name: MaritalStatus, dtype: int64"
      ]
     },
     "execution_count": 14,
     "metadata": {},
     "output_type": "execute_result"
    }
   ],
   "source": [
    "df['MaritalStatus'].value_counts()"
   ]
  },
  {
   "cell_type": "code",
   "execution_count": 15,
   "id": "31b3e9b1",
   "metadata": {},
   "outputs": [
    {
     "data": {
      "text/plain": [
       "<AxesSubplot:xlabel='MaritalStatus', ylabel='count'>"
      ]
     },
     "execution_count": 15,
     "metadata": {},
     "output_type": "execute_result"
    },
    {
     "data": {
      "image/png": "[encoded data removed]",
      "text/plain": [
       "<Figure size 432x288 with 1 Axes>"
      ]
     },
     "metadata": {
      "needs_background": "light"
     },
     "output_type": "display_data"
    }
   ],
   "source": [
    "sns.countplot(data=df,x='MaritalStatus')"
   ]
  },
  {
   "cell_type": "code",
   "execution_count": 16,
   "id": "29d8b965",
   "metadata": {
    "scrolled": true
   },
   "outputs": [
    {
     "data": {
      "text/plain": [
       "3    97\n",
       "5    31\n",
       "2    26\n",
       "4    24\n",
       "1     2\n",
       "Name: Fitness, dtype: int64"
      ]
     },
     "execution_count": 16,
     "metadata": {},
     "output_type": "execute_result"
    }
   ],
   "source": [
    "df['Fitness'].value_counts()"
   ]
  },
  {
   "cell_type": "code",
   "execution_count": 17,
   "id": "924b8971",
   "metadata": {},
   "outputs": [
    {
     "data": {
      "image/png": "[encoded data removed]",
      "text/plain": [
       "<Figure size 576x576 with 1 Axes>"
      ]
     },
     "metadata": {},
     "output_type": "display_data"
    }
   ],
   "source": [
    "plt.figure(figsize=(14,7))\n",
    "df['Fitness'].value_counts().plot.pie(autopct='%1.1f%%',figsize=(8,8))\n",
    "plt.title(\"Pie chart of Fitness\")\n",
    "plt.show()"
   ]
  },
  {
   "cell_type": "code",
   "execution_count": 18,
   "id": "a77f98f5",
   "metadata": {},
   "outputs": [
    {
     "data": {
      "text/plain": [
       "3    69\n",
       "4    52\n",
       "2    33\n",
       "5    17\n",
       "6     7\n",
       "7     2\n",
       "Name: Usage, dtype: int64"
      ]
     },
     "execution_count": 18,
     "metadata": {},
     "output_type": "execute_result"
    }
   ],
   "source": [
    "df['Usage'].value_counts()"
   ]
  },
  {
   "cell_type": "code",
   "execution_count": 19,
   "id": "92e32f35",
   "metadata": {},
   "outputs": [
    {
     "data": {
      "image/png": "[encoded data removed]",
      "text/plain": [
       "<Figure size 576x576 with 1 Axes>"
      ]
     },
     "metadata": {},
     "output_type": "display_data"
    }
   ],
   "source": [
    "plt.figure(figsize=(14,7))\n",
    "df['Usage'].value_counts().plot.pie(autopct='%1.1f%%',figsize=(8,8))\n",
    "plt.title(\"Pie chart of Usage\")\n",
    "plt.show()"
   ]
  },
  {
   "cell_type": "markdown",
   "id": "947360f2",
   "metadata": {},
   "source": [
    "### Outliers"
   ]
  },
  {
   "cell_type": "code",
   "execution_count": 20,
   "id": "eb2ceaf5",
   "metadata": {},
   "outputs": [
    {
     "data": {
      "text/plain": [
       "<AxesSubplot:xlabel='Age', ylabel='Miles'>"
      ]
     },
     "execution_count": 20,
     "metadata": {},
     "output_type": "execute_result"
    },
    {
     "data": {
      "image/png": "[encoded data removed]",
      "text/plain": [
       "<Figure size 432x288 with 1 Axes>"
      ]
     },
     "metadata": {
      "needs_background": "light"
     },
     "output_type": "display_data"
    }
   ],
   "source": [
    "sns.scatterplot(data=df,x='Age',y='Miles')"
   ]
  },
  {
   "cell_type": "code",
   "execution_count": 21,
   "id": "9318e1ff",
   "metadata": {},
   "outputs": [
    {
     "data": {
      "text/plain": [
       "<AxesSubplot:xlabel='Usage', ylabel='Miles'>"
      ]
     },
     "execution_count": 21,
     "metadata": {},
     "output_type": "execute_result"
    },
    {
     "data": {
      "image/png": "[encoded data removed]",
      "text/plain": [
       "<Figure size 432x288 with 1 Axes>"
      ]
     },
     "metadata": {
      "needs_background": "light"
     },
     "output_type": "display_data"
    }
   ],
   "source": [
    "sns.scatterplot(data=df,x='Usage',y='Miles')"
   ]
  },
  {
   "cell_type": "markdown",
   "id": "d3d975a6",
   "metadata": {},
   "source": [
    "There is a point in usage 4 like outlier. A person cannot run 350 miles in 4 times."
   ]
  },
  {
   "cell_type": "code",
   "execution_count": 22,
   "id": "43744ded",
   "metadata": {},
   "outputs": [
    {
     "data": {
      "text/html": [
       "<div>\n",
       "<style scoped>\n",
       "    .dataframe tbody tr th:only-of-type {\n",
       "        vertical-align: middle;\n",
       "    }\n",
       "\n",
       "    .dataframe tbody tr th {\n",
       "        vertical-align: top;\n",
       "    }\n",
       "\n",
       "    .dataframe thead th {\n",
       "        text-align: right;\n",
       "    }\n",
       "</style>\n",
       "<table border=\"1\" class=\"dataframe\">\n",
       "  <thead>\n",
       "    <tr style=\"text-align: right;\">\n",
       "      <th></th>\n",
       "      <th>Product</th>\n",
       "      <th>Age</th>\n",
       "      <th>Gender</th>\n",
       "      <th>Education</th>\n",
       "      <th>MaritalStatus</th>\n",
       "      <th>Usage</th>\n",
       "      <th>Fitness</th>\n",
       "      <th>Income</th>\n",
       "      <th>Miles</th>\n",
       "    </tr>\n",
       "  </thead>\n",
       "  <tbody>\n",
       "    <tr>\n",
       "      <th>173</th>\n",
       "      <td>KP781</td>\n",
       "      <td>35</td>\n",
       "      <td>Male</td>\n",
       "      <td>16</td>\n",
       "      <td>Partnered</td>\n",
       "      <td>4</td>\n",
       "      <td>5</td>\n",
       "      <td>92131</td>\n",
       "      <td>360</td>\n",
       "    </tr>\n",
       "  </tbody>\n",
       "</table>\n",
       "</div>"
      ],
      "text/plain": [
       "    Product  Age Gender  Education MaritalStatus  Usage  Fitness  Income  \\\n",
       "173   KP781   35   Male         16     Partnered      4        5   92131   \n",
       "\n",
       "     Miles  \n",
       "173    360  "
      ]
     },
     "execution_count": 22,
     "metadata": {},
     "output_type": "execute_result"
    }
   ],
   "source": [
    "df[df['Miles']>350]"
   ]
  },
  {
   "cell_type": "code",
   "execution_count": 23,
   "id": "93597d5c",
   "metadata": {},
   "outputs": [],
   "source": [
    "df.drop(index=173,inplace=True)"
   ]
  },
  {
   "cell_type": "code",
   "execution_count": 24,
   "id": "85647aa8",
   "metadata": {},
   "outputs": [
    {
     "data": {
      "text/plain": [
       "<AxesSubplot:xlabel='Product', ylabel='Age'>"
      ]
     },
     "execution_count": 24,
     "metadata": {},
     "output_type": "execute_result"
    },
    {
     "data": {
      "image/png": "[encoded data removed]",
      "text/plain": [
       "<Figure size 432x288 with 1 Axes>"
      ]
     },
     "metadata": {
      "needs_background": "light"
     },
     "output_type": "display_data"
    }
   ],
   "source": [
    "sns.boxplot(data=df,x='Product',y='Age')"
   ]
  },
  {
   "cell_type": "code",
   "execution_count": 25,
   "id": "ef72d165",
   "metadata": {},
   "outputs": [
    {
     "data": {
      "text/plain": [
       "<AxesSubplot:xlabel='Age', ylabel='Count'>"
      ]
     },
     "execution_count": 25,
     "metadata": {},
     "output_type": "execute_result"
    },
    {
     "data": {
      "image/png": "[encoded data removed]",
      "text/plain": [
       "<Figure size 432x288 with 1 Axes>"
      ]
     },
     "metadata": {
      "needs_background": "light"
     },
     "output_type": "display_data"
    }
   ],
   "source": [
    "sns.histplot(data=df,x='Age')"
   ]
  },
  {
   "cell_type": "markdown",
   "id": "5a5106bd",
   "metadata": {},
   "source": [
    "Most of them are between the age 20-35."
   ]
  },
  {
   "cell_type": "code",
   "execution_count": 26,
   "id": "493ec7db",
   "metadata": {
    "scrolled": true
   },
   "outputs": [
    {
     "data": {
      "text/plain": [
       "<AxesSubplot:xlabel='MaritalStatus', ylabel='count'>"
      ]
     },
     "execution_count": 26,
     "metadata": {},
     "output_type": "execute_result"
    },
    {
     "data": {
      "image/png": "[encoded data removed]",
      "text/plain": [
       "<Figure size 432x288 with 1 Axes>"
      ]
     },
     "metadata": {
      "needs_background": "light"
     },
     "output_type": "display_data"
    }
   ],
   "source": [
    "sns.countplot(data=df,x='MaritalStatus',hue='Product')"
   ]
  },
  {
   "cell_type": "markdown",
   "id": "02b1c5b3",
   "metadata": {},
   "source": [
    "There is nothing much effective to buy KP781 with respect to age or marital status."
   ]
  },
  {
   "cell_type": "code",
   "execution_count": 27,
   "id": "bec4686d",
   "metadata": {
    "scrolled": true
   },
   "outputs": [
    {
     "data": {
      "text/plain": [
       "<AxesSubplot:xlabel='Usage', ylabel='Income'>"
      ]
     },
     "execution_count": 27,
     "metadata": {},
     "output_type": "execute_result"
    },
    {
     "data": {
      "image/png": "[encoded data removed]",
      "text/plain": [
       "<Figure size 432x288 with 1 Axes>"
      ]
     },
     "metadata": {
      "needs_background": "light"
     },
     "output_type": "display_data"
    }
   ],
   "source": [
    "sns.boxplot(data=df,x='Usage',y='Income',hue='Product')"
   ]
  },
  {
   "cell_type": "markdown",
   "id": "e986fd7f",
   "metadata": {},
   "source": [
    "Income is playing keyrole in purchasing Product type. Higher the income more are tending to buy KP781"
   ]
  },
  {
   "cell_type": "code",
   "execution_count": 28,
   "id": "d8a59e81",
   "metadata": {
    "scrolled": true
   },
   "outputs": [
    {
     "data": {
      "text/plain": [
       "<AxesSubplot:xlabel='Usage', ylabel='Miles'>"
      ]
     },
     "execution_count": 28,
     "metadata": {},
     "output_type": "execute_result"
    },
    {
     "data": {
      "image/png": "[encoded data removed]",
      "text/plain": [
       "<Figure size 432x288 with 1 Axes>"
      ]
     },
     "metadata": {
      "needs_background": "light"
     },
     "output_type": "display_data"
    }
   ],
   "source": [
    "sns.boxplot(data=df,x='Usage',y='Miles',hue='Product')"
   ]
  },
  {
   "cell_type": "markdown",
   "id": "d5d500a0",
   "metadata": {},
   "source": [
    "If Usage is more than 5 then people are tending to buy KP781"
   ]
  },
  {
   "cell_type": "code",
   "execution_count": 29,
   "id": "be12f823",
   "metadata": {},
   "outputs": [
    {
     "data": {
      "text/html": [
       "<div>\n",
       "<style scoped>\n",
       "    .dataframe tbody tr th:only-of-type {\n",
       "        vertical-align: middle;\n",
       "    }\n",
       "\n",
       "    .dataframe tbody tr th {\n",
       "        vertical-align: top;\n",
       "    }\n",
       "\n",
       "    .dataframe thead th {\n",
       "        text-align: right;\n",
       "    }\n",
       "</style>\n",
       "<table border=\"1\" class=\"dataframe\">\n",
       "  <thead>\n",
       "    <tr style=\"text-align: right;\">\n",
       "      <th>Product</th>\n",
       "      <th>KP281</th>\n",
       "      <th>KP481</th>\n",
       "      <th>KP781</th>\n",
       "    </tr>\n",
       "    <tr>\n",
       "      <th>Gender</th>\n",
       "      <th></th>\n",
       "      <th></th>\n",
       "      <th></th>\n",
       "    </tr>\n",
       "  </thead>\n",
       "  <tbody>\n",
       "    <tr>\n",
       "      <th>Female</th>\n",
       "      <td>40</td>\n",
       "      <td>29</td>\n",
       "      <td>7</td>\n",
       "    </tr>\n",
       "    <tr>\n",
       "      <th>Male</th>\n",
       "      <td>40</td>\n",
       "      <td>31</td>\n",
       "      <td>32</td>\n",
       "    </tr>\n",
       "  </tbody>\n",
       "</table>\n",
       "</div>"
      ],
      "text/plain": [
       "Product  KP281  KP481  KP781\n",
       "Gender                      \n",
       "Female      40     29      7\n",
       "Male        40     31     32"
      ]
     },
     "execution_count": 29,
     "metadata": {},
     "output_type": "execute_result"
    }
   ],
   "source": [
    "pd.crosstab(df['Gender'], df['Product'])"
   ]
  },
  {
   "cell_type": "markdown",
   "id": "9960a43d",
   "metadata": {},
   "source": [
    "- Equal number of customers who purchased KP281 were Male as well as Female.\n",
    "- Number of customers who purchased KP481 were more Males than Females.\n",
    "- There are considerably more Males than there are Females who purchased KP781."
   ]
  },
  {
   "cell_type": "code",
   "execution_count": 30,
   "id": "b05deaca",
   "metadata": {
    "scrolled": true
   },
   "outputs": [
    {
     "data": {
      "text/html": [
       "<div>\n",
       "<style scoped>\n",
       "    .dataframe tbody tr th:only-of-type {\n",
       "        vertical-align: middle;\n",
       "    }\n",
       "\n",
       "    .dataframe tbody tr th {\n",
       "        vertical-align: top;\n",
       "    }\n",
       "\n",
       "    .dataframe thead th {\n",
       "        text-align: right;\n",
       "    }\n",
       "</style>\n",
       "<table border=\"1\" class=\"dataframe\">\n",
       "  <thead>\n",
       "    <tr style=\"text-align: right;\">\n",
       "      <th>Product</th>\n",
       "      <th>KP281</th>\n",
       "      <th>KP481</th>\n",
       "      <th>KP781</th>\n",
       "    </tr>\n",
       "    <tr>\n",
       "      <th>Gender</th>\n",
       "      <th></th>\n",
       "      <th></th>\n",
       "      <th></th>\n",
       "    </tr>\n",
       "  </thead>\n",
       "  <tbody>\n",
       "    <tr>\n",
       "      <th>Female</th>\n",
       "      <td>0.526316</td>\n",
       "      <td>0.381579</td>\n",
       "      <td>0.092105</td>\n",
       "    </tr>\n",
       "    <tr>\n",
       "      <th>Male</th>\n",
       "      <td>0.388350</td>\n",
       "      <td>0.300971</td>\n",
       "      <td>0.310680</td>\n",
       "    </tr>\n",
       "  </tbody>\n",
       "</table>\n",
       "</div>"
      ],
      "text/plain": [
       "Product     KP281     KP481     KP781\n",
       "Gender                               \n",
       "Female   0.526316  0.381579  0.092105\n",
       "Male     0.388350  0.300971  0.310680"
      ]
     },
     "execution_count": 30,
     "metadata": {},
     "output_type": "execute_result"
    }
   ],
   "source": [
    "pd.crosstab(df['Gender'], df['Product'],normalize='index')"
   ]
  },
  {
   "cell_type": "markdown",
   "id": "335fd0fa",
   "metadata": {},
   "source": [
    "Probability of Female or male purchased different product types."
   ]
  },
  {
   "cell_type": "code",
   "execution_count": 31,
   "id": "32b25c44",
   "metadata": {},
   "outputs": [
    {
     "data": {
      "text/html": [
       "<div>\n",
       "<style scoped>\n",
       "    .dataframe tbody tr th:only-of-type {\n",
       "        vertical-align: middle;\n",
       "    }\n",
       "\n",
       "    .dataframe tbody tr th {\n",
       "        vertical-align: top;\n",
       "    }\n",
       "\n",
       "    .dataframe thead th {\n",
       "        text-align: right;\n",
       "    }\n",
       "</style>\n",
       "<table border=\"1\" class=\"dataframe\">\n",
       "  <thead>\n",
       "    <tr style=\"text-align: right;\">\n",
       "      <th>Product</th>\n",
       "      <th>KP281</th>\n",
       "      <th>KP481</th>\n",
       "      <th>KP781</th>\n",
       "    </tr>\n",
       "    <tr>\n",
       "      <th>Fitness</th>\n",
       "      <th></th>\n",
       "      <th></th>\n",
       "      <th></th>\n",
       "    </tr>\n",
       "  </thead>\n",
       "  <tbody>\n",
       "    <tr>\n",
       "      <th>1</th>\n",
       "      <td>1</td>\n",
       "      <td>1</td>\n",
       "      <td>0</td>\n",
       "    </tr>\n",
       "    <tr>\n",
       "      <th>2</th>\n",
       "      <td>14</td>\n",
       "      <td>12</td>\n",
       "      <td>0</td>\n",
       "    </tr>\n",
       "    <tr>\n",
       "      <th>3</th>\n",
       "      <td>54</td>\n",
       "      <td>39</td>\n",
       "      <td>4</td>\n",
       "    </tr>\n",
       "    <tr>\n",
       "      <th>4</th>\n",
       "      <td>9</td>\n",
       "      <td>8</td>\n",
       "      <td>7</td>\n",
       "    </tr>\n",
       "    <tr>\n",
       "      <th>5</th>\n",
       "      <td>2</td>\n",
       "      <td>0</td>\n",
       "      <td>28</td>\n",
       "    </tr>\n",
       "  </tbody>\n",
       "</table>\n",
       "</div>"
      ],
      "text/plain": [
       "Product  KP281  KP481  KP781\n",
       "Fitness                     \n",
       "1            1      1      0\n",
       "2           14     12      0\n",
       "3           54     39      4\n",
       "4            9      8      7\n",
       "5            2      0     28"
      ]
     },
     "execution_count": 31,
     "metadata": {},
     "output_type": "execute_result"
    }
   ],
   "source": [
    "pd.crosstab(df['Fitness'], df['Product'])"
   ]
  },
  {
   "cell_type": "code",
   "execution_count": 32,
   "id": "3eb628fc",
   "metadata": {},
   "outputs": [
    {
     "data": {
      "text/html": [
       "<div>\n",
       "<style scoped>\n",
       "    .dataframe tbody tr th:only-of-type {\n",
       "        vertical-align: middle;\n",
       "    }\n",
       "\n",
       "    .dataframe tbody tr th {\n",
       "        vertical-align: top;\n",
       "    }\n",
       "\n",
       "    .dataframe thead th {\n",
       "        text-align: right;\n",
       "    }\n",
       "</style>\n",
       "<table border=\"1\" class=\"dataframe\">\n",
       "  <thead>\n",
       "    <tr style=\"text-align: right;\">\n",
       "      <th>Product</th>\n",
       "      <th>KP281</th>\n",
       "      <th>KP481</th>\n",
       "      <th>KP781</th>\n",
       "    </tr>\n",
       "    <tr>\n",
       "      <th>Fitness</th>\n",
       "      <th></th>\n",
       "      <th></th>\n",
       "      <th></th>\n",
       "    </tr>\n",
       "  </thead>\n",
       "  <tbody>\n",
       "    <tr>\n",
       "      <th>1</th>\n",
       "      <td>0.500000</td>\n",
       "      <td>0.500000</td>\n",
       "      <td>0.000000</td>\n",
       "    </tr>\n",
       "    <tr>\n",
       "      <th>2</th>\n",
       "      <td>0.538462</td>\n",
       "      <td>0.461538</td>\n",
       "      <td>0.000000</td>\n",
       "    </tr>\n",
       "    <tr>\n",
       "      <th>3</th>\n",
       "      <td>0.556701</td>\n",
       "      <td>0.402062</td>\n",
       "      <td>0.041237</td>\n",
       "    </tr>\n",
       "    <tr>\n",
       "      <th>4</th>\n",
       "      <td>0.375000</td>\n",
       "      <td>0.333333</td>\n",
       "      <td>0.291667</td>\n",
       "    </tr>\n",
       "    <tr>\n",
       "      <th>5</th>\n",
       "      <td>0.066667</td>\n",
       "      <td>0.000000</td>\n",
       "      <td>0.933333</td>\n",
       "    </tr>\n",
       "  </tbody>\n",
       "</table>\n",
       "</div>"
      ],
      "text/plain": [
       "Product     KP281     KP481     KP781\n",
       "Fitness                              \n",
       "1        0.500000  0.500000  0.000000\n",
       "2        0.538462  0.461538  0.000000\n",
       "3        0.556701  0.402062  0.041237\n",
       "4        0.375000  0.333333  0.291667\n",
       "5        0.066667  0.000000  0.933333"
      ]
     },
     "execution_count": 32,
     "metadata": {},
     "output_type": "execute_result"
    }
   ],
   "source": [
    "pd.crosstab(df['Fitness'], df['Product'],normalize='index')"
   ]
  },
  {
   "cell_type": "markdown",
   "id": "c76ed434",
   "metadata": {},
   "source": [
    "Lower fitness people have purchased KP281 and KP481 product. Higher fitness people are mostly 93.33% are purchased KP781."
   ]
  },
  {
   "cell_type": "code",
   "execution_count": 33,
   "id": "115083d2",
   "metadata": {},
   "outputs": [
    {
     "data": {
      "text/html": [
       "<div>\n",
       "<style scoped>\n",
       "    .dataframe tbody tr th:only-of-type {\n",
       "        vertical-align: middle;\n",
       "    }\n",
       "\n",
       "    .dataframe tbody tr th {\n",
       "        vertical-align: top;\n",
       "    }\n",
       "\n",
       "    .dataframe thead th {\n",
       "        text-align: right;\n",
       "    }\n",
       "</style>\n",
       "<table border=\"1\" class=\"dataframe\">\n",
       "  <thead>\n",
       "    <tr style=\"text-align: right;\">\n",
       "      <th>Product</th>\n",
       "      <th>KP281</th>\n",
       "      <th>KP481</th>\n",
       "      <th>KP781</th>\n",
       "    </tr>\n",
       "    <tr>\n",
       "      <th>Usage</th>\n",
       "      <th></th>\n",
       "      <th></th>\n",
       "      <th></th>\n",
       "    </tr>\n",
       "  </thead>\n",
       "  <tbody>\n",
       "    <tr>\n",
       "      <th>2</th>\n",
       "      <td>0.575758</td>\n",
       "      <td>0.424242</td>\n",
       "      <td>0.000000</td>\n",
       "    </tr>\n",
       "    <tr>\n",
       "      <th>3</th>\n",
       "      <td>0.536232</td>\n",
       "      <td>0.449275</td>\n",
       "      <td>0.014493</td>\n",
       "    </tr>\n",
       "    <tr>\n",
       "      <th>4</th>\n",
       "      <td>0.431373</td>\n",
       "      <td>0.235294</td>\n",
       "      <td>0.333333</td>\n",
       "    </tr>\n",
       "    <tr>\n",
       "      <th>5</th>\n",
       "      <td>0.117647</td>\n",
       "      <td>0.176471</td>\n",
       "      <td>0.705882</td>\n",
       "    </tr>\n",
       "    <tr>\n",
       "      <th>6</th>\n",
       "      <td>0.000000</td>\n",
       "      <td>0.000000</td>\n",
       "      <td>1.000000</td>\n",
       "    </tr>\n",
       "    <tr>\n",
       "      <th>7</th>\n",
       "      <td>0.000000</td>\n",
       "      <td>0.000000</td>\n",
       "      <td>1.000000</td>\n",
       "    </tr>\n",
       "  </tbody>\n",
       "</table>\n",
       "</div>"
      ],
      "text/plain": [
       "Product     KP281     KP481     KP781\n",
       "Usage                                \n",
       "2        0.575758  0.424242  0.000000\n",
       "3        0.536232  0.449275  0.014493\n",
       "4        0.431373  0.235294  0.333333\n",
       "5        0.117647  0.176471  0.705882\n",
       "6        0.000000  0.000000  1.000000\n",
       "7        0.000000  0.000000  1.000000"
      ]
     },
     "execution_count": 33,
     "metadata": {},
     "output_type": "execute_result"
    }
   ],
   "source": [
    "pd.crosstab(df['Usage'], df['Product'],normalize='index')"
   ]
  },
  {
   "cell_type": "markdown",
   "id": "f88605c0",
   "metadata": {},
   "source": [
    "Lower Usage people have purchased KP281 and KP481 product. Higher Usage people all of them purchased KP781. You can see the probability of usage 6 and 7."
   ]
  },
  {
   "cell_type": "code",
   "execution_count": 34,
   "id": "5176a6a5",
   "metadata": {},
   "outputs": [
    {
     "data": {
      "text/plain": [
       "<AxesSubplot:xlabel='Age', ylabel='Income'>"
      ]
     },
     "execution_count": 34,
     "metadata": {},
     "output_type": "execute_result"
    },
    {
     "data": {
      "image/png": "[encoded data removed]",
      "text/plain": [
       "<Figure size 432x288 with 1 Axes>"
      ]
     },
     "metadata": {
      "needs_background": "light"
     },
     "output_type": "display_data"
    }
   ],
   "source": [
    "sns.scatterplot(x='Age', y='Income', hue='Product', data=df)"
   ]
  },
  {
   "cell_type": "code",
   "execution_count": 35,
   "id": "368b02c1",
   "metadata": {},
   "outputs": [
    {
     "data": {
      "text/plain": [
       "<seaborn.axisgrid.FacetGrid at 0x1d35cb4dd60>"
      ]
     },
     "execution_count": 35,
     "metadata": {},
     "output_type": "execute_result"
    },
    {
     "data": {
      "text/plain": [
       "<Figure size 864x504 with 0 Axes>"
      ]
     },
     "metadata": {},
     "output_type": "display_data"
    },
    {
     "data": {
      "image/png": "[encoded data removed]",
      "text/plain": [
       "<Figure size 787.5x360 with 2 Axes>"
      ]
     },
     "metadata": {
      "needs_background": "light"
     },
     "output_type": "display_data"
    }
   ],
   "source": [
    "plt.figure(figsize=(12,7))\n",
    "sns.catplot(x='Usage', y='Income', col='Gender',hue='Product' ,kind=\"bar\", data=df) "
   ]
  },
  {
   "cell_type": "code",
   "execution_count": 36,
   "id": "ebc3dafe",
   "metadata": {
    "scrolled": false
   },
   "outputs": [
    {
     "data": {
      "image/png": "[encoded data removed]",
      "text/plain": [
       "<Figure size 499.5x432 with 1 Axes>"
      ]
     },
     "metadata": {
      "needs_background": "light"
     },
     "output_type": "display_data"
    }
   ],
   "source": [
    "#scatter plot between income, age ,product and usage\n",
    "sns.relplot(x=\"Age\", y=\"Income\", hue=\"Product\", size=\"Usage\",\n",
    "            sizes=(40, 400), alpha=.5,\n",
    "            height=6, data=df).set(title='INCOME BY AGE ,PRODUCT AND USAGE');"
   ]
  },
  {
   "cell_type": "markdown",
   "id": "355c0c5e",
   "metadata": {},
   "source": [
    "**OBSERVATION**\n",
    "\n",
    "- Products KP281 and KP481 are bought by people with lower than 70K as income and age is concentrated more in range of 23-35\n",
    "- Product KP781 is mainly bought by people with higher than 70K income and age falls in range of 23-30. -Majority of people who buys the KP781 expect that they will run more than consumers of the other two products, on average."
   ]
  },
  {
   "cell_type": "code",
   "execution_count": 37,
   "id": "e8dfc02d",
   "metadata": {},
   "outputs": [
    {
     "data": {
      "text/html": [
       "<div>\n",
       "<style scoped>\n",
       "    .dataframe tbody tr th:only-of-type {\n",
       "        vertical-align: middle;\n",
       "    }\n",
       "\n",
       "    .dataframe tbody tr th {\n",
       "        vertical-align: top;\n",
       "    }\n",
       "\n",
       "    .dataframe thead th {\n",
       "        text-align: right;\n",
       "    }\n",
       "</style>\n",
       "<table border=\"1\" class=\"dataframe\">\n",
       "  <thead>\n",
       "    <tr style=\"text-align: right;\">\n",
       "      <th></th>\n",
       "      <th>Age</th>\n",
       "      <th>Education</th>\n",
       "      <th>Usage</th>\n",
       "      <th>Fitness</th>\n",
       "      <th>Income</th>\n",
       "      <th>Miles</th>\n",
       "    </tr>\n",
       "  </thead>\n",
       "  <tbody>\n",
       "    <tr>\n",
       "      <th>Age</th>\n",
       "      <td>1.000000</td>\n",
       "      <td>0.279851</td>\n",
       "      <td>0.012580</td>\n",
       "      <td>0.052834</td>\n",
       "      <td>0.510679</td>\n",
       "      <td>0.012666</td>\n",
       "    </tr>\n",
       "    <tr>\n",
       "      <th>Education</th>\n",
       "      <td>0.279851</td>\n",
       "      <td>1.000000</td>\n",
       "      <td>0.394766</td>\n",
       "      <td>0.411646</td>\n",
       "      <td>0.632181</td>\n",
       "      <td>0.323057</td>\n",
       "    </tr>\n",
       "    <tr>\n",
       "      <th>Usage</th>\n",
       "      <td>0.012580</td>\n",
       "      <td>0.394766</td>\n",
       "      <td>1.000000</td>\n",
       "      <td>0.669973</td>\n",
       "      <td>0.521330</td>\n",
       "      <td>0.803050</td>\n",
       "    </tr>\n",
       "    <tr>\n",
       "      <th>Fitness</th>\n",
       "      <td>0.052834</td>\n",
       "      <td>0.411646</td>\n",
       "      <td>0.669973</td>\n",
       "      <td>1.000000</td>\n",
       "      <td>0.524540</td>\n",
       "      <td>0.800373</td>\n",
       "    </tr>\n",
       "    <tr>\n",
       "      <th>Income</th>\n",
       "      <td>0.510679</td>\n",
       "      <td>0.632181</td>\n",
       "      <td>0.521330</td>\n",
       "      <td>0.524540</td>\n",
       "      <td>1.000000</td>\n",
       "      <td>0.523589</td>\n",
       "    </tr>\n",
       "    <tr>\n",
       "      <th>Miles</th>\n",
       "      <td>0.012666</td>\n",
       "      <td>0.323057</td>\n",
       "      <td>0.803050</td>\n",
       "      <td>0.800373</td>\n",
       "      <td>0.523589</td>\n",
       "      <td>1.000000</td>\n",
       "    </tr>\n",
       "  </tbody>\n",
       "</table>\n",
       "</div>"
      ],
      "text/plain": [
       "                Age  Education     Usage   Fitness    Income     Miles\n",
       "Age        1.000000   0.279851  0.012580  0.052834  0.510679  0.012666\n",
       "Education  0.279851   1.000000  0.394766  0.411646  0.632181  0.323057\n",
       "Usage      0.012580   0.394766  1.000000  0.669973  0.521330  0.803050\n",
       "Fitness    0.052834   0.411646  0.669973  1.000000  0.524540  0.800373\n",
       "Income     0.510679   0.632181  0.521330  0.524540  1.000000  0.523589\n",
       "Miles      0.012666   0.323057  0.803050  0.800373  0.523589  1.000000"
      ]
     },
     "execution_count": 37,
     "metadata": {},
     "output_type": "execute_result"
    }
   ],
   "source": [
    "df.corr()"
   ]
  },
  {
   "cell_type": "code",
   "execution_count": 38,
   "id": "57ce524e",
   "metadata": {},
   "outputs": [
    {
     "data": {
      "text/plain": [
       "<AxesSubplot:>"
      ]
     },
     "execution_count": 38,
     "metadata": {},
     "output_type": "execute_result"
    },
    {
     "data": {
      "image/png": "[encoded data removed]",
      "text/plain": [
       "<Figure size 432x288 with 2 Axes>"
      ]
     },
     "metadata": {
      "needs_background": "light"
     },
     "output_type": "display_data"
    }
   ],
   "source": [
    "sns.heatmap(df.corr())"
   ]
  },
  {
   "cell_type": "markdown",
   "id": "88bd650e",
   "metadata": {},
   "source": [
    "As we have discussed Usage, fitness, miles, Income are more correlated between them and these are the main components to choose the Product type."
   ]
  },
  {
   "cell_type": "code",
   "execution_count": null,
   "id": "8231a12d",
   "metadata": {},
   "outputs": [],
   "source": []
  }
 ],
 "metadata": {
  "kernelspec": {
   "display_name": "nx",
   "language": "python",
   "name": "nx"
  },
  "language_info": {
   "codemirror_mode": {
    "name": "ipython",
    "version": 3
   },
   "file_extension": ".py",
   "mimetype": "text/x-python",
   "name": "python",
   "nbconvert_exporter": "python",
   "pygments_lexer": "ipython3",
   "version": "3.8.8"
  }
 },
 "nbformat": 4,
 "nbformat_minor": 5
}
